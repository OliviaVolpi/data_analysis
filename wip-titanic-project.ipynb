{
 "cells": [
  {
   "cell_type": "markdown",
   "metadata": {
    "_cell_guid": "6c36a414-ae48-4b61-b985-2f602132581f",
    "_uuid": "d8b7f1e8-12d9-43bf-a219-79ef0c2b8e39"
   },
   "source": [
    "# WIP: Titanic Project.\n",
    "\n",
    "This notebook is based on Ken Jee's _Titanic Project Example Walk Through_.\n",
    "\n",
    "*Link to the notebook:* https://www.kaggle.com/code/kenjee/titanic-project-example/notebook\n",
    "\n",
    "*The accompanying video is located here:* https://www.youtube.com/watch?v=I3FBJdiExcg\n",
    "\n",
    "\n",
    "My project differs from Ken Jee's with:\n",
    "- more comments;\n",
    "- more visualization, using Seaborn;\n",
    "- different feature engineering."
   ]
  },
  {
   "cell_type": "markdown",
   "metadata": {},
   "source": [
    "# Overview\n",
    "[Back to Overview](#overview)\n",
    "<a id='overview'></a>\n",
    "\n",
    "0)[Set-up](#set-up) \n",
    "\n",
    "1)[Data Exploration](#data_exploration) \n",
    "\n",
    "2)[Missing data](#missing_data) \n",
    "\n",
    "   > [Missing data : Cabin](#missing_data_cabin) \n",
    "   \n",
    "   > [Missing data : Fare](#missing_data_fare) \n",
    "   \n",
    "   > [Missing data : Embarked](#missing_data_embarked) \n",
    "   \n",
    "   > [Missing data : Age](#missing_data_age) \n",
    "   \n",
    "   "
   ]
  },
  {
   "cell_type": "markdown",
   "metadata": {},
   "source": [
    "# Set-up\n",
    "<a id='overview'></a>"
   ]
  },
  {
   "cell_type": "code",
   "execution_count": null,
   "metadata": {
    "_cell_guid": "14ffed57-1ade-4e8b-8449-2d2d074003e2",
    "_uuid": "082d353f-67b5-450b-bca1-82f237c2e757",
    "execution": {
     "iopub.execute_input": "2022-07-05T13:46:07.841046Z",
     "iopub.status.busy": "2022-07-05T13:46:07.840594Z",
     "iopub.status.idle": "2022-07-05T13:46:09.175265Z",
     "shell.execute_reply": "2022-07-05T13:46:09.174040Z",
     "shell.execute_reply.started": "2022-07-05T13:46:07.840956Z"
    },
    "jupyter": {
     "outputs_hidden": false
    }
   },
   "outputs": [],
   "source": [
    "# This Python 3 environment comes with many helpful analytics libraries installed\n",
    "# It is defined by the kaggle/python Docker image: https://github.com/kaggle/docker-python\n",
    "# For example, here's several helpful packages to load\n",
    "\n",
    "import numpy as np # linear algebra\n",
    "import pandas as pd # data processing, CSV file I/O (e.g. pd.read_csv)\n",
    "import seaborn as sns \n",
    "import matplotlib.pyplot as plt\n",
    "\n",
    "# Input data files are available in the read-only \"../input/\" directory\n",
    "# For example, running this (by clicking run or pressing Shift+Enter) will list all files under the input directory\n",
    "\n",
    "import os\n",
    "for dirname, _, filenames in os.walk('/kaggle/input'):\n",
    "    for filename in filenames:\n",
    "        print(os.path.join(dirname, filename))\n",
    "        \n",
    "        \n",
    "# You can write up to 5GB to the current directory (/kaggle/working/) that gets preserved as output when you create a version using \"Save & Run All\" \n",
    "# You can also write temporary files to /kaggle/temp/, but they won't be saved outside of the current session"
   ]
  },
  {
   "cell_type": "markdown",
   "metadata": {
    "_cell_guid": "29cdd0bb-1c8e-4dc3-9507-1fa76ff52aa8",
    "_uuid": "15ceb0fa-749e-4c90-b63b-2d37fb96d25f"
   },
   "source": [
    "### Importation of the data\n",
    "Importation of the train and test data. "
   ]
  },
  {
   "cell_type": "code",
   "execution_count": null,
   "metadata": {
    "_cell_guid": "5df98d1f-5c44-4d0d-a317-12ecf880c10a",
    "_uuid": "cc7f8a2e-7b35-4541-a088-88f0ccded82f",
    "execution": {
     "iopub.execute_input": "2022-07-05T13:46:18.102348Z",
     "iopub.status.busy": "2022-07-05T13:46:18.101918Z",
     "iopub.status.idle": "2022-07-05T13:46:18.139656Z",
     "shell.execute_reply": "2022-07-05T13:46:18.138689Z",
     "shell.execute_reply.started": "2022-07-05T13:46:18.102312Z"
    },
    "jupyter": {
     "outputs_hidden": false
    }
   },
   "outputs": [],
   "source": [
    "train = pd.read_csv('/kaggle/input/titanic/train.csv')\n",
    "# the dataframe is given a specific name for later use\n",
    "train.name= 'train'\n",
    "\n",
    "test = pd.read_csv('/kaggle/input/titanic/test.csv')\n",
    "test.name='test'\n",
    "\n",
    "#train['train_test'] = 1\n",
    "#test['train_test'] = 0\n",
    "# All the values of the \"Survival\" column of the test DF are set as Nan\n",
    "#test['Survived'] = np.NaN\n",
    "#all_data = pd.concat([train,test])\n",
    "\n",
    "#%matplotlib inline\n",
    "import matplotlib as mpl\n",
    "mpl.style.use(['fivethirtyeight'])\n",
    "#all_data.columns\n",
    "\n"
   ]
  },
  {
   "cell_type": "markdown",
   "metadata": {
    "_cell_guid": "cb548dfe-2e44-486b-8a20-637d57fc4e35",
    "_uuid": "1233657f-5f84-4c3d-9fa4-80dc0d5bc37d"
   },
   "source": [
    "# 1) Data Exploration\n",
    "<a id='data_exploration'></a>\n",
    "### 1) For numeric data \n",
    "* Made histograms to understand distributions \n",
    "* Corrplot \n",
    "* Pivot table comparing survival rate across numeric variables \n",
    "\n",
    "\n",
    "### 2) For Categorical Data \n",
    "* Made bar charts to understand balance of classes \n",
    "* Made pivot tables to understand relationship with survival"
   ]
  },
  {
   "cell_type": "code",
   "execution_count": null,
   "metadata": {
    "_cell_guid": "60c39ae9-9fd0-4a6d-b75f-710016af18a6",
    "_uuid": "0bf64096-9d3c-4ef6-8659-d982195d1a24",
    "execution": {
     "iopub.execute_input": "2022-06-28T13:54:47.070265Z",
     "iopub.status.busy": "2022-06-28T13:54:47.069243Z",
     "iopub.status.idle": "2022-06-28T13:54:47.097687Z",
     "shell.execute_reply": "2022-06-28T13:54:47.094785Z",
     "shell.execute_reply.started": "2022-06-28T13:54:47.070199Z"
    }
   },
   "outputs": [],
   "source": [
    "#distributions for all numeric variables \n",
    "import matplotlib as mpl\n",
    "mpl.style.use(['fivethirtyeight'])\n",
    "for i in df_num.columns:\n",
    "    nb_values=df_num[i].nunique()\n",
    "    labels=df_num[i].unique()\n",
    "    df_num[i].plot(kind = 'hist',\n",
    "                  figsize=(6,4),\n",
    "                  bins=nb_values,\n",
    "                  xticks=(labels)\n",
    "                  )\n",
    "    #plt.hist(df_num[i])\n",
    "    plt.title(i) \n",
    "    plt.show()"
   ]
  },
  {
   "cell_type": "code",
   "execution_count": null,
   "metadata": {
    "_cell_guid": "0ecdcf49-bc9a-4adf-90d8-b78ec97deb05",
    "_uuid": "17bec9de-6591-4185-92c7-750cf5f42b83",
    "execution": {
     "iopub.status.busy": "2022-06-28T13:54:47.099033Z",
     "iopub.status.idle": "2022-06-28T13:54:47.099815Z",
     "shell.execute_reply": "2022-06-28T13:54:47.099323Z",
     "shell.execute_reply.started": "2022-06-28T13:54:47.0993Z"
    },
    "jupyter": {
     "outputs_hidden": false
    }
   },
   "outputs": [],
   "source": [
    "df_num.Survived.value_counts()"
   ]
  },
  {
   "cell_type": "markdown",
   "metadata": {
    "_cell_guid": "ba7278bb-9d88-4eea-8976-6eea66d41c84",
    "_uuid": "481f47d9-7b79-48d0-818e-7a34c66dd39c",
    "execution": {
     "iopub.execute_input": "2022-06-13T12:46:07.842781Z",
     "iopub.status.busy": "2022-06-13T12:46:07.842212Z",
     "iopub.status.idle": "2022-06-13T12:46:09.003246Z",
     "shell.execute_reply": "2022-06-13T12:46:09.002216Z",
     "shell.execute_reply.started": "2022-06-13T12:46:07.84273Z"
    }
   },
   "source": [
    "The histograms show the distribution of the numerical variables: some of these distributions provide insight (some less so). \n",
    "\n",
    "> PassengerId': the distibution show that each id is unique\n",
    ">'Survived': a majority of people didn't survive (which was known already)\n",
    ">'Pclass' : most passengers were in third class (which is logical, as by definition privileged people are fewer)\n",
    ">'Age' : is almost a normal distribution, with most passengers being under forty\n",
    ">'SibSp', \n",
    ">'Parch', \n",
    ">'Fare'"
   ]
  },
  {
   "cell_type": "code",
   "execution_count": null,
   "metadata": {
    "_cell_guid": "7fed881c-6ac6-46b2-88c3-b242bd4db701",
    "_uuid": "98fb39fc-8859-4656-9eb4-7a9f0173f3cb",
    "execution": {
     "iopub.status.busy": "2022-06-28T13:54:47.102106Z",
     "iopub.status.idle": "2022-06-28T13:54:47.102868Z",
     "shell.execute_reply": "2022-06-28T13:54:47.102513Z",
     "shell.execute_reply.started": "2022-06-28T13:54:47.102488Z"
    },
    "jupyter": {
     "outputs_hidden": false
    }
   },
   "outputs": [],
   "source": [
    "print(df_num.corr())\n",
    "sns.heatmap(df_num.corr())"
   ]
  },
  {
   "cell_type": "code",
   "execution_count": null,
   "metadata": {
    "_cell_guid": "f441c8e1-c147-49f5-a6b0-9e3f469f59f2",
    "_uuid": "3bc95332-7d3e-4643-bed8-eb8d98daf536",
    "execution": {
     "iopub.status.busy": "2022-06-28T13:54:47.104793Z",
     "iopub.status.idle": "2022-06-28T13:54:47.105649Z",
     "shell.execute_reply": "2022-06-28T13:54:47.105454Z",
     "shell.execute_reply.started": "2022-06-28T13:54:47.105429Z"
    },
    "jupyter": {
     "outputs_hidden": false
    }
   },
   "outputs": [],
   "source": [
    "# compare survival rate across Age, SibSp, Parch, and Fare \n",
    "pd.pivot_table(train, index = 'Survived', values = ['Age','SibSp','Parch','Fare'])"
   ]
  },
  {
   "cell_type": "code",
   "execution_count": null,
   "metadata": {
    "_cell_guid": "79205786-181b-4b9a-9ff0-0b01004bc8d1",
    "_uuid": "c3c86dc9-750a-4678-be82-b0dd43a2772e",
    "execution": {
     "iopub.status.busy": "2022-06-28T13:54:47.106981Z",
     "iopub.status.idle": "2022-06-28T13:54:47.107405Z",
     "shell.execute_reply": "2022-06-28T13:54:47.107234Z",
     "shell.execute_reply.started": "2022-06-28T13:54:47.107214Z"
    },
    "jupyter": {
     "outputs_hidden": false
    }
   },
   "outputs": [],
   "source": [
    "for i in df_cat.columns:\n",
    "    sns.barplot(df_cat[i].value_counts().index,df_cat[i].value_counts()).set_title(i)\n",
    "    plt.show()\\"
   ]
  },
  {
   "cell_type": "code",
   "execution_count": null,
   "metadata": {
    "_cell_guid": "dfdb6860-ccf9-4d9a-9004-e77084088214",
    "_uuid": "6bd91773-c784-4e9c-94bf-b407ef608f40",
    "execution": {
     "iopub.status.busy": "2022-06-28T13:54:47.109776Z",
     "iopub.status.idle": "2022-06-28T13:54:47.110328Z",
     "shell.execute_reply": "2022-06-28T13:54:47.110106Z",
     "shell.execute_reply.started": "2022-06-28T13:54:47.110083Z"
    },
    "jupyter": {
     "outputs_hidden": false
    }
   },
   "outputs": [],
   "source": [
    "# Comparing survival and each of these categorical variables \n",
    "print(pd.pivot_table(train, index = 'Survived', columns = 'Pclass', values = 'Ticket' ,aggfunc ='count'))\n",
    "print()\n",
    "print(pd.pivot_table(train, index = 'Survived', columns = 'Sex', values = 'Ticket' ,aggfunc ='count'))\n",
    "print()\n",
    "print(pd.pivot_table(train, index = 'Survived', columns = 'Embarked', values = 'Ticket' ,aggfunc ='count'))"
   ]
  },
  {
   "cell_type": "markdown",
   "metadata": {},
   "source": [
    "[Back to Overview](#overview)"
   ]
  },
  {
   "cell_type": "markdown",
   "metadata": {
    "_cell_guid": "84afb93a-d70c-4444-ba71-9141d3f63760",
    "_uuid": "16d4324d-bbf3-4503-80ce-1c4da4d14a97"
   },
   "source": [
    "# 2) Missing data\n",
    "<a id='missing_data'></a>"
   ]
  },
  {
   "cell_type": "markdown",
   "metadata": {},
   "source": [
    "[Back to Overview](#overview)"
   ]
  },
  {
   "cell_type": "code",
   "execution_count": null,
   "metadata": {
    "_cell_guid": "688ed030-0143-4255-806c-04ee873e9146",
    "_uuid": "381b9306-bf15-4744-b4bd-11fca3926abd",
    "execution": {
     "iopub.execute_input": "2022-06-13T19:46:02.727699Z",
     "iopub.status.busy": "2022-06-13T19:46:02.727155Z",
     "iopub.status.idle": "2022-06-13T19:46:02.737849Z",
     "shell.execute_reply": "2022-06-13T19:46:02.736817Z",
     "shell.execute_reply.started": "2022-06-13T19:46:02.727648Z"
    }
   },
   "outputs": [],
   "source": [
    "for df in [train, test]:\n",
    "    col_null= df.columns[df.isna().any()].tolist()\n",
    "    print('The columns ',col_null,'from the', df.name,' set contain a least one null value. ')"
   ]
  },
  {
   "cell_type": "markdown",
   "metadata": {
    "_cell_guid": "b57e18bd-4c2e-4469-bb6b-88e0256773dd",
    "_uuid": "0b4fb0d5-89da-4cde-a4aa-cf155aaf1196"
   },
   "source": [
    "The train and test sets both have some missing values, in the Age and Cabin variables. \n",
    "The train set misses some data in the Embarked variable, and the test set in the Fare variable. \n",
    "\n",
    "What are the proportions of this missing data ?"
   ]
  },
  {
   "cell_type": "code",
   "execution_count": null,
   "metadata": {
    "_cell_guid": "98902b8f-5f71-4708-8983-3491ab01b1cb",
    "_uuid": "56ec0f46-a054-44e2-a4dc-a7460d9c8adf",
    "execution": {
     "iopub.execute_input": "2022-06-28T13:54:43.590508Z",
     "iopub.status.busy": "2022-06-28T13:54:43.589394Z",
     "iopub.status.idle": "2022-06-28T13:54:43.616458Z",
     "shell.execute_reply": "2022-06-28T13:54:43.614443Z",
     "shell.execute_reply.started": "2022-06-28T13:54:43.590464Z"
    },
    "jupyter": {
     "outputs_hidden": false
    }
   },
   "outputs": [],
   "source": [
    "for df in [train, test]:\n",
    "    print('Percent of missing data per columns in the',df.name, 'dataset:\\n'\n",
    "          ,df.isna().mean().round(4) * 100,'\\n')"
   ]
  },
  {
   "cell_type": "markdown",
   "metadata": {
    "_cell_guid": "d8759f57-c266-4241-a2d6-49cb5f435c1f",
    "_uuid": "766d43f5-c367-422b-949d-5c02452bf8e8",
    "execution": {
     "iopub.execute_input": "2022-06-13T19:54:54.8348Z",
     "iopub.status.busy": "2022-06-13T19:54:54.834398Z",
     "iopub.status.idle": "2022-06-13T19:54:54.845015Z",
     "shell.execute_reply": "2022-06-13T19:54:54.843963Z",
     "shell.execute_reply.started": "2022-06-13T19:54:54.834753Z"
    }
   },
   "source": [
    "### Missing data: the Cabin column\n",
    "<a id='missing_data_cabin'></a>\n",
    "\n",
    "In both sets, the __Cabin__ column misses __over 75% of the data__ : although the cabin number may give us information about location on the ship, that may have had an impact on survival (the clash with the iceberg happening during the night, when most passengers were presumably not strolling on the decks). \n",
    "\n",
    "In that case, we could either simply __drop the column__, or __replace the null values__ with some other values. Let's first check how these null values are distributed among the passenger classes : __is there a link between class and null value ?__"
   ]
  },
  {
   "cell_type": "markdown",
   "metadata": {},
   "source": [
    "[Back to Overview](#overview)"
   ]
  },
  {
   "cell_type": "code",
   "execution_count": null,
   "metadata": {
    "_cell_guid": "3e6a963d-3582-4fa2-a43b-c4dd2c86b6a3",
    "_uuid": "bd732109-d74d-4f53-bd7f-4d176bdf63c2",
    "execution": {
     "iopub.execute_input": "2022-06-28T13:54:43.619765Z",
     "iopub.status.busy": "2022-06-28T13:54:43.61911Z",
     "iopub.status.idle": "2022-06-28T13:54:43.636625Z",
     "shell.execute_reply": "2022-06-28T13:54:43.635375Z",
     "shell.execute_reply.started": "2022-06-28T13:54:43.619726Z"
    },
    "jupyter": {
     "outputs_hidden": false
    }
   },
   "outputs": [],
   "source": [
    "for df in [train, test]:\n",
    "    print(df.name,':\\n'\n",
    "          ,'There are',df.Cabin.count()\n",
    "          ,'not null values, and the null values per Passenger Class are:\\n'\n",
    "          ,df.groupby(['Pclass'])['Cabin'].apply(lambda x: x.isnull().sum()),'\\n')"
   ]
  },
  {
   "cell_type": "markdown",
   "metadata": {
    "_cell_guid": "2136b806-98dd-4dec-93eb-db4fc7935132",
    "_uuid": "103411b9-0107-47ce-93e8-e285c0d237dc",
    "execution": {
     "iopub.execute_input": "2022-06-13T20:58:18.055729Z",
     "iopub.status.busy": "2022-06-13T20:58:18.055384Z",
     "iopub.status.idle": "2022-06-13T20:58:18.068379Z",
     "shell.execute_reply": "2022-06-13T20:58:18.067621Z",
     "shell.execute_reply.started": "2022-06-13T20:58:18.0557Z"
    }
   },
   "source": [
    "no_cabin=test[['Cabin','Pclass']]\n",
    "no_cabin.groupby(['Pclass'])['Cabin'].apply(lambda x: x.isnull().sum())"
   ]
  },
  {
   "cell_type": "markdown",
   "metadata": {
    "_cell_guid": "c722f0d1-a220-4015-9598-6b3832b9c689",
    "_uuid": "929f64f2-1529-4c02-adb4-306d1b60659f"
   },
   "source": [
    "The missing values do not seem to depend on the passenger class. \n",
    "\n",
    "For the moment, I decide to __replace the missing values__ with 'NA' (\"not available\")."
   ]
  },
  {
   "cell_type": "code",
   "execution_count": null,
   "metadata": {
    "_cell_guid": "5cefc02d-234c-4e4c-bb68-a88ecf5a3d3a",
    "_uuid": "a9124eb6-3430-4ac3-b886-d384bb400563",
    "execution": {
     "iopub.execute_input": "2022-06-28T13:54:43.638819Z",
     "iopub.status.busy": "2022-06-28T13:54:43.638169Z",
     "iopub.status.idle": "2022-06-28T13:54:43.646221Z",
     "shell.execute_reply": "2022-06-28T13:54:43.644945Z",
     "shell.execute_reply.started": "2022-06-28T13:54:43.638776Z"
    },
    "jupyter": {
     "outputs_hidden": false
    }
   },
   "outputs": [],
   "source": [
    "for df in [train, test]:\n",
    "    df.Cabin.fillna('NA',inplace = True)"
   ]
  },
  {
   "cell_type": "code",
   "execution_count": null,
   "metadata": {
    "_cell_guid": "54c40f0c-71a2-43e0-afed-ef42b7742c0f",
    "_uuid": "6a42b3cd-6278-484e-961c-c8ae5c11fee6",
    "execution": {
     "iopub.execute_input": "2022-06-28T13:54:43.648658Z",
     "iopub.status.busy": "2022-06-28T13:54:43.647905Z",
     "iopub.status.idle": "2022-06-28T13:54:43.669563Z",
     "shell.execute_reply": "2022-06-28T13:54:43.668443Z",
     "shell.execute_reply.started": "2022-06-28T13:54:43.648579Z"
    },
    "jupyter": {
     "outputs_hidden": false
    }
   },
   "outputs": [],
   "source": [
    "for df in [train, test]:\n",
    "    print('Percent of missing data per columns in the',df.name, 'dataset:\\n'\n",
    "          ,df.isna().mean().round(4) * 100,'\\n')"
   ]
  },
  {
   "cell_type": "markdown",
   "metadata": {
    "_cell_guid": "8765411e-3293-4ff0-8867-9d9f2b5e345a",
    "_uuid": "9ff6cea8-9784-491d-b358-6169a2fa51f7",
    "execution": {
     "iopub.execute_input": "2022-06-13T19:54:54.8348Z",
     "iopub.status.busy": "2022-06-13T19:54:54.834398Z",
     "iopub.status.idle": "2022-06-13T19:54:54.845015Z",
     "shell.execute_reply": "2022-06-13T19:54:54.843963Z",
     "shell.execute_reply.started": "2022-06-13T19:54:54.834753Z"
    }
   },
   "source": [
    "### Missing data: the Fare column\n",
    "<a id='missing_data_fare'></a>\n",
    "\n",
    "The test set misses 0,24% of the __Fare__ column : for such a small number of values, a __replacement with the median or mode__ would suffice."
   ]
  },
  {
   "cell_type": "markdown",
   "metadata": {},
   "source": [
    "[Back to Overview](#overview)"
   ]
  },
  {
   "cell_type": "code",
   "execution_count": null,
   "metadata": {
    "_cell_guid": "fda1fc25-56cf-409a-9682-d0414c758000",
    "_uuid": "a484b4c0-aa88-46f8-9444-ab9e30c440f4",
    "execution": {
     "iopub.execute_input": "2022-06-28T13:54:43.67175Z",
     "iopub.status.busy": "2022-06-28T13:54:43.67134Z",
     "iopub.status.idle": "2022-06-28T13:54:44.296044Z",
     "shell.execute_reply": "2022-06-28T13:54:44.295176Z",
     "shell.execute_reply.started": "2022-06-28T13:54:43.671713Z"
    },
    "jupyter": {
     "outputs_hidden": false
    }
   },
   "outputs": [],
   "source": [
    "sns.displot(data=test,x='Fare')\n",
    "plt.show()"
   ]
  },
  {
   "cell_type": "code",
   "execution_count": null,
   "metadata": {
    "_cell_guid": "3820de85-f08b-48c2-ab47-611ac7c2a58e",
    "_uuid": "d4cb1069-42a4-44be-90c0-7364848c15ae",
    "execution": {
     "iopub.execute_input": "2022-06-28T13:54:44.299163Z",
     "iopub.status.busy": "2022-06-28T13:54:44.29838Z",
     "iopub.status.idle": "2022-06-28T13:54:45.024256Z",
     "shell.execute_reply": "2022-06-28T13:54:45.022842Z",
     "shell.execute_reply.started": "2022-06-28T13:54:44.299125Z"
    },
    "jupyter": {
     "outputs_hidden": false
    }
   },
   "outputs": [],
   "source": [
    "for df in [train, test]:\n",
    "    sns.displot(data=df,x='Fare',legend= True,height=4,aspect=2).set(title=df.name+' set')\n",
    "    plt.show()"
   ]
  },
  {
   "cell_type": "markdown",
   "metadata": {
    "_cell_guid": "430aea26-9adc-497a-af61-8691cbf3d612",
    "_uuid": "49e5c04a-86d8-42a7-83e1-088f21daf34a"
   },
   "source": [
    "Considering the __very skewed distribution__ of the Fare values, using the __mode__ (most frequent value) is a better fit than the median"
   ]
  },
  {
   "cell_type": "code",
   "execution_count": null,
   "metadata": {
    "_cell_guid": "5135031c-b109-4fc5-8cdf-a5ec55a0299c",
    "_uuid": "ce7085d0-0d7a-4d7f-8ea0-5f5eb6e726bd",
    "execution": {
     "iopub.execute_input": "2022-06-28T13:54:45.02655Z",
     "iopub.status.busy": "2022-06-28T13:54:45.026038Z",
     "iopub.status.idle": "2022-06-28T13:54:45.034734Z",
     "shell.execute_reply": "2022-06-28T13:54:45.033411Z",
     "shell.execute_reply.started": "2022-06-28T13:54:45.026502Z"
    },
    "jupyter": {
     "outputs_hidden": false
    }
   },
   "outputs": [],
   "source": [
    "for df in [train, test]:\n",
    "    #df.Fare.fillna(df.Fare.mode()[0], inplace = True)\n",
    "    df.Fare.fillna(df.Fare.mode, inplace = True)"
   ]
  },
  {
   "cell_type": "code",
   "execution_count": null,
   "metadata": {
    "_cell_guid": "e5e93570-7e01-4710-8a68-ecd8ad6cba33",
    "_uuid": "102395bc-018c-4f24-a3c0-74f878d7d39d",
    "execution": {
     "iopub.execute_input": "2022-06-28T13:54:45.037466Z",
     "iopub.status.busy": "2022-06-28T13:54:45.03645Z",
     "iopub.status.idle": "2022-06-28T13:54:45.057212Z",
     "shell.execute_reply": "2022-06-28T13:54:45.056284Z",
     "shell.execute_reply.started": "2022-06-28T13:54:45.037418Z"
    },
    "jupyter": {
     "outputs_hidden": false
    }
   },
   "outputs": [],
   "source": [
    "for df in [train, test]:\n",
    "    print('Percent of missing data per columns in the',df.name, 'dataset:\\n'\n",
    "          ,df.isna().mean().round(4) * 100,'\\n')"
   ]
  },
  {
   "cell_type": "markdown",
   "metadata": {
    "_cell_guid": "52490674-cf20-488d-b6f5-06c74a75ca9e",
    "_uuid": "19cbad8d-e1d2-4152-b600-337104c3f479"
   },
   "source": [
    "### Missing data: the Embarked column\n",
    "<a id='missing_data_embarked'></a>\n",
    "The train set misses a few of the __Embarked__ column values: \n",
    "\n",
    "First of all, is there a link between the port of embarkment and the chances of survival ?"
   ]
  },
  {
   "cell_type": "markdown",
   "metadata": {},
   "source": [
    "[Back to Overview](#overview)"
   ]
  },
  {
   "cell_type": "code",
   "execution_count": null,
   "metadata": {
    "_cell_guid": "c10fe0fc-b61d-4bf4-8659-518463602376",
    "_uuid": "981cb092-e51e-4500-bcb4-2eda08c32130",
    "execution": {
     "iopub.execute_input": "2022-06-28T13:54:45.059381Z",
     "iopub.status.busy": "2022-06-28T13:54:45.058499Z",
     "iopub.status.idle": "2022-06-28T13:54:45.067453Z",
     "shell.execute_reply": "2022-06-28T13:54:45.066493Z",
     "shell.execute_reply.started": "2022-06-28T13:54:45.05934Z"
    },
    "jupyter": {
     "outputs_hidden": false
    }
   },
   "outputs": [],
   "source": [
    "train.Embarked.isnull().sum()"
   ]
  },
  {
   "cell_type": "code",
   "execution_count": null,
   "metadata": {
    "execution": {
     "iopub.execute_input": "2022-06-28T13:54:45.069104Z",
     "iopub.status.busy": "2022-06-28T13:54:45.068759Z",
     "iopub.status.idle": "2022-06-28T13:54:45.083897Z",
     "shell.execute_reply": "2022-06-28T13:54:45.082729Z",
     "shell.execute_reply.started": "2022-06-28T13:54:45.069073Z"
    }
   },
   "outputs": [],
   "source": [
    "for df in [train, test]:\n",
    "    df['Emb_Was_Null']=df.Embarked.isnull()"
   ]
  },
  {
   "cell_type": "code",
   "execution_count": null,
   "metadata": {
    "_cell_guid": "7d1fca61-c603-4506-9814-81c362fbf8b4",
    "_uuid": "67e369ac-1757-4d0c-930b-6d36cb20bf5a",
    "execution": {
     "iopub.execute_input": "2022-06-28T13:54:45.085948Z",
     "iopub.status.busy": "2022-06-28T13:54:45.085376Z",
     "iopub.status.idle": "2022-06-28T13:54:45.272376Z",
     "shell.execute_reply": "2022-06-28T13:54:45.271192Z",
     "shell.execute_reply.started": "2022-06-28T13:54:45.085904Z"
    },
    "jupyter": {
     "outputs_hidden": false
    }
   },
   "outputs": [],
   "source": [
    "#mpl.style.use(['seaborn-white'])\n",
    "sns.countplot(data = train, x = 'Embarked', hue = 'Survived').set(title='Survival per boarding port')\n",
    "plt.show()"
   ]
  },
  {
   "cell_type": "markdown",
   "metadata": {
    "_cell_guid": "896564bd-aa9b-4297-a238-ae36d26a7e01",
    "_uuid": "9f4850ef-e981-4e86-809b-459960513f03"
   },
   "source": [
    "It seems the many passengers who boarded from Southampton ('S') had a lower rate of surivors compared to passengers boarding from either Cherbourg ('C') or Queenstown ('Q')."
   ]
  },
  {
   "cell_type": "code",
   "execution_count": null,
   "metadata": {
    "_cell_guid": "a15e0446-cc3f-4c18-90cb-c422b75e4ec2",
    "_uuid": "f2946f2c-f0bb-46aa-9700-a6921276fa1b",
    "execution": {
     "iopub.execute_input": "2022-06-28T13:54:45.274348Z",
     "iopub.status.busy": "2022-06-28T13:54:45.273899Z",
     "iopub.status.idle": "2022-06-28T13:54:45.698844Z",
     "shell.execute_reply": "2022-06-28T13:54:45.697896Z",
     "shell.execute_reply.started": "2022-06-28T13:54:45.27431Z"
    },
    "jupyter": {
     "outputs_hidden": false
    }
   },
   "outputs": [],
   "source": [
    "for df in [train, test]:\n",
    "    sns.countplot(data = df, x = 'Embarked', hue = 'Pclass').set(title=df.name +' set : Class per boarding port')\n",
    "    plt.show()"
   ]
  },
  {
   "cell_type": "markdown",
   "metadata": {
    "_cell_guid": "2da3e746-e0d0-46c2-bf5a-86b001fc0d3b",
    "_uuid": "d594b194-df5c-4592-bc96-4e1d9c7beab1"
   },
   "source": [
    "The __higher survival rate__ of passenger who boarded from Cherbourg might be linked to their __higher proportion of first-class passengers__, compared to the two other ports."
   ]
  },
  {
   "cell_type": "markdown",
   "metadata": {
    "_cell_guid": "4c2ea59c-8226-4024-94d9-991a876eb04d",
    "_uuid": "242c5e75-9446-4d1a-82f0-a6850ef19856"
   },
   "source": [
    "Let's refine some more and see if __gender__ has an impact on the __passenger class__."
   ]
  },
  {
   "cell_type": "code",
   "execution_count": null,
   "metadata": {
    "_cell_guid": "d90eb4d2-b5c5-483b-8c1c-a704806cb4c4",
    "_uuid": "0a477033-e76a-4dc0-bfd4-cd0f93818bcb",
    "execution": {
     "iopub.execute_input": "2022-06-28T13:54:45.701077Z",
     "iopub.status.busy": "2022-06-28T13:54:45.700105Z",
     "iopub.status.idle": "2022-06-28T13:54:46.105517Z",
     "shell.execute_reply": "2022-06-28T13:54:46.104623Z",
     "shell.execute_reply.started": "2022-06-28T13:54:45.701039Z"
    },
    "jupyter": {
     "outputs_hidden": false
    }
   },
   "outputs": [],
   "source": [
    "for df in [train, test]:\n",
    "    sns.countplot(data = df, x = 'Sex', hue = 'Pclass').set(title=df.name +' set : Class per Sex')\n",
    "    plt.show()"
   ]
  },
  {
   "cell_type": "markdown",
   "metadata": {
    "_cell_guid": "3aa555c6-cc57-4349-9357-6c1b40060316",
    "_uuid": "8b400b57-f781-4384-ba5b-389e5856c438",
    "execution": {
     "iopub.execute_input": "2022-06-17T09:09:13.182541Z",
     "iopub.status.busy": "2022-06-17T09:09:13.182106Z",
     "iopub.status.idle": "2022-06-17T09:09:13.208741Z",
     "shell.execute_reply": "2022-06-17T09:09:13.208062Z",
     "shell.execute_reply.started": "2022-06-17T09:09:13.1825Z"
    },
    "jupyter": {
     "outputs_hidden": false
    }
   },
   "source": [
    "for df in [train, test]:\n",
    "    grp=df.groupby(by=['Sex','Pclass'])\n",
    "    grp.Embarked.apply(lambda x: x.fillna(x.mode()))\n",
    "    df.Embarked.fillna(df.Embarked.mode, inplace = True)"
   ]
  },
  {
   "cell_type": "code",
   "execution_count": null,
   "metadata": {
    "execution": {
     "iopub.execute_input": "2022-06-28T13:54:46.10994Z",
     "iopub.status.busy": "2022-06-28T13:54:46.109404Z",
     "iopub.status.idle": "2022-06-28T13:54:46.128641Z",
     "shell.execute_reply": "2022-06-28T13:54:46.127315Z",
     "shell.execute_reply.started": "2022-06-28T13:54:46.109872Z"
    }
   },
   "outputs": [],
   "source": [
    "for df in [train, test]:\n",
    "    df['Embarked'] = df['Embarked'].fillna(df.groupby(['Sex','Pclass'])['Embarked']\n",
    "                                           .transform(lambda x : x.mode()[0]))\n"
   ]
  },
  {
   "cell_type": "code",
   "execution_count": null,
   "metadata": {
    "execution": {
     "iopub.execute_input": "2022-06-28T13:54:46.13059Z",
     "iopub.status.busy": "2022-06-28T13:54:46.130122Z",
     "iopub.status.idle": "2022-06-28T13:54:46.143482Z",
     "shell.execute_reply": "2022-06-28T13:54:46.142208Z",
     "shell.execute_reply.started": "2022-06-28T13:54:46.130536Z"
    }
   },
   "outputs": [],
   "source": [
    "# Let's check the changes\n",
    "for df in [train, test]:\n",
    "    check = df.loc[df.Emb_Was_Null == True]\n",
    "    if check.Embarked.isnull().sum() == 0:\n",
    "        df.drop(columns='Emb_Was_Null',inplace = True)\n",
    "    else:\n",
    "        print('try again')\n",
    "    "
   ]
  },
  {
   "cell_type": "code",
   "execution_count": null,
   "metadata": {
    "_cell_guid": "8be5193d-6a53-4722-8ded-e091f45422fe",
    "_uuid": "c45e1f51-41d2-43c1-befd-62354b6e2c88",
    "execution": {
     "iopub.execute_input": "2022-06-28T13:54:46.146331Z",
     "iopub.status.busy": "2022-06-28T13:54:46.14506Z",
     "iopub.status.idle": "2022-06-28T13:54:46.162359Z",
     "shell.execute_reply": "2022-06-28T13:54:46.161271Z",
     "shell.execute_reply.started": "2022-06-28T13:54:46.146273Z"
    },
    "jupyter": {
     "outputs_hidden": false
    }
   },
   "outputs": [],
   "source": [
    "for df in [train, test]:\n",
    "    print('Percent of missing data per columns in the',df.name, 'dataset:\\n'\n",
    "          ,df.isna().mean().round(4) * 100,'\\n')"
   ]
  },
  {
   "cell_type": "markdown",
   "metadata": {
    "_cell_guid": "219156b9-22e8-4d38-9549-9510d9808bdb",
    "_uuid": "a9daccd2-0446-49db-ad84-719574d08881"
   },
   "source": [
    "### Missing data: Age\n",
    "<a id='missing_data_age'></a>\n",
    "With help from this tutorial:\n",
    "https://towardsdatascience.com/a-beginners-guide-to-kaggle-s-titanic-problem-3193cb56f6ca"
   ]
  },
  {
   "cell_type": "markdown",
   "metadata": {},
   "source": [
    "[Back to Overview](#overview)"
   ]
  },
  {
   "cell_type": "code",
   "execution_count": null,
   "metadata": {
    "execution": {
     "iopub.execute_input": "2022-06-28T13:54:46.169311Z",
     "iopub.status.busy": "2022-06-28T13:54:46.16887Z",
     "iopub.status.idle": "2022-06-28T13:54:46.178861Z",
     "shell.execute_reply": "2022-06-28T13:54:46.177669Z",
     "shell.execute_reply.started": "2022-06-28T13:54:46.169267Z"
    }
   },
   "outputs": [],
   "source": [
    "for df in [train, test]:\n",
    "    df['Age_Was_Null']=df.Age.isnull()"
   ]
  },
  {
   "cell_type": "code",
   "execution_count": null,
   "metadata": {
    "_cell_guid": "272f7a73-4a2f-4ec2-a649-8cf8a037b012",
    "_uuid": "4975ccb0-185f-41b2-96d2-ecf37322c1f2",
    "execution": {
     "iopub.execute_input": "2022-06-28T13:54:46.180408Z",
     "iopub.status.busy": "2022-06-28T13:54:46.180037Z",
     "iopub.status.idle": "2022-06-28T13:54:47.006593Z",
     "shell.execute_reply": "2022-06-28T13:54:47.005497Z",
     "shell.execute_reply.started": "2022-06-28T13:54:46.180373Z"
    },
    "jupyter": {
     "outputs_hidden": false
    }
   },
   "outputs": [],
   "source": [
    "for df in [train, test]:\n",
    "    sns.displot(data=df, x=\"Age\", hue=\"Sex\", kind=\"kde\").set(title=df.name+' set : Distribution of Age per Gender')\n",
    "    plt.show()"
   ]
  },
  {
   "cell_type": "code",
   "execution_count": null,
   "metadata": {
    "_cell_guid": "aeb1e650-838a-4b7a-b8f1-a25555c76dec",
    "_uuid": "a4c9220d-5afd-4faf-8e0b-18f94f33eb38",
    "execution": {
     "iopub.execute_input": "2022-06-28T13:54:47.008458Z",
     "iopub.status.busy": "2022-06-28T13:54:47.007743Z",
     "iopub.status.idle": "2022-06-28T13:54:47.02619Z",
     "shell.execute_reply": "2022-06-28T13:54:47.024932Z",
     "shell.execute_reply.started": "2022-06-28T13:54:47.008407Z"
    },
    "jupyter": {
     "outputs_hidden": false
    }
   },
   "outputs": [],
   "source": [
    "men= train.query('Sex != \"female\"')\n",
    "women=train.query('Sex == \"female\"')\n",
    "print('The mean age for men is ',men.Age.mean().round()\n",
    "      ,'and the most frequent age is ',men.Age.mode().round(),'year old.\\n'\n",
    "      'The mean age for women is ',women.Age.mean().round()\n",
    "      ,'and the most frequent age is ',women.Age.mode().round(),'year old.\\n')"
   ]
  },
  {
   "cell_type": "markdown",
   "metadata": {
    "_cell_guid": "83961a9d-0073-46b2-8eb1-b99449bf0f4e",
    "_uuid": "63aa4fd5-016b-445c-a151-be71cd891b58"
   },
   "source": [
    "Although the __age distribution__ is fairly similar amongst __gender categories__, the __mean__ and __median__ differ sufficiently to make 'Sex' a relevant variable to determine the missing 'Age' values. "
   ]
  },
  {
   "cell_type": "code",
   "execution_count": null,
   "metadata": {
    "_cell_guid": "206707ac-58fb-4459-874b-48b54a9f4c8d",
    "_uuid": "62cdc9bb-1b26-44f8-b546-a7f93b1ad466",
    "execution": {
     "iopub.execute_input": "2022-06-28T13:54:47.028302Z",
     "iopub.status.busy": "2022-06-28T13:54:47.027915Z",
     "iopub.status.idle": "2022-06-28T13:54:47.051052Z",
     "shell.execute_reply": "2022-06-28T13:54:47.049541Z",
     "shell.execute_reply.started": "2022-06-28T13:54:47.028269Z"
    },
    "jupyter": {
     "outputs_hidden": false
    }
   },
   "outputs": [],
   "source": [
    "for df in [train, test]:\n",
    "    df['Title'] = df.Name.apply(lambda name: name.split(',')[1].split('.')[0].strip())\n",
    "    df['Age'] = df['Age'].fillna(df.groupby(['Sex','Title','Pclass'])['Age'].transform('median'))\n",
    "    # some titles may be rare in the dataset, leading to the median being Nan. In that case:\n",
    "    if df.Age.isnull().sum() > 0:\n",
    "        df['Age'] = df['Age'].fillna(df.groupby(['Sex','Pclass'])['Age'].transform('median'))\n",
    "    \n",
    "#train.head(20)"
   ]
  },
  {
   "cell_type": "code",
   "execution_count": null,
   "metadata": {
    "execution": {
     "iopub.execute_input": "2022-06-28T13:54:47.053468Z",
     "iopub.status.busy": "2022-06-28T13:54:47.052804Z",
     "iopub.status.idle": "2022-06-28T13:54:47.067441Z",
     "shell.execute_reply": "2022-06-28T13:54:47.065991Z",
     "shell.execute_reply.started": "2022-06-28T13:54:47.053421Z"
    }
   },
   "outputs": [],
   "source": [
    "# Let's check the changes\n",
    "for df in [train, test]:\n",
    "    check = df.loc[df.Age_Was_Null == True]\n",
    "    \n",
    "    if check.Age.isnull().sum() == 0:\n",
    "        df.drop(columns='Age_Was_Null',inplace = True)\n",
    "        print('No more null values in the Age column of the',df.name,'dataset.')\n",
    "    else:\n",
    "        print(df.name,'try again')"
   ]
  },
  {
   "cell_type": "markdown",
   "metadata": {
    "_cell_guid": "17e749ea-5102-49a4-bf9f-f1628ec76317",
    "_uuid": "96f7d20a-3b53-4c8b-b97d-4228d3a4de82"
   },
   "source": [
    "For later use, check the real ages:\n",
    "\n",
    "https://www.encyclopedia-titanica.org/titanic-passenger-list/"
   ]
  },
  {
   "cell_type": "markdown",
   "metadata": {
    "_cell_guid": "4800e357-e928-41cb-ba69-2d344014e231",
    "_uuid": "880ea5ca-755b-4c6f-8550-83eb50791bb4"
   },
   "source": [
    "# Else"
   ]
  },
  {
   "cell_type": "markdown",
   "metadata": {
    "_cell_guid": "9722b2b1-2b41-49ef-a031-5b04e36379df",
    "_uuid": "887c4924-b33b-4534-b6b4-107536d34bc6"
   },
   "source": [
    "## Feature Engineering \n",
    "### 1) Cabin - Simplify cabins (evaluated if cabin letter (cabin_adv) or the purchase of tickets across multiple cabins (cabin_multiple) impacted survival)\n",
    "\n",
    "### 2) Tickets - Do different ticket types impact survival rates?\n",
    "\n",
    "### 3) Does a person's title relate to survival rates?"
   ]
  },
  {
   "cell_type": "code",
   "execution_count": null,
   "metadata": {
    "_cell_guid": "3a608a71-a6eb-4b30-a4f5-7a6293ea6de1",
    "_uuid": "05e2f320-e3ed-41cf-9b7b-26cd7a43e15c",
    "execution": {
     "iopub.status.busy": "2022-06-28T13:54:47.112084Z",
     "iopub.status.idle": "2022-06-28T13:54:47.112572Z",
     "shell.execute_reply": "2022-06-28T13:54:47.112389Z",
     "shell.execute_reply.started": "2022-06-28T13:54:47.112366Z"
    },
    "jupyter": {
     "outputs_hidden": false
    }
   },
   "outputs": [],
   "source": [
    "df_cat.Cabin\n",
    "train['cabin_multiple'] = train.Cabin.apply(lambda x: 0 if pd.isna(x) else len(x.split(' ')))\n",
    "# after looking at this, we may want to look at cabin by letter or by number. Let's create some categories for this \n",
    "# letters \n",
    "# multiple letters \n",
    "train['cabin_multiple'].value_counts()"
   ]
  },
  {
   "cell_type": "code",
   "execution_count": null,
   "metadata": {
    "_cell_guid": "610fbc41-79cb-41ad-91bb-344de2f1a3dd",
    "_uuid": "1c92b03d-5913-4f4a-9b7e-573e79aa004b",
    "execution": {
     "iopub.status.busy": "2022-06-28T13:54:47.113822Z",
     "iopub.status.idle": "2022-06-28T13:54:47.114269Z",
     "shell.execute_reply": "2022-06-28T13:54:47.114097Z",
     "shell.execute_reply.started": "2022-06-28T13:54:47.114077Z"
    },
    "jupyter": {
     "outputs_hidden": false
    }
   },
   "outputs": [],
   "source": [
    "pd.pivot_table(train, index = 'Survived', columns = 'cabin_multiple', values = 'Ticket' ,aggfunc ='count')"
   ]
  },
  {
   "cell_type": "code",
   "execution_count": null,
   "metadata": {
    "_cell_guid": "d9daf006-eb8a-4169-9a1e-3795494a1cdf",
    "_uuid": "0599e868-c6f1-49ce-a270-947b6cf00d25",
    "execution": {
     "iopub.status.busy": "2022-06-28T13:54:47.117044Z",
     "iopub.status.idle": "2022-06-28T13:54:47.117534Z",
     "shell.execute_reply": "2022-06-28T13:54:47.117332Z",
     "shell.execute_reply.started": "2022-06-28T13:54:47.11731Z"
    },
    "jupyter": {
     "outputs_hidden": false
    }
   },
   "outputs": [],
   "source": [
    "#creates categories based on the cabin letter (n stands for null)\n",
    "#in this case we will treat null values like it's own category\n",
    "\n",
    "train['cabin_adv'] = train.Cabin.apply(lambda x: str(x)[0])"
   ]
  },
  {
   "cell_type": "code",
   "execution_count": null,
   "metadata": {
    "_cell_guid": "2cdbc8c4-b3fb-49fd-bf72-5905508ec1b9",
    "_uuid": "55743420-f8a6-487f-bc04-ba1a63b5351a",
    "execution": {
     "iopub.status.busy": "2022-06-28T13:54:47.118757Z",
     "iopub.status.idle": "2022-06-28T13:54:47.119241Z",
     "shell.execute_reply": "2022-06-28T13:54:47.119053Z",
     "shell.execute_reply.started": "2022-06-28T13:54:47.119033Z"
    },
    "jupyter": {
     "outputs_hidden": false
    }
   },
   "outputs": [],
   "source": [
    "#comparing surivial rate by cabin\n",
    "print(train.cabin_adv.value_counts())\n",
    "pd.pivot_table(train,index='Survived',columns='cabin_adv', values = 'Name', aggfunc='count')"
   ]
  },
  {
   "cell_type": "code",
   "execution_count": null,
   "metadata": {
    "_cell_guid": "ae7d6183-9c68-4e1b-b675-b6e34f4a000d",
    "_uuid": "7bf1a524-a200-41f8-b167-27bcb5995d95",
    "execution": {
     "iopub.status.busy": "2022-06-28T13:54:47.120587Z",
     "iopub.status.idle": "2022-06-28T13:54:47.121036Z",
     "shell.execute_reply": "2022-06-28T13:54:47.12083Z",
     "shell.execute_reply.started": "2022-06-28T13:54:47.12081Z"
    },
    "jupyter": {
     "outputs_hidden": false
    }
   },
   "outputs": [],
   "source": [
    "#understand ticket values better \n",
    "#numeric vs non numeric \n",
    "train['numeric_ticket'] = train.Ticket.apply(lambda x: 1 if x.isnumeric() else 0)\n",
    "train['ticket_letters'] = train.Ticket.apply(lambda x: ''.join(x.split(' ')[:-1]).replace('.','').replace('/','').lower() if len(x.split(' ')[:-1]) >0 else 0)"
   ]
  },
  {
   "cell_type": "code",
   "execution_count": null,
   "metadata": {
    "_cell_guid": "bfedbfd4-e96e-42b9-9f65-a97c8b9444e4",
    "_uuid": "dea3889b-197c-4f28-9bf7-4c447cfd412c",
    "execution": {
     "iopub.status.busy": "2022-06-28T13:54:47.12348Z",
     "iopub.status.idle": "2022-06-28T13:54:47.124458Z",
     "shell.execute_reply": "2022-06-28T13:54:47.124252Z",
     "shell.execute_reply.started": "2022-06-28T13:54:47.124228Z"
    },
    "jupyter": {
     "outputs_hidden": false
    }
   },
   "outputs": [],
   "source": [
    "train['numeric_ticket'].value_counts()"
   ]
  },
  {
   "cell_type": "code",
   "execution_count": null,
   "metadata": {
    "_cell_guid": "1f56554f-57f5-4ae1-9969-aab4e8b4c7c3",
    "_uuid": "d4554aef-fb6d-4047-8397-eeaa30128ee8",
    "execution": {
     "iopub.status.busy": "2022-06-28T13:54:47.125586Z",
     "iopub.status.idle": "2022-06-28T13:54:47.126027Z",
     "shell.execute_reply": "2022-06-28T13:54:47.125826Z",
     "shell.execute_reply.started": "2022-06-28T13:54:47.125807Z"
    },
    "jupyter": {
     "outputs_hidden": false
    }
   },
   "outputs": [],
   "source": [
    "#lets us view all rows in dataframe through scrolling. This is for convenience \n",
    "pd.set_option(\"max_rows\", None)\n",
    "train['ticket_letters'].value_counts()"
   ]
  },
  {
   "cell_type": "code",
   "execution_count": null,
   "metadata": {
    "_cell_guid": "f62acb87-3d5c-4cc8-bc12-f67719fdcdeb",
    "_uuid": "91cd3e8c-6a9a-4706-b667-d6123834eaf1",
    "execution": {
     "iopub.status.busy": "2022-06-28T13:54:47.127979Z",
     "iopub.status.idle": "2022-06-28T13:54:47.128399Z",
     "shell.execute_reply": "2022-06-28T13:54:47.128228Z",
     "shell.execute_reply.started": "2022-06-28T13:54:47.128208Z"
    },
    "jupyter": {
     "outputs_hidden": false
    }
   },
   "outputs": [],
   "source": [
    "#difference in numeric vs non-numeric tickets in survival rate \n",
    "pd.pivot_table(train,index='Survived',columns='numeric_ticket', values = 'Ticket', aggfunc='count')"
   ]
  },
  {
   "cell_type": "code",
   "execution_count": null,
   "metadata": {
    "_cell_guid": "9a07dc5d-82f7-47da-b7ea-98428670c4dd",
    "_uuid": "943bea0a-8ed0-4611-8763-08b2c0bc8070",
    "execution": {
     "iopub.status.busy": "2022-06-28T13:54:47.130301Z",
     "iopub.status.idle": "2022-06-28T13:54:47.13076Z",
     "shell.execute_reply": "2022-06-28T13:54:47.130551Z",
     "shell.execute_reply.started": "2022-06-28T13:54:47.130531Z"
    },
    "jupyter": {
     "outputs_hidden": false
    }
   },
   "outputs": [],
   "source": [
    "#survival rate across different tyicket types \n",
    "pd.pivot_table(train,index='Survived',columns='ticket_letters', values = 'Ticket', aggfunc='count')"
   ]
  },
  {
   "cell_type": "code",
   "execution_count": null,
   "metadata": {
    "_cell_guid": "c4256fea-d3a0-492a-a3a1-9a24e2416bbc",
    "_uuid": "17e603c9-58b6-48da-a09d-97bfdac19423",
    "execution": {
     "iopub.status.busy": "2022-06-28T13:54:47.132129Z",
     "iopub.status.idle": "2022-06-28T13:54:47.132613Z",
     "shell.execute_reply": "2022-06-28T13:54:47.132431Z",
     "shell.execute_reply.started": "2022-06-28T13:54:47.132405Z"
    },
    "jupyter": {
     "outputs_hidden": false
    }
   },
   "outputs": [],
   "source": [
    "#feature engineering on person's title \n",
    "train.Name.head(50)\n",
    "train['name_title'] = train.Name.apply(lambda x: x.split(',')[1].split('.')[0].strip())\n",
    "#mr., ms., master. etc"
   ]
  },
  {
   "cell_type": "code",
   "execution_count": null,
   "metadata": {
    "_cell_guid": "55827c6a-14d8-41a1-ae2c-aa31815c6ab8",
    "_uuid": "d0dd10c3-f4cc-4af5-9b8c-bcf2bd1b32ac",
    "execution": {
     "iopub.status.busy": "2022-06-28T13:54:47.133657Z",
     "iopub.status.idle": "2022-06-28T13:54:47.134081Z",
     "shell.execute_reply": "2022-06-28T13:54:47.133902Z",
     "shell.execute_reply.started": "2022-06-28T13:54:47.133861Z"
    },
    "jupyter": {
     "outputs_hidden": false
    }
   },
   "outputs": [],
   "source": [
    "train['name_title'].value_counts()"
   ]
  },
  {
   "cell_type": "markdown",
   "metadata": {
    "_cell_guid": "6f73723f-b0c4-4331-8ba8-6c226723eedb",
    "_uuid": "7f19b5f5-f5bd-450c-8586-a93e33ea1e1b"
   },
   "source": [
    "## Data Preprocessing for Model \n",
    "### 1) Drop null values from Embarked (only 2) \n",
    "\n",
    "### 2) Include only relevant variables (Since we have limited data, I wanted to exclude things like name and passanger ID so that we could have a reasonable number of features for our models to deal with) \n",
    "Variables:  'Pclass', 'Sex','Age', 'SibSp', 'Parch', 'Fare', 'Embarked', 'cabin_adv', 'cabin_multiple', 'numeric_ticket', 'name_title'\n",
    "\n",
    "### 3) Do categorical transforms on all data. Usually we would use a transformer, but with this approach we can ensure that our traning and test data have the same colums. We also may be able to infer something about the shape of the test data through this method. I will stress, this is generally not recommend outside of a competition (use onehot encoder). \n",
    "\n",
    "### 4) Impute data with mean for fare and age (Should also experiment with median) \n",
    "\n",
    "### 5) Normalized fare using logarithm to give more semblance of a normal distribution \n",
    "\n",
    "### 6) Scaled data 0-1 with standard scaler"
   ]
  },
  {
   "cell_type": "code",
   "execution_count": null,
   "metadata": {
    "_cell_guid": "fb11e393-fda6-4d41-b1fc-4d36624bdef8",
    "_uuid": "97794fc3-9f2d-4878-adc8-249ee5491ab6",
    "execution": {
     "iopub.status.busy": "2022-06-28T13:54:47.137609Z",
     "iopub.status.idle": "2022-06-28T13:54:47.138227Z",
     "shell.execute_reply": "2022-06-28T13:54:47.137959Z",
     "shell.execute_reply.started": "2022-06-28T13:54:47.137935Z"
    },
    "jupyter": {
     "outputs_hidden": false
    }
   },
   "outputs": [],
   "source": [
    "#create all categorical variables that we did above for both train and test sets \n",
    "all_data['cabin_multiple'] = all_data.Cabin.apply(lambda x: 0 if pd.isna(x) else len(x.split(' ')))\n",
    "all_data['cabin_adv'] = all_data.Cabin.apply(lambda x: str(x)[0])\n",
    "all_data['numeric_ticket'] = all_data.Ticket.apply(lambda x: 1 if x.isnumeric() else 0)\n",
    "all_data['ticket_letters'] = all_data.Ticket.apply(lambda x: ''.join(x.split(' ')[:-1]).replace('.','').replace('/','').lower() if len(x.split(' ')[:-1]) >0 else 0)\n",
    "all_data['name_title'] = all_data.Name.apply(lambda x: x.split(',')[1].split('.')[0].strip())\n",
    "\n",
    "#impute nulls for continuous data \n",
    "#all_data.Age = all_data.Age.fillna(train.Age.mean())\n",
    "all_data.Age = all_data.Age.fillna(train.Age.median())\n",
    "#all_data.Fare = all_data.Fare.fillna(train.Fare.mean())\n",
    "all_data.Fare = all_data.Fare.fillna(train.Fare.median())\n",
    "\n",
    "#drop null 'embarked' rows. Only 2 instances of this in train and 0 in test \n",
    "all_data.dropna(subset=['Embarked'],inplace = True)\n",
    "\n",
    "#tried log norm of sibsp (not used)\n",
    "all_data['norm_sibsp'] = np.log(all_data.SibSp+1)\n",
    "all_data['norm_sibsp'].hist()\n",
    "\n",
    "# log norm of fare (used)\n",
    "all_data['norm_fare'] = np.log(all_data.Fare+1)\n",
    "all_data['norm_fare'].hist()\n",
    "\n",
    "# converted fare to category for pd.get_dummies()\n",
    "all_data.Pclass = all_data.Pclass.astype(str)\n",
    "\n",
    "#created dummy variables from categories (also can use OneHotEncoder)\n",
    "all_dummies = pd.get_dummies(all_data[['Pclass','Sex','Age','SibSp','Parch','norm_fare','Embarked','cabin_adv','cabin_multiple','numeric_ticket','name_title','train_test']])\n",
    "\n",
    "#Split to train test again\n",
    "X_train = all_dummies[all_dummies.train_test == 1].drop(['train_test'], axis =1)\n",
    "X_test = all_dummies[all_dummies.train_test == 0].drop(['train_test'], axis =1)\n",
    "\n",
    "\n",
    "y_train = all_data[all_data.train_test==1].Survived\n",
    "y_train.shape"
   ]
  },
  {
   "cell_type": "code",
   "execution_count": null,
   "metadata": {
    "_cell_guid": "b54942cd-63a8-4ef6-bac9-d5c5645133a1",
    "_uuid": "daf7da03-7915-4af1-a544-267b73576c9f",
    "execution": {
     "iopub.status.busy": "2022-06-28T13:54:47.140105Z",
     "iopub.status.idle": "2022-06-28T13:54:47.140558Z",
     "shell.execute_reply": "2022-06-28T13:54:47.140391Z",
     "shell.execute_reply.started": "2022-06-28T13:54:47.140369Z"
    },
    "jupyter": {
     "outputs_hidden": false
    }
   },
   "outputs": [],
   "source": [
    "# Scale data \n",
    "from sklearn.preprocessing import StandardScaler\n",
    "scale = StandardScaler()\n",
    "all_dummies_scaled = all_dummies.copy()\n",
    "all_dummies_scaled[['Age','SibSp','Parch','norm_fare']]= scale.fit_transform(all_dummies_scaled[['Age','SibSp','Parch','norm_fare']])\n",
    "all_dummies_scaled\n",
    "\n",
    "X_train_scaled = all_dummies_scaled[all_dummies_scaled.train_test == 1].drop(['train_test'], axis =1)\n",
    "X_test_scaled = all_dummies_scaled[all_dummies_scaled.train_test == 0].drop(['train_test'], axis =1)\n",
    "\n",
    "y_train = all_data[all_data.train_test==1].Survived"
   ]
  },
  {
   "cell_type": "markdown",
   "metadata": {
    "_cell_guid": "56244e48-ecc4-4bd5-a717-67ca8a452098",
    "_uuid": "6944055c-be49-4a7b-9ef3-8b89cf4d9fc9"
   },
   "source": [
    "## Model Building (Baseline Validation Performance)\n",
    "Before going further, I like to see how various different models perform with default parameters. I tried the following models using 5 fold cross validation to get a baseline. With a validation set basline, we can see how much tuning improves each of the models. Just because a model has a high basline on this validation set doesn't mean that it will actually do better on the eventual test set. \n",
    "\n",
    "- Naive Bayes (72.6%)\n",
    "- Logistic Regression (82.1%)\n",
    "- Decision Tree (77.6%)\n",
    "- K Nearest Neighbor (80.5%)\n",
    "- Random Forest (80.6%)\n",
    "- **Support Vector Classifier (83.2%)**\n",
    "- Xtreme Gradient Boosting (81.8%)\n",
    "- Soft Voting Classifier - All Models (82.8%)"
   ]
  },
  {
   "cell_type": "code",
   "execution_count": null,
   "metadata": {
    "_cell_guid": "0fa40fc0-e944-4232-bd34-96732b65e8d6",
    "_uuid": "8a5e3d0a-931e-4c44-9930-a1896bdbf020",
    "execution": {
     "iopub.status.busy": "2022-06-28T13:54:47.141752Z",
     "iopub.status.idle": "2022-06-28T13:54:47.142147Z",
     "shell.execute_reply": "2022-06-28T13:54:47.141984Z",
     "shell.execute_reply.started": "2022-06-28T13:54:47.141966Z"
    },
    "jupyter": {
     "outputs_hidden": false
    }
   },
   "outputs": [],
   "source": [
    "from sklearn.model_selection import cross_val_score\n",
    "from sklearn.naive_bayes import GaussianNB\n",
    "from sklearn.linear_model import LogisticRegression\n",
    "from sklearn import tree\n",
    "from sklearn.neighbors import KNeighborsClassifier\n",
    "from sklearn.ensemble import RandomForestClassifier\n",
    "from sklearn.svm import SVC"
   ]
  },
  {
   "cell_type": "code",
   "execution_count": null,
   "metadata": {
    "_cell_guid": "b10f3d58-7ce0-4c75-a937-0243fa78fb73",
    "_uuid": "7cd28041-76f6-43d6-bc12-9f708d76ebf3",
    "execution": {
     "iopub.status.busy": "2022-06-28T13:54:47.143519Z",
     "iopub.status.idle": "2022-06-28T13:54:47.143939Z",
     "shell.execute_reply": "2022-06-28T13:54:47.143741Z",
     "shell.execute_reply.started": "2022-06-28T13:54:47.143723Z"
    },
    "jupyter": {
     "outputs_hidden": false
    }
   },
   "outputs": [],
   "source": [
    "#I usually use Naive Bayes as a baseline for my classification tasks \n",
    "gnb = GaussianNB()\n",
    "cv = cross_val_score(gnb,X_train_scaled,y_train,cv=5)\n",
    "print(cv)\n",
    "print(cv.mean())"
   ]
  },
  {
   "cell_type": "code",
   "execution_count": null,
   "metadata": {
    "_cell_guid": "df356122-9daa-4171-95b7-008ac34d7c0c",
    "_uuid": "221ef334-7e2b-4c0a-94db-7aa9ac15b1e4",
    "execution": {
     "iopub.status.busy": "2022-06-28T13:54:47.145552Z",
     "iopub.status.idle": "2022-06-28T13:54:47.14598Z",
     "shell.execute_reply": "2022-06-28T13:54:47.145784Z",
     "shell.execute_reply.started": "2022-06-28T13:54:47.145759Z"
    },
    "jupyter": {
     "outputs_hidden": false
    }
   },
   "outputs": [],
   "source": [
    "lr = LogisticRegression(max_iter = 2000)\n",
    "cv = cross_val_score(lr,X_train,y_train,cv=5)\n",
    "print(cv)\n",
    "print(cv.mean())"
   ]
  },
  {
   "cell_type": "code",
   "execution_count": null,
   "metadata": {
    "_cell_guid": "5fe05372-3852-4e5d-b9e0-b0222d09a9ce",
    "_uuid": "27afd931-f17b-409d-9ebc-eaf74f02737f",
    "execution": {
     "iopub.status.busy": "2022-06-28T13:54:47.147155Z",
     "iopub.status.idle": "2022-06-28T13:54:47.147485Z",
     "shell.execute_reply": "2022-06-28T13:54:47.147339Z",
     "shell.execute_reply.started": "2022-06-28T13:54:47.147324Z"
    },
    "jupyter": {
     "outputs_hidden": false
    }
   },
   "outputs": [],
   "source": [
    "lr = LogisticRegression(max_iter = 2000)\n",
    "cv = cross_val_score(lr,X_train_scaled,y_train,cv=5)\n",
    "print(cv)\n",
    "print(cv.mean())"
   ]
  },
  {
   "cell_type": "code",
   "execution_count": null,
   "metadata": {
    "_cell_guid": "69d42173-cd87-4f35-8514-8b78d6d808e7",
    "_uuid": "7b8e465b-c80a-4435-b41b-5853bdf779db",
    "execution": {
     "iopub.status.busy": "2022-06-28T13:54:47.149032Z",
     "iopub.status.idle": "2022-06-28T13:54:47.149419Z",
     "shell.execute_reply": "2022-06-28T13:54:47.149246Z",
     "shell.execute_reply.started": "2022-06-28T13:54:47.149229Z"
    },
    "jupyter": {
     "outputs_hidden": false
    }
   },
   "outputs": [],
   "source": [
    "dt = tree.DecisionTreeClassifier(random_state = 1)\n",
    "cv = cross_val_score(dt,X_train,y_train,cv=5)\n",
    "print(cv)\n",
    "print(cv.mean())"
   ]
  },
  {
   "cell_type": "code",
   "execution_count": null,
   "metadata": {
    "_cell_guid": "332d0d05-d3ae-447f-917b-39f279240c56",
    "_uuid": "ca9e770b-f430-4a10-a4e7-ab21c76f94a4",
    "execution": {
     "iopub.status.busy": "2022-06-28T13:54:47.151706Z",
     "iopub.status.idle": "2022-06-28T13:54:47.152155Z",
     "shell.execute_reply": "2022-06-28T13:54:47.151979Z",
     "shell.execute_reply.started": "2022-06-28T13:54:47.15196Z"
    },
    "jupyter": {
     "outputs_hidden": false
    }
   },
   "outputs": [],
   "source": [
    "dt = tree.DecisionTreeClassifier(random_state = 1)\n",
    "cv = cross_val_score(dt,X_train_scaled,y_train,cv=5)\n",
    "print(cv)\n",
    "print(cv.mean())"
   ]
  },
  {
   "cell_type": "code",
   "execution_count": null,
   "metadata": {
    "_cell_guid": "4a1f7860-83c8-4f62-a1f1-47685533a29a",
    "_uuid": "122098a4-5a33-44d3-9e7c-2310f5eb0642",
    "execution": {
     "iopub.status.busy": "2022-06-28T13:54:47.153217Z",
     "iopub.status.idle": "2022-06-28T13:54:47.153608Z",
     "shell.execute_reply": "2022-06-28T13:54:47.153442Z",
     "shell.execute_reply.started": "2022-06-28T13:54:47.153423Z"
    },
    "jupyter": {
     "outputs_hidden": false
    }
   },
   "outputs": [],
   "source": [
    "knn = KNeighborsClassifier()\n",
    "cv = cross_val_score(knn,X_train,y_train,cv=5)\n",
    "print(cv)\n",
    "print(cv.mean())"
   ]
  },
  {
   "cell_type": "code",
   "execution_count": null,
   "metadata": {
    "_cell_guid": "d466ff19-9002-4bce-9903-7fde5c1fefe1",
    "_uuid": "6288de5a-31aa-46fa-bc99-cc54b7833ef3",
    "execution": {
     "iopub.status.busy": "2022-06-28T13:54:47.159341Z",
     "iopub.status.idle": "2022-06-28T13:54:47.159914Z",
     "shell.execute_reply": "2022-06-28T13:54:47.159676Z",
     "shell.execute_reply.started": "2022-06-28T13:54:47.15965Z"
    },
    "jupyter": {
     "outputs_hidden": false
    }
   },
   "outputs": [],
   "source": [
    "knn = KNeighborsClassifier()\n",
    "cv = cross_val_score(knn,X_train_scaled,y_train,cv=5)\n",
    "print(cv)\n",
    "print(cv.mean())"
   ]
  },
  {
   "cell_type": "code",
   "execution_count": null,
   "metadata": {
    "_cell_guid": "b0cbcb77-9818-4636-9a23-7daa825760bb",
    "_uuid": "d1276a7e-255b-45cf-a291-2f4c4843d693",
    "execution": {
     "iopub.status.busy": "2022-06-28T13:54:47.161655Z",
     "iopub.status.idle": "2022-06-28T13:54:47.162167Z",
     "shell.execute_reply": "2022-06-28T13:54:47.161974Z",
     "shell.execute_reply.started": "2022-06-28T13:54:47.161951Z"
    },
    "jupyter": {
     "outputs_hidden": false
    }
   },
   "outputs": [],
   "source": [
    "rf = RandomForestClassifier(random_state = 1)\n",
    "cv = cross_val_score(rf,X_train,y_train,cv=5)\n",
    "print(cv)\n",
    "print(cv.mean())"
   ]
  },
  {
   "cell_type": "code",
   "execution_count": null,
   "metadata": {
    "_cell_guid": "80d8d933-95a5-4953-8378-249904f8bde3",
    "_uuid": "3745ebc8-a34d-4e3e-b7a0-71df4be1b2b9",
    "execution": {
     "iopub.status.busy": "2022-06-28T13:54:47.164024Z",
     "iopub.status.idle": "2022-06-28T13:54:47.16448Z",
     "shell.execute_reply": "2022-06-28T13:54:47.164301Z",
     "shell.execute_reply.started": "2022-06-28T13:54:47.164281Z"
    },
    "jupyter": {
     "outputs_hidden": false
    }
   },
   "outputs": [],
   "source": [
    "rf = RandomForestClassifier(random_state = 1)\n",
    "cv = cross_val_score(rf,X_train_scaled,y_train,cv=5)\n",
    "print(cv)\n",
    "print(cv.mean())"
   ]
  },
  {
   "cell_type": "code",
   "execution_count": null,
   "metadata": {
    "_cell_guid": "1fa2b8f4-12af-412f-a6aa-ec9028f3c37b",
    "_uuid": "bd9ae485-8ede-4e55-99e7-30a3943aadac",
    "execution": {
     "iopub.status.busy": "2022-06-28T13:54:47.16564Z",
     "iopub.status.idle": "2022-06-28T13:54:47.166083Z",
     "shell.execute_reply": "2022-06-28T13:54:47.165903Z",
     "shell.execute_reply.started": "2022-06-28T13:54:47.165865Z"
    },
    "jupyter": {
     "outputs_hidden": false
    }
   },
   "outputs": [],
   "source": [
    "svc = SVC(probability = True)\n",
    "cv = cross_val_score(svc,X_train_scaled,y_train,cv=5)\n",
    "print(cv)\n",
    "print(cv.mean())"
   ]
  },
  {
   "cell_type": "code",
   "execution_count": null,
   "metadata": {
    "_cell_guid": "cc495134-a2e1-4b9b-95a6-138cb2d0f6cd",
    "_uuid": "73b4e2c0-5df2-4a85-82d5-cc1e93858513",
    "execution": {
     "iopub.status.busy": "2022-06-28T13:54:47.167694Z",
     "iopub.status.idle": "2022-06-28T13:54:47.168238Z",
     "shell.execute_reply": "2022-06-28T13:54:47.168056Z",
     "shell.execute_reply.started": "2022-06-28T13:54:47.168035Z"
    },
    "jupyter": {
     "outputs_hidden": false
    }
   },
   "outputs": [],
   "source": [
    "from xgboost import XGBClassifier\n",
    "xgb = XGBClassifier(random_state =1)\n",
    "cv = cross_val_score(xgb,X_train_scaled,y_train,cv=5)\n",
    "print(cv)\n",
    "print(cv.mean())"
   ]
  },
  {
   "cell_type": "code",
   "execution_count": null,
   "metadata": {
    "_cell_guid": "082ed0c9-cd20-445b-935c-e4feb199c09d",
    "_uuid": "7293524b-adfb-4101-92ea-b61df7b9e237",
    "execution": {
     "iopub.status.busy": "2022-06-28T13:54:47.170169Z",
     "iopub.status.idle": "2022-06-28T13:54:47.170638Z",
     "shell.execute_reply": "2022-06-28T13:54:47.170457Z",
     "shell.execute_reply.started": "2022-06-28T13:54:47.170437Z"
    },
    "jupyter": {
     "outputs_hidden": false
    }
   },
   "outputs": [],
   "source": [
    "#Voting classifier takes all of the inputs and averages the results. For a \"hard\" voting classifier each classifier gets 1 vote \"yes\" or \"no\" and the result is just a popular vote. For this, you generally want odd numbers\n",
    "#A \"soft\" classifier averages the confidence of each of the models. If a the average confidence is > 50% that it is a 1 it will be counted as such\n",
    "from sklearn.ensemble import VotingClassifier\n",
    "voting_clf = VotingClassifier(estimators = [('lr',lr),('knn',knn),('rf',rf),('gnb',gnb),('svc',svc),('xgb',xgb)], voting = 'soft')"
   ]
  },
  {
   "cell_type": "code",
   "execution_count": null,
   "metadata": {
    "_cell_guid": "632f9673-9463-4992-a5a2-49148cf916c8",
    "_uuid": "1d0a13a4-673a-416f-a487-b25228a8d7c0",
    "execution": {
     "iopub.status.busy": "2022-06-28T13:54:47.172644Z",
     "iopub.status.idle": "2022-06-28T13:54:47.173324Z",
     "shell.execute_reply": "2022-06-28T13:54:47.173129Z",
     "shell.execute_reply.started": "2022-06-28T13:54:47.173107Z"
    },
    "jupyter": {
     "outputs_hidden": false
    }
   },
   "outputs": [],
   "source": [
    "cv = cross_val_score(voting_clf,X_train_scaled,y_train,cv=5)\n",
    "print(cv)\n",
    "print(cv.mean())"
   ]
  },
  {
   "cell_type": "code",
   "execution_count": null,
   "metadata": {
    "_cell_guid": "90bb5836-ffbf-46cb-a74a-e1133514f313",
    "_uuid": "df3d1d94-15ef-4834-9811-63648d19838a",
    "execution": {
     "iopub.status.busy": "2022-06-28T13:54:47.175105Z",
     "iopub.status.idle": "2022-06-28T13:54:47.175586Z",
     "shell.execute_reply": "2022-06-28T13:54:47.175404Z",
     "shell.execute_reply.started": "2022-06-28T13:54:47.175383Z"
    },
    "jupyter": {
     "outputs_hidden": false
    }
   },
   "outputs": [],
   "source": [
    "voting_clf.fit(X_train_scaled,y_train)\n",
    "y_hat_base_vc = voting_clf.predict(X_test_scaled).astype(int)\n",
    "basic_submission = {'PassengerId': test.PassengerId, 'Survived': y_hat_base_vc}\n",
    "base_submission = pd.DataFrame(data=basic_submission)\n",
    "base_submission.to_csv('base_submission.csv', index=False)"
   ]
  },
  {
   "cell_type": "markdown",
   "metadata": {
    "_cell_guid": "dbba570b-aabf-4133-87a4-e6226903366a",
    "_uuid": "4a696f04-34cf-410d-b593-c416305738f0"
   },
   "source": [
    "## Model Tuned Performance \n",
    "After getting the baselines, let's see if we can improve on the indivdual model results!I mainly used grid search to tune the models. I also used Randomized Search for the Random Forest and XG boosted model to simplify testing time. \n",
    "\n",
    "|Model|Baseline|Tuned Performance|\n",
    "|-----|--------|-----------------|\n",
    "|Naive Bayes| 72.6%| NA|\n",
    "|Logistic Regression| 82.1%| 82.6%|\n",
    "|Decision Tree| 77.6%| NA|\n",
    "|K Nearest Neighbor| 80.5%|83.0%|\n",
    "|Random Forest| 80.6%| 83.6|\n",
    "|Support Vector Classifier| 83.2%| 83.2%|\n",
    "|Xtreme Gradient Boosting| 81.8%| 85.3%|"
   ]
  },
  {
   "cell_type": "code",
   "execution_count": null,
   "metadata": {
    "_cell_guid": "d4d892c2-8e4a-40dd-b4f0-29f3e8565def",
    "_uuid": "1202c419-3c69-40c4-88ea-1ed150a3201c",
    "execution": {
     "iopub.status.busy": "2022-06-28T13:54:47.177679Z",
     "iopub.status.idle": "2022-06-28T13:54:47.178154Z",
     "shell.execute_reply": "2022-06-28T13:54:47.177972Z",
     "shell.execute_reply.started": "2022-06-28T13:54:47.177952Z"
    },
    "jupyter": {
     "outputs_hidden": false
    }
   },
   "outputs": [],
   "source": [
    "from sklearn.model_selection import GridSearchCV \n",
    "from sklearn.model_selection import RandomizedSearchCV"
   ]
  },
  {
   "cell_type": "code",
   "execution_count": null,
   "metadata": {
    "_cell_guid": "d90e1163-2d31-47eb-957a-f0dc9075f37d",
    "_uuid": "ac833550-004c-4cec-814e-33863a50a0d8",
    "execution": {
     "iopub.status.busy": "2022-06-28T13:54:47.179624Z",
     "iopub.status.idle": "2022-06-28T13:54:47.180131Z",
     "shell.execute_reply": "2022-06-28T13:54:47.179914Z",
     "shell.execute_reply.started": "2022-06-28T13:54:47.179867Z"
    },
    "jupyter": {
     "outputs_hidden": false
    }
   },
   "outputs": [],
   "source": [
    "#simple performance reporting function\n",
    "def clf_performance(classifier, model_name):\n",
    "    print(model_name)\n",
    "    print('Best Score: ' + str(classifier.best_score_))\n",
    "    print('Best Parameters: ' + str(classifier.best_params_))"
   ]
  },
  {
   "cell_type": "code",
   "execution_count": null,
   "metadata": {
    "_cell_guid": "1f79cd55-bae8-444d-a4e4-6c399e98d055",
    "_uuid": "5abd4787-44ce-4d2a-a11d-56c0faed1791",
    "execution": {
     "iopub.status.busy": "2022-06-28T13:54:47.181761Z",
     "iopub.status.idle": "2022-06-28T13:54:47.182769Z",
     "shell.execute_reply": "2022-06-28T13:54:47.182405Z",
     "shell.execute_reply.started": "2022-06-28T13:54:47.182373Z"
    },
    "jupyter": {
     "outputs_hidden": false
    }
   },
   "outputs": [],
   "source": [
    "lr = LogisticRegression()\n",
    "param_grid = {'max_iter' : [2000],\n",
    "              'penalty' : ['l1', 'l2'],\n",
    "              'C' : np.logspace(-4, 4, 20),\n",
    "              'solver' : ['liblinear']}\n",
    "\n",
    "clf_lr = GridSearchCV(lr, param_grid = param_grid, cv = 5, verbose = True, n_jobs = -1)\n",
    "best_clf_lr = clf_lr.fit(X_train_scaled,y_train)\n",
    "clf_performance(best_clf_lr,'Logistic Regression')"
   ]
  },
  {
   "cell_type": "code",
   "execution_count": null,
   "metadata": {
    "_cell_guid": "cf9531ef-8283-43d1-b3b1-ca7021413573",
    "_uuid": "42b8e7ce-0ddd-44b9-8aab-3901eb458d95",
    "execution": {
     "iopub.status.busy": "2022-06-28T13:54:47.184247Z",
     "iopub.status.idle": "2022-06-28T13:54:47.184699Z",
     "shell.execute_reply": "2022-06-28T13:54:47.184511Z",
     "shell.execute_reply.started": "2022-06-28T13:54:47.184491Z"
    },
    "jupyter": {
     "outputs_hidden": false
    }
   },
   "outputs": [],
   "source": [
    "knn = KNeighborsClassifier()\n",
    "param_grid = {'n_neighbors' : [3,5,7,9],\n",
    "              'weights' : ['uniform', 'distance'],\n",
    "              'algorithm' : ['auto', 'ball_tree','kd_tree'],\n",
    "              'p' : [1,2]}\n",
    "clf_knn = GridSearchCV(knn, param_grid = param_grid, cv = 5, verbose = True, n_jobs = -1)\n",
    "best_clf_knn = clf_knn.fit(X_train_scaled,y_train)\n",
    "clf_performance(best_clf_knn,'KNN')"
   ]
  },
  {
   "cell_type": "code",
   "execution_count": null,
   "metadata": {
    "_cell_guid": "95fce4e4-8118-47c4-8cf6-5f9b12dd959a",
    "_uuid": "cae2a665-1e13-4bcf-8dde-9ddd17331e01",
    "execution": {
     "iopub.status.busy": "2022-06-28T13:54:47.186558Z",
     "iopub.status.idle": "2022-06-28T13:54:47.187093Z",
     "shell.execute_reply": "2022-06-28T13:54:47.1869Z",
     "shell.execute_reply.started": "2022-06-28T13:54:47.186855Z"
    },
    "jupyter": {
     "outputs_hidden": false
    }
   },
   "outputs": [],
   "source": [
    "svc = SVC(probability = True)\n",
    "param_grid = tuned_parameters = [{'kernel': ['rbf'], 'gamma': [.1,.5,1,2,5,10],\n",
    "                                  'C': [.1, 1, 10, 100, 1000]},\n",
    "                                 {'kernel': ['linear'], 'C': [.1, 1, 10, 100, 1000]},\n",
    "                                 {'kernel': ['poly'], 'degree' : [2,3,4,5], 'C': [.1, 1, 10, 100, 1000]}]\n",
    "clf_svc = GridSearchCV(svc, param_grid = param_grid, cv = 5, verbose = True, n_jobs = -1)\n",
    "best_clf_svc = clf_svc.fit(X_train_scaled,y_train)\n",
    "clf_performance(best_clf_svc,'SVC')"
   ]
  },
  {
   "cell_type": "code",
   "execution_count": null,
   "metadata": {
    "_cell_guid": "ebf99fbb-921d-4dce-b9e8-d7c39ca8b92b",
    "_uuid": "fe5abe3e-5228-4433-9cd3-6c9308a26727",
    "execution": {
     "iopub.status.busy": "2022-06-28T13:54:47.189655Z",
     "iopub.status.idle": "2022-06-28T13:54:47.19037Z",
     "shell.execute_reply": "2022-06-28T13:54:47.190063Z",
     "shell.execute_reply.started": "2022-06-28T13:54:47.190034Z"
    },
    "jupyter": {
     "outputs_hidden": false
    }
   },
   "outputs": [],
   "source": [
    "#Because the total feature space is so large, I used a randomized search to narrow down the paramters for the model. I took the best model from this and did a more granular search \n",
    "\"\"\"\n",
    "rf = RandomForestClassifier(random_state = 1)\n",
    "param_grid =  {'n_estimators': [100,500,1000], \n",
    "                                  'bootstrap': [True,False],\n",
    "                                  'max_depth': [3,5,10,20,50,75,100,None],\n",
    "                                  'max_features': ['auto','sqrt'],\n",
    "                                  'min_samples_leaf': [1,2,4,10],\n",
    "                                  'min_samples_split': [2,5,10]}\n",
    "                                  \n",
    "clf_rf_rnd = RandomizedSearchCV(rf, param_distributions = param_grid, n_iter = 100, cv = 5, verbose = True, n_jobs = -1)\n",
    "best_clf_rf_rnd = clf_rf_rnd.fit(X_train_scaled,y_train)\n",
    "clf_performance(best_clf_rf_rnd,'Random Forest')\"\"\""
   ]
  },
  {
   "cell_type": "code",
   "execution_count": null,
   "metadata": {
    "_cell_guid": "c0223df1-6563-467f-b0ca-460d01a3b109",
    "_uuid": "9277973e-c2ff-4ad7-8ffd-9eb205d4a3bc",
    "execution": {
     "iopub.status.busy": "2022-06-28T13:54:47.194121Z",
     "iopub.status.idle": "2022-06-28T13:54:47.194604Z",
     "shell.execute_reply": "2022-06-28T13:54:47.194424Z",
     "shell.execute_reply.started": "2022-06-28T13:54:47.194402Z"
    },
    "jupyter": {
     "outputs_hidden": false
    }
   },
   "outputs": [],
   "source": [
    "rf = RandomForestClassifier(random_state = 1)\n",
    "param_grid =  {'n_estimators': [400,450,500,550],\n",
    "               'criterion':['gini','entropy'],\n",
    "                                  'bootstrap': [True],\n",
    "                                  'max_depth': [15, 20, 25],\n",
    "                                  'max_features': ['auto','sqrt', 10],\n",
    "                                  'min_samples_leaf': [2,3],\n",
    "                                  'min_samples_split': [2,3]}\n",
    "                                  \n",
    "clf_rf = GridSearchCV(rf, param_grid = param_grid, cv = 5, verbose = True, n_jobs = -1)\n",
    "best_clf_rf = clf_rf.fit(X_train_scaled,y_train)\n",
    "clf_performance(best_clf_rf,'Random Forest')"
   ]
  },
  {
   "cell_type": "code",
   "execution_count": null,
   "metadata": {
    "_cell_guid": "78dfeafa-1a02-421c-b998-04439bf131a3",
    "_uuid": "d9e7e745-dbb1-4266-bf7d-bfc3027fb369",
    "execution": {
     "iopub.status.busy": "2022-06-28T13:54:47.195976Z",
     "iopub.status.idle": "2022-06-28T13:54:47.196426Z",
     "shell.execute_reply": "2022-06-28T13:54:47.196251Z",
     "shell.execute_reply.started": "2022-06-28T13:54:47.196232Z"
    },
    "jupyter": {
     "outputs_hidden": false
    }
   },
   "outputs": [],
   "source": [
    "best_rf = best_clf_rf.best_estimator_.fit(X_train_scaled,y_train)\n",
    "feat_importances = pd.Series(best_rf.feature_importances_, index=X_train_scaled.columns)\n",
    "feat_importances.nlargest(20).plot(kind='barh')"
   ]
  },
  {
   "cell_type": "code",
   "execution_count": null,
   "metadata": {
    "_cell_guid": "0f7c6e0f-9925-4d74-a07f-092e28783134",
    "_uuid": "64732a3f-d54c-49c9-91ec-78111e59502b",
    "execution": {
     "iopub.status.busy": "2022-06-28T13:54:47.198398Z",
     "iopub.status.idle": "2022-06-28T13:54:47.198836Z",
     "shell.execute_reply": "2022-06-28T13:54:47.198666Z",
     "shell.execute_reply.started": "2022-06-28T13:54:47.198646Z"
    },
    "jupyter": {
     "outputs_hidden": false
    }
   },
   "outputs": [],
   "source": [
    "\"\"\"xgb = XGBClassifier(random_state = 1)\n",
    "\n",
    "param_grid = {\n",
    "    'n_estimators': [20, 50, 100, 250, 500,1000],\n",
    "    'colsample_bytree': [0.2, 0.5, 0.7, 0.8, 1],\n",
    "    'max_depth': [2, 5, 10, 15, 20, 25, None],\n",
    "    'reg_alpha': [0, 0.5, 1],\n",
    "    'reg_lambda': [1, 1.5, 2],\n",
    "    'subsample': [0.5,0.6,0.7, 0.8, 0.9],\n",
    "    'learning_rate':[.01,0.1,0.2,0.3,0.5, 0.7, 0.9],\n",
    "    'gamma':[0,.01,.1,1,10,100],\n",
    "    'min_child_weight':[0,.01,0.1,1,10,100],\n",
    "    'sampling_method': ['uniform', 'gradient_based']\n",
    "}\n",
    "\n",
    "#clf_xgb = GridSearchCV(xgb, param_grid = param_grid, cv = 5, verbose = True, n_jobs = -1)\n",
    "#best_clf_xgb = clf_xgb.fit(X_train_scaled,y_train)\n",
    "#clf_performance(best_clf_xgb,'XGB')\n",
    "clf_xgb_rnd = RandomizedSearchCV(xgb, param_distributions = param_grid, n_iter = 1000, cv = 5, verbose = True, n_jobs = -1)\n",
    "best_clf_xgb_rnd = clf_xgb_rnd.fit(X_train_scaled,y_train)\n",
    "clf_performance(best_clf_xgb_rnd,'XGB')\"\"\""
   ]
  },
  {
   "cell_type": "code",
   "execution_count": null,
   "metadata": {
    "_cell_guid": "4629a524-0c04-41b6-9465-f7f8f6224d2e",
    "_uuid": "24fc98e6-1456-4679-97c9-c0bb45f059c1",
    "execution": {
     "iopub.status.busy": "2022-06-28T13:54:47.20029Z",
     "iopub.status.idle": "2022-06-28T13:54:47.200697Z",
     "shell.execute_reply": "2022-06-28T13:54:47.20053Z",
     "shell.execute_reply.started": "2022-06-28T13:54:47.200511Z"
    },
    "jupyter": {
     "outputs_hidden": false
    }
   },
   "outputs": [],
   "source": [
    "xgb = XGBClassifier(random_state = 1)\n",
    "\n",
    "param_grid = {\n",
    "    'n_estimators': [450,500,550],\n",
    "    'colsample_bytree': [0.75,0.8,0.85],\n",
    "    'max_depth': [None],\n",
    "    'reg_alpha': [1],\n",
    "    'reg_lambda': [2, 5, 10],\n",
    "    'subsample': [0.55, 0.6, .65],\n",
    "    'learning_rate':[0.5],\n",
    "    'gamma':[.5,1,2],\n",
    "    'min_child_weight':[0.01],\n",
    "    'sampling_method': ['uniform']\n",
    "}\n",
    "\n",
    "clf_xgb = GridSearchCV(xgb, param_grid = param_grid, cv = 5, verbose = True, n_jobs = -1)\n",
    "best_clf_xgb = clf_xgb.fit(X_train_scaled,y_train)\n",
    "clf_performance(best_clf_xgb,'XGB')"
   ]
  },
  {
   "cell_type": "code",
   "execution_count": null,
   "metadata": {
    "_cell_guid": "75bed616-841f-4b49-969b-e1692952fd54",
    "_uuid": "e467b92d-6137-4f8f-9056-43750d17284d",
    "execution": {
     "iopub.status.busy": "2022-06-28T13:54:47.203186Z",
     "iopub.status.idle": "2022-06-28T13:54:47.203629Z",
     "shell.execute_reply": "2022-06-28T13:54:47.203454Z",
     "shell.execute_reply.started": "2022-06-28T13:54:47.203433Z"
    },
    "jupyter": {
     "outputs_hidden": false
    }
   },
   "outputs": [],
   "source": [
    "y_hat_xgb = best_clf_xgb.best_estimator_.predict(X_test_scaled).astype(int)\n",
    "xgb_submission = {'PassengerId': test.PassengerId, 'Survived': y_hat_xgb}\n",
    "submission_xgb = pd.DataFrame(data=xgb_submission)\n",
    "submission_xgb.to_csv('xgb_submission3.csv', index=False)"
   ]
  },
  {
   "cell_type": "markdown",
   "metadata": {
    "_cell_guid": "c3ea8e62-a0e0-4556-9df3-311cad1bb63d",
    "_uuid": "94cb431a-76ab-4c32-be60-d98da259b68d"
   },
   "source": [
    "## Model Additional Ensemble Approaches \n",
    "1) Experimented with a hard voting classifier of three estimators (KNN, SVM, RF) (81.6%)\n",
    "\n",
    "2) **Experimented with a soft voting classifier of three estimators (KNN, SVM, RF) (82.3%) (Best Performance)**\n",
    "\n",
    "3) Experimented with soft voting on all estimators performing better than 80% except xgb (KNN, RF, LR, SVC) (82.9%)\n",
    "\n",
    "4) Experimented with soft voting on all estimators including XGB (KNN, SVM, RF, LR, XGB) (83.5%)"
   ]
  },
  {
   "cell_type": "code",
   "execution_count": null,
   "metadata": {
    "_cell_guid": "2aece5ae-5881-475f-bf02-9915dfa05cdd",
    "_uuid": "5dca58d5-62d8-48ae-bc8c-0fbf993893dc",
    "execution": {
     "iopub.status.busy": "2022-06-28T13:54:47.20558Z",
     "iopub.status.idle": "2022-06-28T13:54:47.20606Z",
     "shell.execute_reply": "2022-06-28T13:54:47.205841Z",
     "shell.execute_reply.started": "2022-06-28T13:54:47.205821Z"
    },
    "jupyter": {
     "outputs_hidden": false
    }
   },
   "outputs": [],
   "source": [
    "best_lr = best_clf_lr.best_estimator_\n",
    "best_knn = best_clf_knn.best_estimator_\n",
    "best_svc = best_clf_svc.best_estimator_\n",
    "best_rf = best_clf_rf.best_estimator_\n",
    "best_xgb = best_clf_xgb.best_estimator_\n",
    "\n",
    "voting_clf_hard = VotingClassifier(estimators = [('knn',best_knn),('rf',best_rf),('svc',best_svc)], voting = 'hard') \n",
    "voting_clf_soft = VotingClassifier(estimators = [('knn',best_knn),('rf',best_rf),('svc',best_svc)], voting = 'soft') \n",
    "voting_clf_all = VotingClassifier(estimators = [('knn',best_knn),('rf',best_rf),('svc',best_svc), ('lr', best_lr)], voting = 'soft') \n",
    "voting_clf_xgb = VotingClassifier(estimators = [('knn',best_knn),('rf',best_rf),('svc',best_svc), ('xgb', best_xgb),('lr', best_lr)], voting = 'soft')\n",
    "\n",
    "print('voting_clf_hard :',cross_val_score(voting_clf_hard,X_train,y_train,cv=5))\n",
    "print('voting_clf_hard mean :',cross_val_score(voting_clf_hard,X_train,y_train,cv=5).mean())\n",
    "\n",
    "print('voting_clf_soft :',cross_val_score(voting_clf_soft,X_train,y_train,cv=5))\n",
    "print('voting_clf_soft mean :',cross_val_score(voting_clf_soft,X_train,y_train,cv=5).mean())\n",
    "\n",
    "print('voting_clf_all :',cross_val_score(voting_clf_all,X_train,y_train,cv=5))\n",
    "print('voting_clf_all mean :',cross_val_score(voting_clf_all,X_train,y_train,cv=5).mean())\n",
    "\n",
    "print('voting_clf_xgb :',cross_val_score(voting_clf_xgb,X_train,y_train,cv=5))\n",
    "print('voting_clf_xgb mean :',cross_val_score(voting_clf_xgb,X_train,y_train,cv=5).mean())"
   ]
  },
  {
   "cell_type": "code",
   "execution_count": null,
   "metadata": {
    "_cell_guid": "5effae59-e79a-456a-ae32-68df5fc592cd",
    "_uuid": "542c7f5e-c1eb-4ebd-8fc4-4da03bf9d2d7",
    "execution": {
     "iopub.status.busy": "2022-06-28T13:54:47.207668Z",
     "iopub.status.idle": "2022-06-28T13:54:47.208117Z",
     "shell.execute_reply": "2022-06-28T13:54:47.207944Z",
     "shell.execute_reply.started": "2022-06-28T13:54:47.207921Z"
    },
    "jupyter": {
     "outputs_hidden": false
    }
   },
   "outputs": [],
   "source": [
    "#in a soft voting classifier you can weight some models more than others. I used a grid search to explore different weightings\n",
    "#no new results here\n",
    "params = {'weights' : [[1,1,1],[1,2,1],[1,1,2],[2,1,1],[2,2,1],[1,2,2],[2,1,2]]}\n",
    "\n",
    "vote_weight = GridSearchCV(voting_clf_soft, param_grid = params, cv = 5, verbose = True, n_jobs = -1)\n",
    "best_clf_weight = vote_weight.fit(X_train_scaled,y_train)\n",
    "clf_performance(best_clf_weight,'VC Weights')\n",
    "voting_clf_sub = best_clf_weight.best_estimator_.predict(X_test_scaled)"
   ]
  },
  {
   "cell_type": "code",
   "execution_count": null,
   "metadata": {
    "_cell_guid": "6c6ebd74-4d91-46c9-94f7-271d63eeae53",
    "_uuid": "807f09a5-f4cc-4a31-b097-1d9835c153de",
    "execution": {
     "iopub.status.busy": "2022-06-28T13:54:47.21013Z",
     "iopub.status.idle": "2022-06-28T13:54:47.210554Z",
     "shell.execute_reply": "2022-06-28T13:54:47.210381Z",
     "shell.execute_reply.started": "2022-06-28T13:54:47.210363Z"
    },
    "jupyter": {
     "outputs_hidden": false
    }
   },
   "outputs": [],
   "source": [
    "#Make Predictions \n",
    "voting_clf_hard.fit(X_train_scaled, y_train)\n",
    "voting_clf_soft.fit(X_train_scaled, y_train)\n",
    "voting_clf_all.fit(X_train_scaled, y_train)\n",
    "voting_clf_xgb.fit(X_train_scaled, y_train)\n",
    "\n",
    "best_rf.fit(X_train_scaled, y_train)\n",
    "y_hat_vc_hard = voting_clf_hard.predict(X_test_scaled).astype(int)\n",
    "y_hat_rf = best_rf.predict(X_test_scaled).astype(int)\n",
    "y_hat_vc_soft =  voting_clf_soft.predict(X_test_scaled).astype(int)\n",
    "y_hat_vc_all = voting_clf_all.predict(X_test_scaled).astype(int)\n",
    "y_hat_vc_xgb = voting_clf_xgb.predict(X_test_scaled).astype(int)"
   ]
  },
  {
   "cell_type": "code",
   "execution_count": null,
   "metadata": {
    "_cell_guid": "c567a69b-f48c-4f3c-ba3d-5b8eebc7679f",
    "_uuid": "29c44540-383b-47b4-9284-8c8c0e42ab0c",
    "execution": {
     "iopub.status.busy": "2022-06-28T13:54:47.211869Z",
     "iopub.status.idle": "2022-06-28T13:54:47.212317Z",
     "shell.execute_reply": "2022-06-28T13:54:47.212139Z",
     "shell.execute_reply.started": "2022-06-28T13:54:47.212119Z"
    },
    "jupyter": {
     "outputs_hidden": false
    }
   },
   "outputs": [],
   "source": [
    "#convert output to dataframe \n",
    "final_data = {'PassengerId': test.PassengerId, 'Survived': y_hat_rf}\n",
    "submission = pd.DataFrame(data=final_data)\n",
    "\n",
    "final_data_2 = {'PassengerId': test.PassengerId, 'Survived': y_hat_vc_hard}\n",
    "submission_2 = pd.DataFrame(data=final_data_2)\n",
    "\n",
    "final_data_3 = {'PassengerId': test.PassengerId, 'Survived': y_hat_vc_soft}\n",
    "submission_3 = pd.DataFrame(data=final_data_3)\n",
    "\n",
    "final_data_4 = {'PassengerId': test.PassengerId, 'Survived': y_hat_vc_all}\n",
    "submission_4 = pd.DataFrame(data=final_data_4)\n",
    "\n",
    "final_data_5 = {'PassengerId': test.PassengerId, 'Survived': y_hat_vc_xgb}\n",
    "submission_5 = pd.DataFrame(data=final_data_5)\n",
    "\n",
    "final_data_comp = {'PassengerId': test.PassengerId, 'Survived_vc_hard': y_hat_vc_hard, 'Survived_rf': y_hat_rf, 'Survived_vc_soft' : y_hat_vc_soft, 'Survived_vc_all' : y_hat_vc_all,  'Survived_vc_xgb' : y_hat_vc_xgb}\n",
    "comparison = pd.DataFrame(data=final_data_comp)"
   ]
  },
  {
   "cell_type": "code",
   "execution_count": null,
   "metadata": {
    "_cell_guid": "a06b414f-241b-411e-8215-1fffd7a37934",
    "_uuid": "ab23670a-2662-47a8-bf4b-15abf3513e86",
    "execution": {
     "iopub.status.busy": "2022-06-28T13:54:47.214428Z",
     "iopub.status.idle": "2022-06-28T13:54:47.21489Z",
     "shell.execute_reply": "2022-06-28T13:54:47.214686Z",
     "shell.execute_reply.started": "2022-06-28T13:54:47.21466Z"
    },
    "jupyter": {
     "outputs_hidden": false
    }
   },
   "outputs": [],
   "source": [
    "#track differences between outputs \n",
    "comparison['difference_rf_vc_hard'] = comparison.apply(lambda x: 1 if x.Survived_vc_hard != x.Survived_rf else 0, axis =1)\n",
    "comparison['difference_soft_hard'] = comparison.apply(lambda x: 1 if x.Survived_vc_hard != x.Survived_vc_soft else 0, axis =1)\n",
    "comparison['difference_hard_all'] = comparison.apply(lambda x: 1 if x.Survived_vc_all != x.Survived_vc_hard else 0, axis =1)"
   ]
  },
  {
   "cell_type": "code",
   "execution_count": null,
   "metadata": {
    "_cell_guid": "65a392d7-255c-42d6-adb8-8ec59fb8f711",
    "_uuid": "173cd411-14de-4989-aa4e-87d580d81f30",
    "execution": {
     "iopub.status.busy": "2022-06-28T13:54:47.216105Z",
     "iopub.status.idle": "2022-06-28T13:54:47.216535Z",
     "shell.execute_reply": "2022-06-28T13:54:47.216341Z",
     "shell.execute_reply.started": "2022-06-28T13:54:47.216322Z"
    },
    "jupyter": {
     "outputs_hidden": false
    }
   },
   "outputs": [],
   "source": [
    "comparison.difference_hard_all.value_counts()"
   ]
  },
  {
   "cell_type": "code",
   "execution_count": null,
   "metadata": {
    "_cell_guid": "5ac7b05d-6fe4-4772-bddc-84303159cab3",
    "_uuid": "72b7e305-e61f-4a10-b50f-89dc9f8514ba",
    "execution": {
     "iopub.status.busy": "2022-06-28T13:54:47.217902Z",
     "iopub.status.idle": "2022-06-28T13:54:47.218374Z",
     "shell.execute_reply": "2022-06-28T13:54:47.2182Z",
     "shell.execute_reply.started": "2022-06-28T13:54:47.21818Z"
    },
    "jupyter": {
     "outputs_hidden": false
    }
   },
   "outputs": [],
   "source": [
    "#prepare submission files \n",
    "submission.to_csv('submission_rf.csv', index =False)\n",
    "submission_2.to_csv('submission_vc_hard.csv',index=False)\n",
    "submission_3.to_csv('submission_vc_soft.csv', index=False)\n",
    "submission_4.to_csv('submission_vc_all.csv', index=False)\n",
    "submission_5.to_csv('submission_vc_xgb2.csv', index=False)"
   ]
  }
 ],
 "metadata": {
  "kernelspec": {
   "display_name": "Python 3 (ipykernel)",
   "language": "python",
   "name": "python3"
  },
  "language_info": {
   "codemirror_mode": {
    "name": "ipython",
    "version": 3
   },
   "file_extension": ".py",
   "mimetype": "text/x-python",
   "name": "python",
   "nbconvert_exporter": "python",
   "pygments_lexer": "ipython3",
   "version": "3.9.7"
  }
 },
 "nbformat": 4,
 "nbformat_minor": 4
}
