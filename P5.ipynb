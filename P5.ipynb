{
 "cells": [
  {
   "cell_type": "code",
   "execution_count": 1,
   "metadata": {},
   "outputs": [],
   "source": [
    "import pandas as pd"
   ]
  },
  {
   "cell_type": "markdown",
   "metadata": {},
   "source": [
    "***"
   ]
  },
  {
   "cell_type": "markdown",
   "metadata": {},
   "source": [
    "# Rapprocher les exports"
   ]
  },
  {
   "cell_type": "markdown",
   "metadata": {},
   "source": [
    "\n",
    "> _Premièrement, j’ai besoin que tu rapproches deux exports : un export de l’ERP contenant les références produit, leur prix de vente et leur état de stock, et un export d’une table de l’outil de CMS contenant les informations des produits commercialisés en ligne (nom, description, nombre de ventes...).\n",
    "L’export issu de la boutique en ligne contient le nombre de ventes pour chaque produit depuis sa mise en ligne, il ne permet pas d’analyser l'évolution des ventes dans le temps.\n",
    "Je vais t’envoyer un mail dès la fin de notre entretien avec ces 2 exports en pièce jointe.\n",
    "En plus de ces 2 exports, tu vas bénéficier d’une aide précieuse car Sylvie, notre ancienne stagiaire, a réalisé un travail de fourmi. Elle a créé un tableau Excel qui permet d’établir le lien entre la référence du produit dans l’ERP (product_id) et la référence du même produit dans la base de la boutique en ligne (SKU)._\n",
    "\n",
    "Nous allons:\n",
    "- importer les fichiers excel dans des dataframes;\n",
    "- vérifier et éventuellement nettoyer le contenu de ces dataframes;\n",
    "- rassembler les dataframes"
   ]
  },
  {
   "cell_type": "markdown",
   "metadata": {},
   "source": [
    "#### Le fichier \"Erp\""
   ]
  },
  {
   "cell_type": "code",
   "execution_count": 2,
   "metadata": {
    "scrolled": true
   },
   "outputs": [
    {
     "data": {
      "text/html": [
       "<div>\n",
       "<style scoped>\n",
       "    .dataframe tbody tr th:only-of-type {\n",
       "        vertical-align: middle;\n",
       "    }\n",
       "\n",
       "    .dataframe tbody tr th {\n",
       "        vertical-align: top;\n",
       "    }\n",
       "\n",
       "    .dataframe thead th {\n",
       "        text-align: right;\n",
       "    }\n",
       "</style>\n",
       "<table border=\"1\" class=\"dataframe\">\n",
       "  <thead>\n",
       "    <tr style=\"text-align: right;\">\n",
       "      <th></th>\n",
       "      <th>product_id</th>\n",
       "      <th>onsale_web</th>\n",
       "      <th>price</th>\n",
       "      <th>stock_quantity</th>\n",
       "      <th>stock_status</th>\n",
       "    </tr>\n",
       "  </thead>\n",
       "  <tbody>\n",
       "    <tr>\n",
       "      <th>699</th>\n",
       "      <td>6128</td>\n",
       "      <td>1</td>\n",
       "      <td>10.6</td>\n",
       "      <td>50</td>\n",
       "      <td>instock</td>\n",
       "    </tr>\n",
       "    <tr>\n",
       "      <th>131</th>\n",
       "      <td>4209</td>\n",
       "      <td>0</td>\n",
       "      <td>73.5</td>\n",
       "      <td>0</td>\n",
       "      <td>outofstock</td>\n",
       "    </tr>\n",
       "    <tr>\n",
       "      <th>159</th>\n",
       "      <td>4246</td>\n",
       "      <td>1</td>\n",
       "      <td>15.3</td>\n",
       "      <td>25</td>\n",
       "      <td>instock</td>\n",
       "    </tr>\n",
       "    <tr>\n",
       "      <th>106</th>\n",
       "      <td>4179</td>\n",
       "      <td>1</td>\n",
       "      <td>24.0</td>\n",
       "      <td>73</td>\n",
       "      <td>instock</td>\n",
       "    </tr>\n",
       "    <tr>\n",
       "      <th>778</th>\n",
       "      <td>6904</td>\n",
       "      <td>0</td>\n",
       "      <td>31.0</td>\n",
       "      <td>22</td>\n",
       "      <td>instock</td>\n",
       "    </tr>\n",
       "  </tbody>\n",
       "</table>\n",
       "</div>"
      ],
      "text/plain": [
       "     product_id  onsale_web  price  stock_quantity stock_status\n",
       "699        6128           1   10.6              50      instock\n",
       "131        4209           0   73.5               0   outofstock\n",
       "159        4246           1   15.3              25      instock\n",
       "106        4179           1   24.0              73      instock\n",
       "778        6904           0   31.0              22      instock"
      ]
     },
     "execution_count": 2,
     "metadata": {},
     "output_type": "execute_result"
    }
   ],
   "source": [
    "# Lire les fichiers concernés\n",
    "filepath='/Users/oliviavolpi/MOOC/OpenClassroom-DataAnalyst/OpenClassroom- Projet 5/erp.xlsx'\n",
    "erp = pd.read_excel(filepath)\n",
    "erp.sample(5)"
   ]
  },
  {
   "cell_type": "code",
   "execution_count": 3,
   "metadata": {},
   "outputs": [
    {
     "name": "stdout",
     "output_type": "stream",
     "text": [
      "<class 'pandas.core.frame.DataFrame'>\n",
      "RangeIndex: 825 entries, 0 to 824\n",
      "Data columns (total 5 columns):\n",
      " #   Column          Non-Null Count  Dtype  \n",
      "---  ------          --------------  -----  \n",
      " 0   product_id      825 non-null    int64  \n",
      " 1   onsale_web      825 non-null    int64  \n",
      " 2   price           825 non-null    float64\n",
      " 3   stock_quantity  825 non-null    int64  \n",
      " 4   stock_status    825 non-null    object \n",
      "dtypes: float64(1), int64(3), object(1)\n",
      "memory usage: 32.4+ KB\n"
     ]
    }
   ],
   "source": [
    "erp.info()"
   ]
  },
  {
   "cell_type": "markdown",
   "metadata": {},
   "source": [
    "Il n'y a pas de données manquantes, et les types de data (\"dtype\") correspondent à l'usage prévu. "
   ]
  },
  {
   "cell_type": "code",
   "execution_count": 4,
   "metadata": {
    "scrolled": true
   },
   "outputs": [
    {
     "data": {
      "text/html": [
       "<div>\n",
       "<style scoped>\n",
       "    .dataframe tbody tr th:only-of-type {\n",
       "        vertical-align: middle;\n",
       "    }\n",
       "\n",
       "    .dataframe tbody tr th {\n",
       "        vertical-align: top;\n",
       "    }\n",
       "\n",
       "    .dataframe thead th {\n",
       "        text-align: right;\n",
       "    }\n",
       "</style>\n",
       "<table border=\"1\" class=\"dataframe\">\n",
       "  <thead>\n",
       "    <tr style=\"text-align: right;\">\n",
       "      <th></th>\n",
       "      <th>product_id</th>\n",
       "      <th>onsale_web</th>\n",
       "      <th>price</th>\n",
       "      <th>stock_quantity</th>\n",
       "      <th>stock_status</th>\n",
       "    </tr>\n",
       "  </thead>\n",
       "  <tbody>\n",
       "    <tr>\n",
       "      <th>443</th>\n",
       "      <td>4954</td>\n",
       "      <td>1</td>\n",
       "      <td>25.0</td>\n",
       "      <td>0</td>\n",
       "      <td>instock</td>\n",
       "    </tr>\n",
       "  </tbody>\n",
       "</table>\n",
       "</div>"
      ],
      "text/plain": [
       "     product_id  onsale_web  price  stock_quantity stock_status\n",
       "443        4954           1   25.0               0      instock"
      ]
     },
     "execution_count": 4,
     "metadata": {},
     "output_type": "execute_result"
    }
   ],
   "source": [
    "# L'examen d'un \"sample\" a montré une anomalie dans la colonne stock_status:\n",
    "# on vérifie l'ensemble de la colonne\n",
    "erp.query('(stock_quantity ==0) & (stock_status == \"instock\")')"
   ]
  },
  {
   "cell_type": "markdown",
   "metadata": {},
   "source": [
    "On a constaté qu'une ligne est en erreur dans le fichier: la __quantité en stock est zéro, mais le statut indique que le produit est disponible__. \n",
    "\n",
    "En attendant une __vérification du stock__, on va corriger le statut incorrect de ce produit."
   ]
  },
  {
   "cell_type": "code",
   "execution_count": 5,
   "metadata": {},
   "outputs": [
    {
     "name": "stdout",
     "output_type": "stream",
     "text": [
      "Avant modification: instock\n",
      "Après modification: outofstock\n"
     ]
    }
   ],
   "source": [
    "print('Avant modification:',erp.loc[443,'stock_status'])\n",
    "erp.loc[443,'stock_status'] = 'outofstock'\n",
    "print('Après modification:',erp.loc[443,'stock_status'])"
   ]
  },
  {
   "cell_type": "markdown",
   "metadata": {},
   "source": [
    "On pourrait, en fait, __renoncer complètement à la colonne stock_status__, qui ne donne pas d'information supplémentaire: la colonne stock_quantity est suffisante. "
   ]
  },
  {
   "cell_type": "code",
   "execution_count": 6,
   "metadata": {},
   "outputs": [
    {
     "name": "stdout",
     "output_type": "stream",
     "text": [
      "<class 'pandas.core.frame.DataFrame'>\n",
      "RangeIndex: 825 entries, 0 to 824\n",
      "Data columns (total 4 columns):\n",
      " #   Column          Non-Null Count  Dtype  \n",
      "---  ------          --------------  -----  \n",
      " 0   product_id      825 non-null    int64  \n",
      " 1   onsale_web      825 non-null    int64  \n",
      " 2   price           825 non-null    float64\n",
      " 3   stock_quantity  825 non-null    int64  \n",
      "dtypes: float64(1), int64(3)\n",
      "memory usage: 25.9 KB\n"
     ]
    }
   ],
   "source": [
    "# Suppression de la colonne et vérification du résultat\n",
    "erp.drop(columns='stock_status',inplace = True)\n",
    "erp.info()"
   ]
  },
  {
   "cell_type": "markdown",
   "metadata": {},
   "source": [
    "***"
   ]
  },
  {
   "cell_type": "markdown",
   "metadata": {},
   "source": [
    "#### Le fichier \"Web\""
   ]
  },
  {
   "cell_type": "code",
   "execution_count": 7,
   "metadata": {},
   "outputs": [
    {
     "data": {
      "text/html": [
       "<div>\n",
       "<style scoped>\n",
       "    .dataframe tbody tr th:only-of-type {\n",
       "        vertical-align: middle;\n",
       "    }\n",
       "\n",
       "    .dataframe tbody tr th {\n",
       "        vertical-align: top;\n",
       "    }\n",
       "\n",
       "    .dataframe thead th {\n",
       "        text-align: right;\n",
       "    }\n",
       "</style>\n",
       "<table border=\"1\" class=\"dataframe\">\n",
       "  <thead>\n",
       "    <tr style=\"text-align: right;\">\n",
       "      <th></th>\n",
       "      <th>sku</th>\n",
       "      <th>virtual</th>\n",
       "      <th>downloadable</th>\n",
       "      <th>rating_count</th>\n",
       "      <th>average_rating</th>\n",
       "      <th>total_sales</th>\n",
       "      <th>tax_status</th>\n",
       "      <th>tax_class</th>\n",
       "      <th>post_author</th>\n",
       "      <th>post_date</th>\n",
       "      <th>...</th>\n",
       "      <th>post_name</th>\n",
       "      <th>post_modified</th>\n",
       "      <th>post_modified_gmt</th>\n",
       "      <th>post_content_filtered</th>\n",
       "      <th>post_parent</th>\n",
       "      <th>guid</th>\n",
       "      <th>menu_order</th>\n",
       "      <th>post_type</th>\n",
       "      <th>post_mime_type</th>\n",
       "      <th>comment_count</th>\n",
       "    </tr>\n",
       "  </thead>\n",
       "  <tbody>\n",
       "    <tr>\n",
       "      <th>0</th>\n",
       "      <td>bon-cadeau-25-euros</td>\n",
       "      <td>0</td>\n",
       "      <td>0</td>\n",
       "      <td>0</td>\n",
       "      <td>0.0</td>\n",
       "      <td>10.0</td>\n",
       "      <td>taxable</td>\n",
       "      <td>NaN</td>\n",
       "      <td>1.0</td>\n",
       "      <td>2018-06-01 13:53:46</td>\n",
       "      <td>...</td>\n",
       "      <td>bon-cadeau-de-25-euros</td>\n",
       "      <td>2018-06-01 14:13:57</td>\n",
       "      <td>2018-06-01 12:13:57</td>\n",
       "      <td>NaN</td>\n",
       "      <td>0.0</td>\n",
       "      <td>https://www.bottle-neck.fr/?post_type=product&amp;...</td>\n",
       "      <td>0.0</td>\n",
       "      <td>product</td>\n",
       "      <td>NaN</td>\n",
       "      <td>0.0</td>\n",
       "    </tr>\n",
       "    <tr>\n",
       "      <th>1</th>\n",
       "      <td>15298</td>\n",
       "      <td>0</td>\n",
       "      <td>0</td>\n",
       "      <td>0</td>\n",
       "      <td>0.0</td>\n",
       "      <td>6.0</td>\n",
       "      <td>taxable</td>\n",
       "      <td>NaN</td>\n",
       "      <td>2.0</td>\n",
       "      <td>2018-02-08 12:58:52</td>\n",
       "      <td>...</td>\n",
       "      <td>pierre-jean-villa-saint-joseph-preface-2018</td>\n",
       "      <td>2019-12-30 09:30:29</td>\n",
       "      <td>2019-12-30 08:30:29</td>\n",
       "      <td>NaN</td>\n",
       "      <td>0.0</td>\n",
       "      <td>https://www.bottle-neck.fr/?post_type=product&amp;...</td>\n",
       "      <td>0.0</td>\n",
       "      <td>product</td>\n",
       "      <td>NaN</td>\n",
       "      <td>0.0</td>\n",
       "    </tr>\n",
       "    <tr>\n",
       "      <th>2</th>\n",
       "      <td>15296</td>\n",
       "      <td>0</td>\n",
       "      <td>0</td>\n",
       "      <td>0</td>\n",
       "      <td>0.0</td>\n",
       "      <td>0.0</td>\n",
       "      <td>taxable</td>\n",
       "      <td>NaN</td>\n",
       "      <td>2.0</td>\n",
       "      <td>2018-02-08 13:49:41</td>\n",
       "      <td>...</td>\n",
       "      <td>pierre-jean-villa-saint-joseph-tilde-2017</td>\n",
       "      <td>2019-12-21 09:00:17</td>\n",
       "      <td>2019-12-21 08:00:17</td>\n",
       "      <td>NaN</td>\n",
       "      <td>0.0</td>\n",
       "      <td>https://www.bottle-neck.fr/?post_type=product&amp;...</td>\n",
       "      <td>0.0</td>\n",
       "      <td>product</td>\n",
       "      <td>NaN</td>\n",
       "      <td>0.0</td>\n",
       "    </tr>\n",
       "    <tr>\n",
       "      <th>3</th>\n",
       "      <td>15300</td>\n",
       "      <td>0</td>\n",
       "      <td>0</td>\n",
       "      <td>0</td>\n",
       "      <td>0.0</td>\n",
       "      <td>0.0</td>\n",
       "      <td>taxable</td>\n",
       "      <td>NaN</td>\n",
       "      <td>2.0</td>\n",
       "      <td>2018-02-08 14:08:36</td>\n",
       "      <td>...</td>\n",
       "      <td>pierre-jean-villa-croze-hermitage-accroche-coe...</td>\n",
       "      <td>2020-06-26 18:15:03</td>\n",
       "      <td>2020-06-26 16:15:03</td>\n",
       "      <td>NaN</td>\n",
       "      <td>0.0</td>\n",
       "      <td>https://www.bottle-neck.fr/?post_type=product&amp;...</td>\n",
       "      <td>0.0</td>\n",
       "      <td>product</td>\n",
       "      <td>NaN</td>\n",
       "      <td>0.0</td>\n",
       "    </tr>\n",
       "    <tr>\n",
       "      <th>4</th>\n",
       "      <td>19814</td>\n",
       "      <td>0</td>\n",
       "      <td>0</td>\n",
       "      <td>0</td>\n",
       "      <td>0.0</td>\n",
       "      <td>3.0</td>\n",
       "      <td>taxable</td>\n",
       "      <td>NaN</td>\n",
       "      <td>2.0</td>\n",
       "      <td>2018-02-09 14:01:05</td>\n",
       "      <td>...</td>\n",
       "      <td>pierre-jean-villa-igp-gamine-2018</td>\n",
       "      <td>2020-01-04 16:36:01</td>\n",
       "      <td>2020-01-04 15:36:01</td>\n",
       "      <td>NaN</td>\n",
       "      <td>0.0</td>\n",
       "      <td>https://www.bottle-neck.fr/?post_type=product&amp;...</td>\n",
       "      <td>0.0</td>\n",
       "      <td>product</td>\n",
       "      <td>NaN</td>\n",
       "      <td>0.0</td>\n",
       "    </tr>\n",
       "  </tbody>\n",
       "</table>\n",
       "<p>5 rows × 28 columns</p>\n",
       "</div>"
      ],
      "text/plain": [
       "                   sku  virtual  downloadable  rating_count  average_rating  \\\n",
       "0  bon-cadeau-25-euros        0             0             0             0.0   \n",
       "1                15298        0             0             0             0.0   \n",
       "2                15296        0             0             0             0.0   \n",
       "3                15300        0             0             0             0.0   \n",
       "4                19814        0             0             0             0.0   \n",
       "\n",
       "   total_sales tax_status  tax_class  post_author           post_date  ...  \\\n",
       "0         10.0    taxable        NaN          1.0 2018-06-01 13:53:46  ...   \n",
       "1          6.0    taxable        NaN          2.0 2018-02-08 12:58:52  ...   \n",
       "2          0.0    taxable        NaN          2.0 2018-02-08 13:49:41  ...   \n",
       "3          0.0    taxable        NaN          2.0 2018-02-08 14:08:36  ...   \n",
       "4          3.0    taxable        NaN          2.0 2018-02-09 14:01:05  ...   \n",
       "\n",
       "                                           post_name       post_modified  \\\n",
       "0                             bon-cadeau-de-25-euros 2018-06-01 14:13:57   \n",
       "1        pierre-jean-villa-saint-joseph-preface-2018 2019-12-30 09:30:29   \n",
       "2          pierre-jean-villa-saint-joseph-tilde-2017 2019-12-21 09:00:17   \n",
       "3  pierre-jean-villa-croze-hermitage-accroche-coe... 2020-06-26 18:15:03   \n",
       "4                  pierre-jean-villa-igp-gamine-2018 2020-01-04 16:36:01   \n",
       "\n",
       "    post_modified_gmt post_content_filtered post_parent  \\\n",
       "0 2018-06-01 12:13:57                   NaN         0.0   \n",
       "1 2019-12-30 08:30:29                   NaN         0.0   \n",
       "2 2019-12-21 08:00:17                   NaN         0.0   \n",
       "3 2020-06-26 16:15:03                   NaN         0.0   \n",
       "4 2020-01-04 15:36:01                   NaN         0.0   \n",
       "\n",
       "                                                guid menu_order  post_type  \\\n",
       "0  https://www.bottle-neck.fr/?post_type=product&...        0.0    product   \n",
       "1  https://www.bottle-neck.fr/?post_type=product&...        0.0    product   \n",
       "2  https://www.bottle-neck.fr/?post_type=product&...        0.0    product   \n",
       "3  https://www.bottle-neck.fr/?post_type=product&...        0.0    product   \n",
       "4  https://www.bottle-neck.fr/?post_type=product&...        0.0    product   \n",
       "\n",
       "  post_mime_type comment_count  \n",
       "0            NaN           0.0  \n",
       "1            NaN           0.0  \n",
       "2            NaN           0.0  \n",
       "3            NaN           0.0  \n",
       "4            NaN           0.0  \n",
       "\n",
       "[5 rows x 28 columns]"
      ]
     },
     "execution_count": 7,
     "metadata": {},
     "output_type": "execute_result"
    }
   ],
   "source": [
    "filepath='/Users/oliviavolpi/MOOC/OpenClassroom-DataAnalyst/OpenClassroom- Projet 5/web.xlsx'\n",
    "web = pd.read_excel(filepath)\n",
    "web.head()"
   ]
  },
  {
   "cell_type": "code",
   "execution_count": 8,
   "metadata": {},
   "outputs": [
    {
     "name": "stdout",
     "output_type": "stream",
     "text": [
      "<class 'pandas.core.frame.DataFrame'>\n",
      "RangeIndex: 1513 entries, 0 to 1512\n",
      "Data columns (total 28 columns):\n",
      " #   Column                 Non-Null Count  Dtype         \n",
      "---  ------                 --------------  -----         \n",
      " 0   sku                    1428 non-null   object        \n",
      " 1   virtual                1513 non-null   int64         \n",
      " 2   downloadable           1513 non-null   int64         \n",
      " 3   rating_count           1513 non-null   int64         \n",
      " 4   average_rating         1430 non-null   float64       \n",
      " 5   total_sales            1430 non-null   float64       \n",
      " 6   tax_status             716 non-null    object        \n",
      " 7   tax_class              0 non-null      float64       \n",
      " 8   post_author            1430 non-null   float64       \n",
      " 9   post_date              1430 non-null   datetime64[ns]\n",
      " 10  post_date_gmt          1430 non-null   datetime64[ns]\n",
      " 11  post_content           0 non-null      float64       \n",
      " 12  post_title             1430 non-null   object        \n",
      " 13  post_excerpt           716 non-null    object        \n",
      " 14  post_status            1430 non-null   object        \n",
      " 15  comment_status         1430 non-null   object        \n",
      " 16  ping_status            1430 non-null   object        \n",
      " 17  post_password          0 non-null      float64       \n",
      " 18  post_name              1430 non-null   object        \n",
      " 19  post_modified          1430 non-null   datetime64[ns]\n",
      " 20  post_modified_gmt      1430 non-null   datetime64[ns]\n",
      " 21  post_content_filtered  0 non-null      float64       \n",
      " 22  post_parent            1430 non-null   float64       \n",
      " 23  guid                   1430 non-null   object        \n",
      " 24  menu_order             1430 non-null   float64       \n",
      " 25  post_type              1430 non-null   object        \n",
      " 26  post_mime_type         714 non-null    object        \n",
      " 27  comment_count          1430 non-null   float64       \n",
      "dtypes: datetime64[ns](4), float64(10), int64(3), object(11)\n",
      "memory usage: 331.1+ KB\n"
     ]
    }
   ],
   "source": [
    "web.info()"
   ]
  },
  {
   "cell_type": "markdown",
   "metadata": {},
   "source": [
    "Il y a 28 colonnes, dont beaucoup en rapport avec les posts. Il n'est sans doute __pas nécessaire de toutes les garder__: il faut identifier celles qui sont les plus pertinentes, notamment celles qui pourraient indiquer la __date de mise en vente__. \n",
    "\n",
    "On examine tout d'abord chaque colonne pour vérifier que le __contenu est informatif__. On utilise:\n",
    "- info(), qui permet d'identifier immédiatement les colonnes entièrement NULL ('O non-null') ou celles ppur lesquelles il manque beaucoup d'information;\n",
    "- unique(), appliqué à chaque colonne, pour voir les différentes valeurs de la colonne;\n",
    "- nunique(), appliqué à chaque colonne, pour connaître le nombre de  valeurs différentes de la colonne.\n",
    "\n",
    "\n",
    "Colonnes vides, NULL:\n",
    "- virtual : uniquement des zéros\n",
    "- downloadable: uniquement des zéros\n",
    "- rating_count: uniquement des zéros\n",
    "- average_rating : des zéros et des NaN\n",
    "- tax_class : entièrement NULL\n",
    "- post_content: entièrement NULL\n",
    "- post_password: entièrement NULL\n",
    "- post_content_filtered: entièrement NULL\n",
    "- post_parent : des zéros et des NaN\n",
    "- menu_order : des zéros et des NaN\n",
    "- comment_count : des zéros et des NaN\n",
    "\n",
    "\n",
    "\n",
    "Ensuite, en tenant compte des questions posées, on évalue la __pertinence__ de la colonne\n",
    "\n",
    "Colonnes dont le contenu ne paraît pas pertinent pour la question:\n",
    "- tax_status\n",
    "- post_author\n",
    "- post_date_gmt (redondance avec post_date)\n",
    "- post_excerpt\n",
    "- post_status\n",
    "- comment_status\n",
    "- ping_status\n",
    "- post_name (redondance avec post_title\n",
    "- post_modified (redondance avec post_date)\n",
    "- post_modified_gmt (redondance avec post_date)\n",
    "- guid\n",
    "- post_type\n",
    "- post_mime_type\n",
    "\n",
    "\n",
    "\n",
    "Voici, après ces vérifications, les __colonnes à conserver:__\n",
    "- sku\n",
    "- total_sales\n",
    "- post_date\n",
    "- post_title (pour avoir le nom du vin, plutôt qu'un numéro de produit)\n"
   ]
  },
  {
   "cell_type": "code",
   "execution_count": 9,
   "metadata": {},
   "outputs": [],
   "source": [
    "#filepath='/Users/oliviavolpi/MOOC/OpenClassroom-DataAnalyst/OpenClassroom- Projet 5/web.xlsx'\n",
    "#cols=['sku','total_sales','post_date','post_title']\n",
    "#test = pd.read_excel(filepath, usecols=cols)\n",
    "#test.sample(15)\n",
    "cols=['sku','total_sales','post_date','post_title']\n",
    "web=web.filter(items=cols)"
   ]
  },
  {
   "cell_type": "code",
   "execution_count": 10,
   "metadata": {
    "scrolled": true
   },
   "outputs": [
    {
     "name": "stdout",
     "output_type": "stream",
     "text": [
      "<class 'pandas.core.frame.DataFrame'>\n",
      "RangeIndex: 1513 entries, 0 to 1512\n",
      "Data columns (total 4 columns):\n",
      " #   Column       Non-Null Count  Dtype         \n",
      "---  ------       --------------  -----         \n",
      " 0   sku          1428 non-null   object        \n",
      " 1   total_sales  1430 non-null   float64       \n",
      " 2   post_date    1430 non-null   datetime64[ns]\n",
      " 3   post_title   1430 non-null   object        \n",
      "dtypes: datetime64[ns](1), float64(1), object(2)\n",
      "memory usage: 47.4+ KB\n"
     ]
    }
   ],
   "source": [
    "web.info()"
   ]
  },
  {
   "cell_type": "markdown",
   "metadata": {},
   "source": [
    "Le fichier de la boutique web présente __plus de 1500 entrées__, ce qui est étonnant car, dans le fichier de liaison réalisé par \"Sylvie\", il y a __seulement 714 références__. On vérifie ce qu'il en est. "
   ]
  },
  {
   "cell_type": "code",
   "execution_count": 11,
   "metadata": {},
   "outputs": [
    {
     "data": {
      "text/plain": [
       "714"
      ]
     },
     "execution_count": 11,
     "metadata": {},
     "output_type": "execute_result"
    }
   ],
   "source": [
    "# Vérification des sku\n",
    "web.sku.nunique()"
   ]
  },
  {
   "cell_type": "markdown",
   "metadata": {},
   "source": [
    "Il y a probablement un problème avec les sku: il n'y en a que 714 différents, comme dans le fichier de liaison réalisé par \"Sylvie\". A quoi correspondent les lignes en plus? "
   ]
  },
  {
   "cell_type": "code",
   "execution_count": 12,
   "metadata": {
    "scrolled": false
   },
   "outputs": [
    {
     "data": {
      "text/plain": [
       "14332    2\n",
       "15032    2\n",
       "15717    2\n",
       "14692    2\n",
       "15715    2\n",
       "        ..\n",
       "16042    2\n",
       "16041    2\n",
       "16039    2\n",
       "16038    2\n",
       "15360    2\n",
       "Name: sku, Length: 714, dtype: int64"
      ]
     },
     "execution_count": 12,
     "metadata": {},
     "output_type": "execute_result"
    }
   ],
   "source": [
    "web.sku.value_counts()"
   ]
  },
  {
   "cell_type": "code",
   "execution_count": 13,
   "metadata": {},
   "outputs": [
    {
     "name": "stdout",
     "output_type": "stream",
     "text": [
      "       sku  total_sales           post_date  \\\n",
      "97   14332          1.0 2018-02-14 16:45:18   \n",
      "895  14332          1.0 2018-02-14 16:45:18   \n",
      "\n",
      "                                    post_title  \n",
      "97   Le Hameau Des Ollieux Monsieur Pinot 2017  \n",
      "895  Le Hameau Des Ollieux Monsieur Pinot 2017  \n",
      "        sku  total_sales           post_date  \\\n",
      "557   15360          2.0 2019-01-31 13:42:46   \n",
      "1330  15360          2.0 2019-01-31 13:42:46   \n",
      "\n",
      "                                    post_title  \n",
      "557   Domaine Huet Vouvray Pétillant Brut 2014  \n",
      "1330  Domaine Huet Vouvray Pétillant Brut 2014  \n",
      "        sku  total_sales           post_date  \\\n",
      "589   14692          0.0 2019-03-19 10:06:47   \n",
      "1362  14692          0.0 2019-03-19 10:06:47   \n",
      "\n",
      "                                         post_title  \n",
      "589   Château Fonréaud Bordeaux Blanc Le Cygne 2016  \n",
      "1362  Château Fonréaud Bordeaux Blanc Le Cygne 2016  \n",
      "       sku  total_sales           post_date                       post_title\n",
      "10   16041         14.0 2018-02-12 10:09:03  Pierre Gaillard Côte Rôtie 2018\n",
      "808  16041         14.0 2018-02-12 10:09:03  Pierre Gaillard Côte Rôtie 2018\n"
     ]
    }
   ],
   "source": [
    "# Vérification d'un échantillon de lignes\n",
    "print(web.query('sku == 14332'))\n",
    "print(web.query('sku == 15360'))\n",
    "print(web.query('sku == 14692'))\n",
    "print(web.query('sku == 16041'))"
   ]
  },
  {
   "cell_type": "markdown",
   "metadata": {},
   "source": [
    "On constate que __chaque sku apparait deux fois__. "
   ]
  },
  {
   "cell_type": "code",
   "execution_count": 14,
   "metadata": {},
   "outputs": [],
   "source": [
    "# Elimination des doublons\n",
    "web.drop_duplicates(inplace= True,ignore_index = True)"
   ]
  },
  {
   "cell_type": "code",
   "execution_count": 15,
   "metadata": {},
   "outputs": [
    {
     "name": "stdout",
     "output_type": "stream",
     "text": [
      "<class 'pandas.core.frame.DataFrame'>\n",
      "RangeIndex: 717 entries, 0 to 716\n",
      "Data columns (total 4 columns):\n",
      " #   Column       Non-Null Count  Dtype         \n",
      "---  ------       --------------  -----         \n",
      " 0   sku          714 non-null    object        \n",
      " 1   total_sales  716 non-null    float64       \n",
      " 2   post_date    716 non-null    datetime64[ns]\n",
      " 3   post_title   716 non-null    object        \n",
      "dtypes: datetime64[ns](1), float64(1), object(2)\n",
      "memory usage: 22.5+ KB\n"
     ]
    }
   ],
   "source": [
    "# Vérification du résultat\n",
    "web.info()"
   ]
  },
  {
   "cell_type": "markdown",
   "metadata": {},
   "source": [
    "Maintenant que __les doublons ont été eliminés__, on constate un autre problème: il y a bien 714 sku, mais 717 lignes au total. On vérifie ce à quoi correspondent les __lignes qui contiennent des valeurs null__. "
   ]
  },
  {
   "cell_type": "code",
   "execution_count": 16,
   "metadata": {
    "scrolled": true
   },
   "outputs": [
    {
     "data": {
      "text/html": [
       "<div>\n",
       "<style scoped>\n",
       "    .dataframe tbody tr th:only-of-type {\n",
       "        vertical-align: middle;\n",
       "    }\n",
       "\n",
       "    .dataframe tbody tr th {\n",
       "        vertical-align: top;\n",
       "    }\n",
       "\n",
       "    .dataframe thead th {\n",
       "        text-align: right;\n",
       "    }\n",
       "</style>\n",
       "<table border=\"1\" class=\"dataframe\">\n",
       "  <thead>\n",
       "    <tr style=\"text-align: right;\">\n",
       "      <th></th>\n",
       "      <th>sku</th>\n",
       "      <th>total_sales</th>\n",
       "      <th>post_date</th>\n",
       "      <th>post_title</th>\n",
       "    </tr>\n",
       "  </thead>\n",
       "  <tbody>\n",
       "    <tr>\n",
       "      <th>178</th>\n",
       "      <td>NaN</td>\n",
       "      <td>NaN</td>\n",
       "      <td>NaT</td>\n",
       "      <td>NaN</td>\n",
       "    </tr>\n",
       "    <tr>\n",
       "      <th>449</th>\n",
       "      <td>NaN</td>\n",
       "      <td>0.0</td>\n",
       "      <td>2018-07-31 12:07:23</td>\n",
       "      <td>Pierre Jean Villa Côte Rôtie Fongeant 2017</td>\n",
       "    </tr>\n",
       "    <tr>\n",
       "      <th>450</th>\n",
       "      <td>NaN</td>\n",
       "      <td>0.0</td>\n",
       "      <td>2018-08-08 11:23:43</td>\n",
       "      <td>Pierre Jean Villa Condrieu Jardin Suspendu 2018</td>\n",
       "    </tr>\n",
       "  </tbody>\n",
       "</table>\n",
       "</div>"
      ],
      "text/plain": [
       "     sku  total_sales           post_date  \\\n",
       "178  NaN          NaN                 NaT   \n",
       "449  NaN          0.0 2018-07-31 12:07:23   \n",
       "450  NaN          0.0 2018-08-08 11:23:43   \n",
       "\n",
       "                                          post_title  \n",
       "178                                              NaN  \n",
       "449       Pierre Jean Villa Côte Rôtie Fongeant 2017  \n",
       "450  Pierre Jean Villa Condrieu Jardin Suspendu 2018  "
      ]
     },
     "execution_count": 16,
     "metadata": {},
     "output_type": "execute_result"
    }
   ],
   "source": [
    "avec_valeurs_null = web[web.isna().any(axis=1)]\n",
    "avec_valeurs_null"
   ]
  },
  {
   "cell_type": "markdown",
   "metadata": {},
   "source": [
    "On décide qu'on peut sans crainte éliminer la ligne 178, dont toutes les valeurs sont null. \n",
    "\n",
    "En revanche, même s'il n'y a pas encore eu de vente pour les lignes 449 (_Pierre Jean Villa Côte Rôtie Fongeant 2017_) et 450 (_Pierre Jean Villa Condrieu Jardin Suspendu 2018_), ces produits ont fait l'objet d'une mise en vente sur la boutique en ligne. \n",
    "\n",
    "On les laisse pour le moment, mais il conviendra de leur attribuer rapidement un sku, correspondant à leur product_id. Il s'agit __peut-être des produits pour lesquels Sylvie n'a pas réussi à trouver de correspondance__. "
   ]
  },
  {
   "cell_type": "code",
   "execution_count": 17,
   "metadata": {},
   "outputs": [
    {
     "name": "stdout",
     "output_type": "stream",
     "text": [
      "<class 'pandas.core.frame.DataFrame'>\n",
      "Int64Index: 716 entries, 0 to 716\n",
      "Data columns (total 4 columns):\n",
      " #   Column       Non-Null Count  Dtype         \n",
      "---  ------       --------------  -----         \n",
      " 0   sku          714 non-null    object        \n",
      " 1   total_sales  716 non-null    float64       \n",
      " 2   post_date    716 non-null    datetime64[ns]\n",
      " 3   post_title   716 non-null    object        \n",
      "dtypes: datetime64[ns](1), float64(1), object(2)\n",
      "memory usage: 28.0+ KB\n"
     ]
    }
   ],
   "source": [
    "#on élimine uniquement la ligne dont toutes les valeurs sont null\n",
    "web.dropna(axis=0,how='all',inplace = True)\n",
    "web.info()"
   ]
  },
  {
   "cell_type": "markdown",
   "metadata": {},
   "source": [
    "***"
   ]
  },
  {
   "cell_type": "markdown",
   "metadata": {},
   "source": [
    "#### Le fichier \"Lien\""
   ]
  },
  {
   "cell_type": "markdown",
   "metadata": {},
   "source": [
    " \"Sylvie\" a indiqué dans son \"mail\":\n",
    " >_je me rends compte à l’instant que j’ai également mal nommé la colonne dans le fichier Excel. En fait, la colonne id_web dans mon fichier correspond au SKU des produits dans la boutique en ligne._\n",
    " \n",
    " On renomme immediatement la colonne indiquée. "
   ]
  },
  {
   "cell_type": "code",
   "execution_count": 18,
   "metadata": {},
   "outputs": [
    {
     "data": {
      "text/html": [
       "<div>\n",
       "<style scoped>\n",
       "    .dataframe tbody tr th:only-of-type {\n",
       "        vertical-align: middle;\n",
       "    }\n",
       "\n",
       "    .dataframe tbody tr th {\n",
       "        vertical-align: top;\n",
       "    }\n",
       "\n",
       "    .dataframe thead th {\n",
       "        text-align: right;\n",
       "    }\n",
       "</style>\n",
       "<table border=\"1\" class=\"dataframe\">\n",
       "  <thead>\n",
       "    <tr style=\"text-align: right;\">\n",
       "      <th></th>\n",
       "      <th>product_id</th>\n",
       "      <th>sku</th>\n",
       "    </tr>\n",
       "  </thead>\n",
       "  <tbody>\n",
       "    <tr>\n",
       "      <th>0</th>\n",
       "      <td>3847</td>\n",
       "      <td>15298</td>\n",
       "    </tr>\n",
       "    <tr>\n",
       "      <th>1</th>\n",
       "      <td>3849</td>\n",
       "      <td>15296</td>\n",
       "    </tr>\n",
       "    <tr>\n",
       "      <th>2</th>\n",
       "      <td>3850</td>\n",
       "      <td>15300</td>\n",
       "    </tr>\n",
       "    <tr>\n",
       "      <th>3</th>\n",
       "      <td>4032</td>\n",
       "      <td>19814</td>\n",
       "    </tr>\n",
       "    <tr>\n",
       "      <th>4</th>\n",
       "      <td>4039</td>\n",
       "      <td>19815</td>\n",
       "    </tr>\n",
       "  </tbody>\n",
       "</table>\n",
       "</div>"
      ],
      "text/plain": [
       "   product_id    sku\n",
       "0        3847  15298\n",
       "1        3849  15296\n",
       "2        3850  15300\n",
       "3        4032  19814\n",
       "4        4039  19815"
      ]
     },
     "execution_count": 18,
     "metadata": {},
     "output_type": "execute_result"
    }
   ],
   "source": [
    "filepath='/Users/oliviavolpi/MOOC/OpenClassroom-DataAnalyst/OpenClassroom- Projet 5/liaison.xlsx'\n",
    "# On renomme directement la colonne \"id_web\" en \"sku\"\n",
    "names= ['product_id','sku']\n",
    "lien = pd.read_excel(filepath, header =0,names=names)\n",
    "lien.head()"
   ]
  },
  {
   "cell_type": "code",
   "execution_count": 19,
   "metadata": {},
   "outputs": [
    {
     "data": {
      "text/plain": [
       "Index(['product_id', 'sku'], dtype='object')"
      ]
     },
     "execution_count": 19,
     "metadata": {},
     "output_type": "execute_result"
    }
   ],
   "source": [
    "lien.columns"
   ]
  },
  {
   "cell_type": "code",
   "execution_count": 20,
   "metadata": {},
   "outputs": [
    {
     "name": "stdout",
     "output_type": "stream",
     "text": [
      "<class 'pandas.core.frame.DataFrame'>\n",
      "RangeIndex: 825 entries, 0 to 824\n",
      "Data columns (total 2 columns):\n",
      " #   Column      Non-Null Count  Dtype \n",
      "---  ------      --------------  ----- \n",
      " 0   product_id  825 non-null    int64 \n",
      " 1   sku         734 non-null    object\n",
      "dtypes: int64(1), object(1)\n",
      "memory usage: 13.0+ KB\n"
     ]
    }
   ],
   "source": [
    "lien.info()"
   ]
  },
  {
   "cell_type": "markdown",
   "metadata": {},
   "source": [
    "Avant de réunir les dataframes, on vérifie que les __liens correspondent aux products_id et sku__ des dataframes concernés. "
   ]
  },
  {
   "cell_type": "code",
   "execution_count": 21,
   "metadata": {},
   "outputs": [
    {
     "data": {
      "text/html": [
       "<div>\n",
       "<style scoped>\n",
       "    .dataframe tbody tr th:only-of-type {\n",
       "        vertical-align: middle;\n",
       "    }\n",
       "\n",
       "    .dataframe tbody tr th {\n",
       "        vertical-align: top;\n",
       "    }\n",
       "\n",
       "    .dataframe thead th {\n",
       "        text-align: right;\n",
       "    }\n",
       "</style>\n",
       "<table border=\"1\" class=\"dataframe\">\n",
       "  <thead>\n",
       "    <tr style=\"text-align: right;\">\n",
       "      <th></th>\n",
       "      <th>product_id</th>\n",
       "      <th>sku</th>\n",
       "    </tr>\n",
       "  </thead>\n",
       "  <tbody>\n",
       "  </tbody>\n",
       "</table>\n",
       "</div>"
      ],
      "text/plain": [
       "Empty DataFrame\n",
       "Columns: [product_id, sku]\n",
       "Index: []"
      ]
     },
     "execution_count": 21,
     "metadata": {},
     "output_type": "execute_result"
    }
   ],
   "source": [
    "# On vérifie la correspondance des product_id\n",
    "lien.query('product_id not in @erp.product_id')"
   ]
  },
  {
   "cell_type": "code",
   "execution_count": 22,
   "metadata": {
    "scrolled": true
   },
   "outputs": [
    {
     "data": {
      "text/html": [
       "<div>\n",
       "<style scoped>\n",
       "    .dataframe tbody tr th:only-of-type {\n",
       "        vertical-align: middle;\n",
       "    }\n",
       "\n",
       "    .dataframe tbody tr th {\n",
       "        vertical-align: top;\n",
       "    }\n",
       "\n",
       "    .dataframe thead th {\n",
       "        text-align: right;\n",
       "    }\n",
       "</style>\n",
       "<table border=\"1\" class=\"dataframe\">\n",
       "  <thead>\n",
       "    <tr style=\"text-align: right;\">\n",
       "      <th></th>\n",
       "      <th>product_id</th>\n",
       "      <th>sku</th>\n",
       "    </tr>\n",
       "  </thead>\n",
       "  <tbody>\n",
       "    <tr>\n",
       "      <th>193</th>\n",
       "      <td>4289</td>\n",
       "      <td>13771</td>\n",
       "    </tr>\n",
       "    <tr>\n",
       "      <th>236</th>\n",
       "      <td>4568</td>\n",
       "      <td>15065</td>\n",
       "    </tr>\n",
       "    <tr>\n",
       "      <th>241</th>\n",
       "      <td>4584</td>\n",
       "      <td>14785</td>\n",
       "    </tr>\n",
       "    <tr>\n",
       "      <th>355</th>\n",
       "      <td>4741</td>\n",
       "      <td>12601</td>\n",
       "    </tr>\n",
       "    <tr>\n",
       "      <th>391</th>\n",
       "      <td>4864</td>\n",
       "      <td>15154</td>\n",
       "    </tr>\n",
       "    <tr>\n",
       "      <th>394</th>\n",
       "      <td>4869</td>\n",
       "      <td>14360</td>\n",
       "    </tr>\n",
       "    <tr>\n",
       "      <th>424</th>\n",
       "      <td>4921</td>\n",
       "      <td>15608</td>\n",
       "    </tr>\n",
       "    <tr>\n",
       "      <th>425</th>\n",
       "      <td>4922</td>\n",
       "      <td>15586</td>\n",
       "    </tr>\n",
       "    <tr>\n",
       "      <th>470</th>\n",
       "      <td>5018</td>\n",
       "      <td>15272</td>\n",
       "    </tr>\n",
       "    <tr>\n",
       "      <th>473</th>\n",
       "      <td>5021</td>\n",
       "      <td>15630</td>\n",
       "    </tr>\n",
       "    <tr>\n",
       "      <th>523</th>\n",
       "      <td>5505</td>\n",
       "      <td>14648</td>\n",
       "    </tr>\n",
       "    <tr>\n",
       "      <th>540</th>\n",
       "      <td>5559</td>\n",
       "      <td>14715</td>\n",
       "    </tr>\n",
       "    <tr>\n",
       "      <th>548</th>\n",
       "      <td>5570</td>\n",
       "      <td>14730</td>\n",
       "    </tr>\n",
       "    <tr>\n",
       "      <th>613</th>\n",
       "      <td>5800</td>\n",
       "      <td>14689</td>\n",
       "    </tr>\n",
       "    <tr>\n",
       "      <th>660</th>\n",
       "      <td>5953</td>\n",
       "      <td>14379</td>\n",
       "    </tr>\n",
       "    <tr>\n",
       "      <th>661</th>\n",
       "      <td>5954</td>\n",
       "      <td>15609</td>\n",
       "    </tr>\n",
       "    <tr>\n",
       "      <th>662</th>\n",
       "      <td>5955</td>\n",
       "      <td>14377</td>\n",
       "    </tr>\n",
       "    <tr>\n",
       "      <th>664</th>\n",
       "      <td>5957</td>\n",
       "      <td>13577</td>\n",
       "    </tr>\n",
       "    <tr>\n",
       "      <th>687</th>\n",
       "      <td>6100</td>\n",
       "      <td>15529</td>\n",
       "    </tr>\n",
       "    <tr>\n",
       "      <th>823</th>\n",
       "      <td>7329</td>\n",
       "      <td>14680-1</td>\n",
       "    </tr>\n",
       "  </tbody>\n",
       "</table>\n",
       "</div>"
      ],
      "text/plain": [
       "     product_id      sku\n",
       "193        4289    13771\n",
       "236        4568    15065\n",
       "241        4584    14785\n",
       "355        4741    12601\n",
       "391        4864    15154\n",
       "394        4869    14360\n",
       "424        4921    15608\n",
       "425        4922    15586\n",
       "470        5018    15272\n",
       "473        5021    15630\n",
       "523        5505    14648\n",
       "540        5559    14715\n",
       "548        5570    14730\n",
       "613        5800    14689\n",
       "660        5953    14379\n",
       "661        5954    15609\n",
       "662        5955    14377\n",
       "664        5957    13577\n",
       "687        6100    15529\n",
       "823        7329  14680-1"
      ]
     },
     "execution_count": 22,
     "metadata": {},
     "output_type": "execute_result"
    }
   ],
   "source": [
    "# On vérifie la correspondance des sku\n",
    "lien.query('sku not in @web.sku')"
   ]
  },
  {
   "cell_type": "markdown",
   "metadata": {},
   "source": [
    "Les product_id des dataframe \"lien\" et \"erp\" correspondent. \n",
    "\n",
    "En revanche, le dataframe \"lien\" __compte 20 sku de plus__ que le dataframe \"web\": 734 pour l'un, 714 pour l'autre. Cela signifie que nous n'aurons pas d'information sur la date et le nombre de vente de ces produits. D'ailleurs, sont-ils censés être en vente dans la boutique en ligne?"
   ]
  },
  {
   "cell_type": "code",
   "execution_count": 23,
   "metadata": {},
   "outputs": [
    {
     "data": {
      "text/html": [
       "<div>\n",
       "<style scoped>\n",
       "    .dataframe tbody tr th:only-of-type {\n",
       "        vertical-align: middle;\n",
       "    }\n",
       "\n",
       "    .dataframe tbody tr th {\n",
       "        vertical-align: top;\n",
       "    }\n",
       "\n",
       "    .dataframe thead th {\n",
       "        text-align: right;\n",
       "    }\n",
       "</style>\n",
       "<table border=\"1\" class=\"dataframe\">\n",
       "  <thead>\n",
       "    <tr style=\"text-align: right;\">\n",
       "      <th></th>\n",
       "      <th>product_id</th>\n",
       "      <th>onsale_web</th>\n",
       "      <th>price</th>\n",
       "      <th>stock_quantity</th>\n",
       "    </tr>\n",
       "  </thead>\n",
       "  <tbody>\n",
       "    <tr>\n",
       "      <th>193</th>\n",
       "      <td>4289</td>\n",
       "      <td>0</td>\n",
       "      <td>22.8</td>\n",
       "      <td>0</td>\n",
       "    </tr>\n",
       "    <tr>\n",
       "      <th>236</th>\n",
       "      <td>4568</td>\n",
       "      <td>0</td>\n",
       "      <td>21.5</td>\n",
       "      <td>0</td>\n",
       "    </tr>\n",
       "    <tr>\n",
       "      <th>241</th>\n",
       "      <td>4584</td>\n",
       "      <td>0</td>\n",
       "      <td>32.3</td>\n",
       "      <td>0</td>\n",
       "    </tr>\n",
       "    <tr>\n",
       "      <th>355</th>\n",
       "      <td>4741</td>\n",
       "      <td>0</td>\n",
       "      <td>12.4</td>\n",
       "      <td>0</td>\n",
       "    </tr>\n",
       "    <tr>\n",
       "      <th>391</th>\n",
       "      <td>4864</td>\n",
       "      <td>0</td>\n",
       "      <td>8.3</td>\n",
       "      <td>0</td>\n",
       "    </tr>\n",
       "    <tr>\n",
       "      <th>394</th>\n",
       "      <td>4869</td>\n",
       "      <td>0</td>\n",
       "      <td>17.2</td>\n",
       "      <td>0</td>\n",
       "    </tr>\n",
       "    <tr>\n",
       "      <th>424</th>\n",
       "      <td>4921</td>\n",
       "      <td>0</td>\n",
       "      <td>13.8</td>\n",
       "      <td>0</td>\n",
       "    </tr>\n",
       "    <tr>\n",
       "      <th>425</th>\n",
       "      <td>4922</td>\n",
       "      <td>0</td>\n",
       "      <td>21.5</td>\n",
       "      <td>0</td>\n",
       "    </tr>\n",
       "    <tr>\n",
       "      <th>470</th>\n",
       "      <td>5018</td>\n",
       "      <td>0</td>\n",
       "      <td>15.4</td>\n",
       "      <td>0</td>\n",
       "    </tr>\n",
       "    <tr>\n",
       "      <th>473</th>\n",
       "      <td>5021</td>\n",
       "      <td>0</td>\n",
       "      <td>17.1</td>\n",
       "      <td>0</td>\n",
       "    </tr>\n",
       "    <tr>\n",
       "      <th>523</th>\n",
       "      <td>5505</td>\n",
       "      <td>0</td>\n",
       "      <td>10.1</td>\n",
       "      <td>0</td>\n",
       "    </tr>\n",
       "    <tr>\n",
       "      <th>540</th>\n",
       "      <td>5559</td>\n",
       "      <td>0</td>\n",
       "      <td>27.9</td>\n",
       "      <td>3</td>\n",
       "    </tr>\n",
       "    <tr>\n",
       "      <th>548</th>\n",
       "      <td>5570</td>\n",
       "      <td>0</td>\n",
       "      <td>22.5</td>\n",
       "      <td>0</td>\n",
       "    </tr>\n",
       "    <tr>\n",
       "      <th>613</th>\n",
       "      <td>5800</td>\n",
       "      <td>0</td>\n",
       "      <td>32.3</td>\n",
       "      <td>0</td>\n",
       "    </tr>\n",
       "    <tr>\n",
       "      <th>660</th>\n",
       "      <td>5953</td>\n",
       "      <td>0</td>\n",
       "      <td>47.5</td>\n",
       "      <td>0</td>\n",
       "    </tr>\n",
       "    <tr>\n",
       "      <th>661</th>\n",
       "      <td>5954</td>\n",
       "      <td>0</td>\n",
       "      <td>18.8</td>\n",
       "      <td>0</td>\n",
       "    </tr>\n",
       "    <tr>\n",
       "      <th>662</th>\n",
       "      <td>5955</td>\n",
       "      <td>0</td>\n",
       "      <td>27.3</td>\n",
       "      <td>0</td>\n",
       "    </tr>\n",
       "    <tr>\n",
       "      <th>664</th>\n",
       "      <td>5957</td>\n",
       "      <td>0</td>\n",
       "      <td>39.0</td>\n",
       "      <td>0</td>\n",
       "    </tr>\n",
       "    <tr>\n",
       "      <th>687</th>\n",
       "      <td>6100</td>\n",
       "      <td>0</td>\n",
       "      <td>12.9</td>\n",
       "      <td>0</td>\n",
       "    </tr>\n",
       "    <tr>\n",
       "      <th>823</th>\n",
       "      <td>7329</td>\n",
       "      <td>0</td>\n",
       "      <td>26.5</td>\n",
       "      <td>14</td>\n",
       "    </tr>\n",
       "  </tbody>\n",
       "</table>\n",
       "</div>"
      ],
      "text/plain": [
       "     product_id  onsale_web  price  stock_quantity\n",
       "193        4289           0   22.8               0\n",
       "236        4568           0   21.5               0\n",
       "241        4584           0   32.3               0\n",
       "355        4741           0   12.4               0\n",
       "391        4864           0    8.3               0\n",
       "394        4869           0   17.2               0\n",
       "424        4921           0   13.8               0\n",
       "425        4922           0   21.5               0\n",
       "470        5018           0   15.4               0\n",
       "473        5021           0   17.1               0\n",
       "523        5505           0   10.1               0\n",
       "540        5559           0   27.9               3\n",
       "548        5570           0   22.5               0\n",
       "613        5800           0   32.3               0\n",
       "660        5953           0   47.5               0\n",
       "661        5954           0   18.8               0\n",
       "662        5955           0   27.3               0\n",
       "664        5957           0   39.0               0\n",
       "687        6100           0   12.9               0\n",
       "823        7329           0   26.5              14"
      ]
     },
     "execution_count": 23,
     "metadata": {},
     "output_type": "execute_result"
    }
   ],
   "source": [
    "df= lien.query('sku not in @web.sku')\n",
    "erp.query('product_id in @df.product_id')"
   ]
  },
  {
   "cell_type": "markdown",
   "metadata": {},
   "source": [
    "Les vingt vins dont les product_id sont appariés aux 20 sku manquants __ne sont pas enregistrés comme étant en vente__ dans la boutique en ligne. "
   ]
  },
  {
   "cell_type": "markdown",
   "metadata": {},
   "source": [
    "Il s'agit peut-être de ce dont \"Sylvie\" parlait dans son mail:\n",
    "\n",
    ">_La liste des product_id est exhaustive, mais pour les références côté Web, j’en suis moins sûre... J’ai peiné à rapprocher certaines références."
   ]
  },
  {
   "cell_type": "markdown",
   "metadata": {},
   "source": [
    "### problème avec le merge 'inner'\n",
    "\n",
    "D'après la syntaxe, un 'inner' merge ne conserve que les enregistrements qui ont tout les deux la clef de jonction en commun. \n",
    "\n",
    "Or, toutes les tentatives pour réunir 'lien' et 'web', qui ont normalement 714 clefs 'sku' en commun, se traduisent par un dataframe de 896 lignes. Les tentatives en tous sens ('left', right'), ne changent pas le résultat..."
   ]
  },
  {
   "cell_type": "code",
   "execution_count": 24,
   "metadata": {},
   "outputs": [
    {
     "name": "stdout",
     "output_type": "stream",
     "text": [
      "nombre de sku dans web: 714\n",
      "nombre de sku dans lien: 734\n",
      "nb de clefs communes: 714\n"
     ]
    }
   ],
   "source": [
    "#nombre de sku dans web\n",
    "print('nombre de sku dans web:',web.sku.nunique())\n",
    "\n",
    "#nombre de sku dans lien\n",
    "print('nombre de sku dans lien:',lien.sku.nunique())\n",
    "\n",
    "# verification clefs en commun\n",
    "clefs_communes = lien.query('sku in @web.sku')\n",
    "\n",
    "print('nb de clefs communes:',clefs_communes.sku.nunique())"
   ]
  },
  {
   "cell_type": "code",
   "execution_count": 25,
   "metadata": {},
   "outputs": [
    {
     "name": "stdout",
     "output_type": "stream",
     "text": [
      "<class 'pandas.core.frame.DataFrame'>\n",
      "RangeIndex: 825 entries, 0 to 824\n",
      "Data columns (total 2 columns):\n",
      " #   Column      Non-Null Count  Dtype \n",
      "---  ------      --------------  ----- \n",
      " 0   product_id  825 non-null    int64 \n",
      " 1   sku         734 non-null    object\n",
      "dtypes: int64(1), object(1)\n",
      "memory usage: 13.0+ KB\n"
     ]
    }
   ],
   "source": [
    "lien.info()"
   ]
  },
  {
   "cell_type": "markdown",
   "metadata": {},
   "source": [
    "### remarque concernant query"
   ]
  },
  {
   "cell_type": "markdown",
   "metadata": {},
   "source": [
    "dans ce cas, query semble avoir considéré que les product_id qui n'ont pas de sku correspondent quand même au sku de web"
   ]
  },
  {
   "cell_type": "code",
   "execution_count": 26,
   "metadata": {},
   "outputs": [
    {
     "data": {
      "text/plain": [
       "805"
      ]
     },
     "execution_count": 26,
     "metadata": {},
     "output_type": "execute_result"
    }
   ],
   "source": [
    "len(lien.query('sku in @web.sku'))"
   ]
  },
  {
   "cell_type": "markdown",
   "metadata": {},
   "source": [
    "### Réunion des dataframes"
   ]
  },
  {
   "cell_type": "markdown",
   "metadata": {},
   "source": [
    "Pour réunir les dataframes en 1 seul, on va utiliser un double merge. \n",
    "\n",
    "On aura ainsi un seul dataframe, contenant tous les vins en vente la boutique web et enregistrés dans l'ERP , avec leur id (erp et sku), leur date de mise en vente, la quantité vendue,  et la disponibilité.\n",
    "\n",
    "Compte-tenu de ce qu'on vient de voir, on s'attend à avoir 714 enregistrements, correspondants aux sku corrects et correctement appariés aux product_id. "
   ]
  },
  {
   "cell_type": "code",
   "execution_count": 27,
   "metadata": {
    "scrolled": false
   },
   "outputs": [
    {
     "name": "stdout",
     "output_type": "stream",
     "text": [
      "<class 'pandas.core.frame.DataFrame'>\n",
      "Int64Index: 896 entries, 0 to 895\n",
      "Data columns (total 8 columns):\n",
      " #   Column          Non-Null Count  Dtype         \n",
      "---  ------          --------------  -----         \n",
      " 0   sku             714 non-null    object        \n",
      " 1   total_sales     896 non-null    float64       \n",
      " 2   post_date       896 non-null    datetime64[ns]\n",
      " 3   post_title      896 non-null    object        \n",
      " 4   product_id      896 non-null    int64         \n",
      " 5   onsale_web      896 non-null    int64         \n",
      " 6   price           896 non-null    float64       \n",
      " 7   stock_quantity  896 non-null    int64         \n",
      "dtypes: datetime64[ns](1), float64(2), int64(3), object(2)\n",
      "memory usage: 63.0+ KB\n"
     ]
    }
   ],
   "source": [
    "# on utilise in double merge:\n",
    "# d'abord les enregistrements communs de \"web\" et de \"lien\", pour éliminer les 20 sku en trop;\n",
    "# ensuite \n",
    "ventes=web.merge(lien,how='inner',on='sku').merge(erp, how='inner',on='product_id')\n",
    "ventes.info()"
   ]
  },
  {
   "cell_type": "code",
   "execution_count": 28,
   "metadata": {},
   "outputs": [],
   "source": [
    "# Suppression des lignes pour lesquelles sku est null\n",
    "ventes.dropna(inplace = True)"
   ]
  },
  {
   "cell_type": "markdown",
   "metadata": {},
   "source": [
    "# Chiffre d'affaire"
   ]
  },
  {
   "cell_type": "markdown",
   "metadata": {},
   "source": [
    "> _Deuxièmement, une fois le rapprochement effectué, je souhaiterais avoir le chiffre d’affaires par produit, ainsi que le total du chiffre d’affaires réalisé en ligne._\n",
    "\n",
    "Avec le dataframe créé à l'étape précédente, qui réunit les données des fichiers fournis, nous pouvons:\n",
    "- obtenir le chiffre d'affaire pour chaque produit;\n",
    "- obtenir le chiffre d'affaire global"
   ]
  },
  {
   "cell_type": "markdown",
   "metadata": {},
   "source": [
    "###  Chiffre d'affaire par produit"
   ]
  },
  {
   "cell_type": "markdown",
   "metadata": {},
   "source": [
    "Prix du produit multiplié par nb de ventes"
   ]
  },
  {
   "cell_type": "code",
   "execution_count": 29,
   "metadata": {},
   "outputs": [
    {
     "name": "stdout",
     "output_type": "stream",
     "text": [
      "<class 'pandas.core.frame.DataFrame'>\n",
      "Int64Index: 714 entries, 0 to 895\n",
      "Data columns (total 8 columns):\n",
      " #   Column          Non-Null Count  Dtype         \n",
      "---  ------          --------------  -----         \n",
      " 0   sku             714 non-null    object        \n",
      " 1   total_sales     714 non-null    float64       \n",
      " 2   post_date       714 non-null    datetime64[ns]\n",
      " 3   post_title      714 non-null    object        \n",
      " 4   product_id      714 non-null    int64         \n",
      " 5   onsale_web      714 non-null    int64         \n",
      " 6   price           714 non-null    float64       \n",
      " 7   stock_quantity  714 non-null    int64         \n",
      "dtypes: datetime64[ns](1), float64(2), int64(3), object(2)\n",
      "memory usage: 50.2+ KB\n"
     ]
    }
   ],
   "source": [
    "ventes.info()"
   ]
  },
  {
   "cell_type": "code",
   "execution_count": 30,
   "metadata": {},
   "outputs": [
    {
     "data": {
      "text/html": [
       "<div>\n",
       "<style scoped>\n",
       "    .dataframe tbody tr th:only-of-type {\n",
       "        vertical-align: middle;\n",
       "    }\n",
       "\n",
       "    .dataframe tbody tr th {\n",
       "        vertical-align: top;\n",
       "    }\n",
       "\n",
       "    .dataframe thead th {\n",
       "        text-align: right;\n",
       "    }\n",
       "</style>\n",
       "<table border=\"1\" class=\"dataframe\">\n",
       "  <thead>\n",
       "    <tr style=\"text-align: right;\">\n",
       "      <th></th>\n",
       "      <th>sku</th>\n",
       "      <th>total_sales</th>\n",
       "      <th>post_date</th>\n",
       "      <th>post_title</th>\n",
       "      <th>product_id</th>\n",
       "      <th>onsale_web</th>\n",
       "      <th>price</th>\n",
       "      <th>stock_quantity</th>\n",
       "      <th>CA_produit</th>\n",
       "    </tr>\n",
       "  </thead>\n",
       "  <tbody>\n",
       "    <tr>\n",
       "      <th>195</th>\n",
       "      <td>7818</td>\n",
       "      <td>96.0</td>\n",
       "      <td>2018-03-01 14:02:44</td>\n",
       "      <td>Champagne Gosset Grand Blanc de Blancs</td>\n",
       "      <td>4334</td>\n",
       "      <td>1</td>\n",
       "      <td>49.0</td>\n",
       "      <td>0</td>\n",
       "      <td>4704.0</td>\n",
       "    </tr>\n",
       "    <tr>\n",
       "      <th>72</th>\n",
       "      <td>1662</td>\n",
       "      <td>87.0</td>\n",
       "      <td>2018-02-13 13:17:25</td>\n",
       "      <td>Champagne Gosset Grand Rosé</td>\n",
       "      <td>4144</td>\n",
       "      <td>1</td>\n",
       "      <td>49.0</td>\n",
       "      <td>11</td>\n",
       "      <td>4263.0</td>\n",
       "    </tr>\n",
       "    <tr>\n",
       "      <th>219</th>\n",
       "      <td>3510</td>\n",
       "      <td>13.0</td>\n",
       "      <td>2018-03-22 11:21:05</td>\n",
       "      <td>Cognac Frapin VIP XO</td>\n",
       "      <td>4402</td>\n",
       "      <td>1</td>\n",
       "      <td>176.0</td>\n",
       "      <td>8</td>\n",
       "      <td>2288.0</td>\n",
       "    </tr>\n",
       "    <tr>\n",
       "      <th>71</th>\n",
       "      <td>11641</td>\n",
       "      <td>30.0</td>\n",
       "      <td>2018-02-13 13:08:44</td>\n",
       "      <td>Champagne Gosset Grand Millésime 2006</td>\n",
       "      <td>4142</td>\n",
       "      <td>1</td>\n",
       "      <td>53.0</td>\n",
       "      <td>8</td>\n",
       "      <td>1590.0</td>\n",
       "    </tr>\n",
       "    <tr>\n",
       "      <th>70</th>\n",
       "      <td>304</td>\n",
       "      <td>40.0</td>\n",
       "      <td>2018-02-13 12:57:44</td>\n",
       "      <td>Champagne Gosset Grande Réserve</td>\n",
       "      <td>4141</td>\n",
       "      <td>1</td>\n",
       "      <td>39.0</td>\n",
       "      <td>1</td>\n",
       "      <td>1560.0</td>\n",
       "    </tr>\n",
       "    <tr>\n",
       "      <th>...</th>\n",
       "      <td>...</td>\n",
       "      <td>...</td>\n",
       "      <td>...</td>\n",
       "      <td>...</td>\n",
       "      <td>...</td>\n",
       "      <td>...</td>\n",
       "      <td>...</td>\n",
       "      <td>...</td>\n",
       "      <td>...</td>\n",
       "    </tr>\n",
       "    <tr>\n",
       "      <th>153</th>\n",
       "      <td>16097</td>\n",
       "      <td>1.0</td>\n",
       "      <td>2018-02-20 10:32:11</td>\n",
       "      <td>Parcé Frères IGP Pays d'Oc Zoé Viognier 2019</td>\n",
       "      <td>4245</td>\n",
       "      <td>1</td>\n",
       "      <td>8.9</td>\n",
       "      <td>141</td>\n",
       "      <td>8.9</td>\n",
       "    </tr>\n",
       "    <tr>\n",
       "      <th>150</th>\n",
       "      <td>14725</td>\n",
       "      <td>1.0</td>\n",
       "      <td>2018-02-20 10:07:09</td>\n",
       "      <td>Parcé Frères IGP Côtes Catalanes Hommage à Fer...</td>\n",
       "      <td>4241</td>\n",
       "      <td>1</td>\n",
       "      <td>8.9</td>\n",
       "      <td>7</td>\n",
       "      <td>8.9</td>\n",
       "    </tr>\n",
       "    <tr>\n",
       "      <th>97</th>\n",
       "      <td>14332</td>\n",
       "      <td>1.0</td>\n",
       "      <td>2018-02-14 16:45:18</td>\n",
       "      <td>Le Hameau Des Ollieux Monsieur Pinot 2017</td>\n",
       "      <td>4171</td>\n",
       "      <td>1</td>\n",
       "      <td>7.8</td>\n",
       "      <td>65</td>\n",
       "      <td>7.8</td>\n",
       "    </tr>\n",
       "    <tr>\n",
       "      <th>441</th>\n",
       "      <td>13531</td>\n",
       "      <td>1.0</td>\n",
       "      <td>2018-07-27 10:21:50</td>\n",
       "      <td>Domaine de Montgilet Anjou Rouge 2016</td>\n",
       "      <td>5056</td>\n",
       "      <td>1</td>\n",
       "      <td>7.5</td>\n",
       "      <td>9</td>\n",
       "      <td>7.5</td>\n",
       "    </tr>\n",
       "    <tr>\n",
       "      <th>360</th>\n",
       "      <td>16342</td>\n",
       "      <td>1.0</td>\n",
       "      <td>2018-05-03 11:37:55</td>\n",
       "      <td>Château Turcaud Bordeaux Rosé 2019</td>\n",
       "      <td>4858</td>\n",
       "      <td>1</td>\n",
       "      <td>6.5</td>\n",
       "      <td>257</td>\n",
       "      <td>6.5</td>\n",
       "    </tr>\n",
       "  </tbody>\n",
       "</table>\n",
       "<p>385 rows × 9 columns</p>\n",
       "</div>"
      ],
      "text/plain": [
       "       sku  total_sales           post_date  \\\n",
       "195   7818         96.0 2018-03-01 14:02:44   \n",
       "72    1662         87.0 2018-02-13 13:17:25   \n",
       "219   3510         13.0 2018-03-22 11:21:05   \n",
       "71   11641         30.0 2018-02-13 13:08:44   \n",
       "70     304         40.0 2018-02-13 12:57:44   \n",
       "..     ...          ...                 ...   \n",
       "153  16097          1.0 2018-02-20 10:32:11   \n",
       "150  14725          1.0 2018-02-20 10:07:09   \n",
       "97   14332          1.0 2018-02-14 16:45:18   \n",
       "441  13531          1.0 2018-07-27 10:21:50   \n",
       "360  16342          1.0 2018-05-03 11:37:55   \n",
       "\n",
       "                                            post_title  product_id  \\\n",
       "195             Champagne Gosset Grand Blanc de Blancs        4334   \n",
       "72                         Champagne Gosset Grand Rosé        4144   \n",
       "219                               Cognac Frapin VIP XO        4402   \n",
       "71               Champagne Gosset Grand Millésime 2006        4142   \n",
       "70                     Champagne Gosset Grande Réserve        4141   \n",
       "..                                                 ...         ...   \n",
       "153       Parcé Frères IGP Pays d'Oc Zoé Viognier 2019        4245   \n",
       "150  Parcé Frères IGP Côtes Catalanes Hommage à Fer...        4241   \n",
       "97           Le Hameau Des Ollieux Monsieur Pinot 2017        4171   \n",
       "441              Domaine de Montgilet Anjou Rouge 2016        5056   \n",
       "360                 Château Turcaud Bordeaux Rosé 2019        4858   \n",
       "\n",
       "     onsale_web  price  stock_quantity  CA_produit  \n",
       "195           1   49.0               0      4704.0  \n",
       "72            1   49.0              11      4263.0  \n",
       "219           1  176.0               8      2288.0  \n",
       "71            1   53.0               8      1590.0  \n",
       "70            1   39.0               1      1560.0  \n",
       "..          ...    ...             ...         ...  \n",
       "153           1    8.9             141         8.9  \n",
       "150           1    8.9               7         8.9  \n",
       "97            1    7.8              65         7.8  \n",
       "441           1    7.5               9         7.5  \n",
       "360           1    6.5             257         6.5  \n",
       "\n",
       "[385 rows x 9 columns]"
      ]
     },
     "execution_count": 30,
     "metadata": {},
     "output_type": "execute_result"
    }
   ],
   "source": [
    "ventes=ventes.assign(CA_produit = ventes.total_sales * ventes.price)\n",
    "\n",
    "# On sélectionne les vins ayant en effet produit un chiffre d'affaire, et on les trie par ordre décroissant\n",
    "(ventes\n",
    " .query('CA_produit > 0')\n",
    " .sort_values(by='CA_produit', ascending = False) \n",
    " )"
   ]
  },
  {
   "cell_type": "markdown",
   "metadata": {},
   "source": [
    "### Chiffre d'affaire total"
   ]
  },
  {
   "cell_type": "markdown",
   "metadata": {},
   "source": [
    "Prix total des produits multiplié par nb de ventes"
   ]
  },
  {
   "cell_type": "code",
   "execution_count": 31,
   "metadata": {},
   "outputs": [
    {
     "name": "stdout",
     "output_type": "stream",
     "text": [
      "Le chiffre d'affaire total est de 70568  €, pour un total de  2865 ventes.\n"
     ]
    }
   ],
   "source": [
    "CA_total = ventes.CA_produit.sum()\n",
    "print ('Le chiffre d\\'affaire total est de'\n",
    "       ,int(CA_total)\n",
    "       ,' €, pour un total de '\n",
    "       ,int(ventes.total_sales.sum())\n",
    "       ,'ventes.')"
   ]
  },
  {
   "cell_type": "markdown",
   "metadata": {},
   "source": [
    "# Valeurs aberrantes dans les prix?"
   ]
  },
  {
   "cell_type": "markdown",
   "metadata": {},
   "source": [
    ">_Troisièmement et pour finir, je me demande s’il n’y a pas eu des erreurs de saisie dans certains prix des produits. J'aimerais que tu effectues une analyse sur cette variable afin de détecter d’éventuelles valeurs aberrantes, de les lister et d’en faire une représentation graphique pour plus de lisibilité._"
   ]
  },
  {
   "cell_type": "markdown",
   "metadata": {},
   "source": [
    "Avant tout, on vérifie que le type de données de la variable \"price\" est constant et cohérent. "
   ]
  },
  {
   "cell_type": "code",
   "execution_count": 32,
   "metadata": {},
   "outputs": [
    {
     "data": {
      "text/plain": [
       "dtype('float64')"
      ]
     },
     "execution_count": 32,
     "metadata": {},
     "output_type": "execute_result"
    }
   ],
   "source": [
    "erp.price.dtype"
   ]
  },
  {
   "cell_type": "markdown",
   "metadata": {},
   "source": [
    "On observe la distribution de la variable \"price\". "
   ]
  },
  {
   "cell_type": "code",
   "execution_count": 33,
   "metadata": {},
   "outputs": [
    {
     "data": {
      "text/plain": [
       "count    825.000000\n",
       "mean      32.415636\n",
       "std       26.795849\n",
       "min        5.200000\n",
       "25%       14.600000\n",
       "50%       24.400000\n",
       "75%       42.000000\n",
       "max      225.000000\n",
       "Name: price, dtype: float64"
      ]
     },
     "execution_count": 33,
     "metadata": {},
     "output_type": "execute_result"
    }
   ],
   "source": [
    "erp.price.describe()"
   ]
  },
  {
   "cell_type": "markdown",
   "metadata": {},
   "source": [
    "A première vue, il n'y a pas vraiment de valeurs aberrantes dans les prix. \n",
    "\n",
    "Mettre en lien avec les ventes?"
   ]
  },
  {
   "cell_type": "code",
   "execution_count": 34,
   "metadata": {},
   "outputs": [
    {
     "data": {
      "text/plain": [
       "381"
      ]
     },
     "execution_count": 34,
     "metadata": {},
     "output_type": "execute_result"
    }
   ],
   "source": [
    "erp.price.nunique()"
   ]
  },
  {
   "cell_type": "code",
   "execution_count": 35,
   "metadata": {},
   "outputs": [
    {
     "name": "stdout",
     "output_type": "stream",
     "text": [
      "<class 'pandas.core.frame.DataFrame'>\n",
      "Int64Index: 17 entries, 200 to 839\n",
      "Data columns (total 9 columns):\n",
      " #   Column          Non-Null Count  Dtype         \n",
      "---  ------          --------------  -----         \n",
      " 0   sku             17 non-null     object        \n",
      " 1   total_sales     17 non-null     float64       \n",
      " 2   post_date       17 non-null     datetime64[ns]\n",
      " 3   post_title      17 non-null     object        \n",
      " 4   product_id      17 non-null     int64         \n",
      " 5   onsale_web      17 non-null     int64         \n",
      " 6   price           17 non-null     float64       \n",
      " 7   stock_quantity  17 non-null     int64         \n",
      " 8   CA_produit      17 non-null     float64       \n",
      "dtypes: datetime64[ns](1), float64(3), int64(3), object(2)\n",
      "memory usage: 1.3+ KB\n"
     ]
    }
   ],
   "source": [
    "std = erp.price.std()\n",
    "moyenne = erp.price.mean()\n",
    "prix_extremes =erp.query('price > (@moyenne + 3*@std)')\n",
    "id_prix_extremes= prix_extremes.product_id\n",
    "df= ventes.query('product_id in @id_prix_extremes')\n",
    "df.info()"
   ]
  },
  {
   "cell_type": "code",
   "execution_count": 36,
   "metadata": {},
   "outputs": [
    {
     "name": "stdout",
     "output_type": "stream",
     "text": [
      "Limite_plus : 112.80318396276799\n"
     ]
    },
    {
     "data": {
      "text/html": [
       "<div>\n",
       "<style scoped>\n",
       "    .dataframe tbody tr th:only-of-type {\n",
       "        vertical-align: middle;\n",
       "    }\n",
       "\n",
       "    .dataframe tbody tr th {\n",
       "        vertical-align: top;\n",
       "    }\n",
       "\n",
       "    .dataframe thead th {\n",
       "        text-align: right;\n",
       "    }\n",
       "</style>\n",
       "<table border=\"1\" class=\"dataframe\">\n",
       "  <thead>\n",
       "    <tr style=\"text-align: right;\">\n",
       "      <th></th>\n",
       "      <th>sku</th>\n",
       "      <th>total_sales</th>\n",
       "      <th>post_date</th>\n",
       "      <th>post_title</th>\n",
       "      <th>product_id</th>\n",
       "      <th>onsale_web</th>\n",
       "      <th>price</th>\n",
       "      <th>stock_quantity</th>\n",
       "      <th>CA_produit</th>\n",
       "    </tr>\n",
       "  </thead>\n",
       "  <tbody>\n",
       "    <tr>\n",
       "      <th>200</th>\n",
       "      <td>15940</td>\n",
       "      <td>5.0</td>\n",
       "      <td>2018-03-02 10:30:04</td>\n",
       "      <td>Champagne Egly-Ouriet Grand Cru Millésimé 2008</td>\n",
       "      <td>4352</td>\n",
       "      <td>1</td>\n",
       "      <td>225.0</td>\n",
       "      <td>0</td>\n",
       "      <td>1125.0</td>\n",
       "    </tr>\n",
       "    <tr>\n",
       "      <th>202</th>\n",
       "      <td>12589</td>\n",
       "      <td>11.0</td>\n",
       "      <td>2018-03-02 10:46:10</td>\n",
       "      <td>Champagne Egly-Ouriet Grand Cru Blanc de Noirs</td>\n",
       "      <td>4355</td>\n",
       "      <td>1</td>\n",
       "      <td>126.5</td>\n",
       "      <td>2</td>\n",
       "      <td>1391.5</td>\n",
       "    </tr>\n",
       "    <tr>\n",
       "      <th>219</th>\n",
       "      <td>3510</td>\n",
       "      <td>13.0</td>\n",
       "      <td>2018-03-22 11:21:05</td>\n",
       "      <td>Cognac Frapin VIP XO</td>\n",
       "      <td>4402</td>\n",
       "      <td>1</td>\n",
       "      <td>176.0</td>\n",
       "      <td>8</td>\n",
       "      <td>2288.0</td>\n",
       "    </tr>\n",
       "    <tr>\n",
       "      <th>222</th>\n",
       "      <td>7819</td>\n",
       "      <td>0.0</td>\n",
       "      <td>2018-03-22 11:42:48</td>\n",
       "      <td>Cognac Frapin Château de Fontpinot 1989 20 Ans...</td>\n",
       "      <td>4406</td>\n",
       "      <td>1</td>\n",
       "      <td>157.0</td>\n",
       "      <td>3</td>\n",
       "      <td>0.0</td>\n",
       "    </tr>\n",
       "    <tr>\n",
       "      <th>382</th>\n",
       "      <td>14220</td>\n",
       "      <td>5.0</td>\n",
       "      <td>2018-05-15 10:23:41</td>\n",
       "      <td>Domaine Des Croix Corton Charlemagne Grand Cru...</td>\n",
       "      <td>4904</td>\n",
       "      <td>1</td>\n",
       "      <td>137.0</td>\n",
       "      <td>13</td>\n",
       "      <td>685.0</td>\n",
       "    </tr>\n",
       "    <tr>\n",
       "      <th>426</th>\n",
       "      <td>14581</td>\n",
       "      <td>0.0</td>\n",
       "      <td>2018-07-17 09:45:39</td>\n",
       "      <td>David Duband Charmes-Chambertin Grand Cru 2014</td>\n",
       "      <td>5001</td>\n",
       "      <td>1</td>\n",
       "      <td>217.5</td>\n",
       "      <td>20</td>\n",
       "      <td>0.0</td>\n",
       "    </tr>\n",
       "    <tr>\n",
       "      <th>693</th>\n",
       "      <td>14915</td>\n",
       "      <td>0.0</td>\n",
       "      <td>2019-01-15 15:30:49</td>\n",
       "      <td>Domaine Weinbach Gewurztraminer Grand Cru Furs...</td>\n",
       "      <td>5612</td>\n",
       "      <td>1</td>\n",
       "      <td>124.8</td>\n",
       "      <td>12</td>\n",
       "      <td>0.0</td>\n",
       "    </tr>\n",
       "    <tr>\n",
       "      <th>735</th>\n",
       "      <td>15185</td>\n",
       "      <td>0.0</td>\n",
       "      <td>2019-03-13 14:43:22</td>\n",
       "      <td>Camille Giroud Clos de Vougeot 2016</td>\n",
       "      <td>5767</td>\n",
       "      <td>1</td>\n",
       "      <td>175.0</td>\n",
       "      <td>12</td>\n",
       "      <td>0.0</td>\n",
       "    </tr>\n",
       "    <tr>\n",
       "      <th>769</th>\n",
       "      <td>14983</td>\n",
       "      <td>3.0</td>\n",
       "      <td>2019-03-28 10:21:36</td>\n",
       "      <td>Coteaux Champenois Egly-Ouriet Ambonnay Rouge ...</td>\n",
       "      <td>5892</td>\n",
       "      <td>1</td>\n",
       "      <td>191.3</td>\n",
       "      <td>10</td>\n",
       "      <td>573.9</td>\n",
       "    </tr>\n",
       "    <tr>\n",
       "      <th>785</th>\n",
       "      <td>14775</td>\n",
       "      <td>0.0</td>\n",
       "      <td>2019-04-04 16:49:37</td>\n",
       "      <td>Wemyss Malts Single Cask Scotch Whisky Choc 'n...</td>\n",
       "      <td>5917</td>\n",
       "      <td>1</td>\n",
       "      <td>122.0</td>\n",
       "      <td>4</td>\n",
       "      <td>0.0</td>\n",
       "    </tr>\n",
       "    <tr>\n",
       "      <th>786</th>\n",
       "      <td>14773</td>\n",
       "      <td>0.0</td>\n",
       "      <td>2019-04-04 17:01:54</td>\n",
       "      <td>Wemyss Malts Single Cask Scotch Whisky Chai Ca...</td>\n",
       "      <td>5918</td>\n",
       "      <td>1</td>\n",
       "      <td>114.0</td>\n",
       "      <td>8</td>\n",
       "      <td>0.0</td>\n",
       "    </tr>\n",
       "    <tr>\n",
       "      <th>824</th>\n",
       "      <td>14923</td>\n",
       "      <td>2.0</td>\n",
       "      <td>2019-06-28 17:22:27</td>\n",
       "      <td>Champagne Gosset Célébris Vintage 2007</td>\n",
       "      <td>6126</td>\n",
       "      <td>1</td>\n",
       "      <td>135.0</td>\n",
       "      <td>10</td>\n",
       "      <td>270.0</td>\n",
       "    </tr>\n",
       "    <tr>\n",
       "      <th>830</th>\n",
       "      <td>15126</td>\n",
       "      <td>0.0</td>\n",
       "      <td>2019-07-23 10:50:24</td>\n",
       "      <td>Domaine Clerget Echezeaux Grand Cru En Orveaux...</td>\n",
       "      <td>6202</td>\n",
       "      <td>1</td>\n",
       "      <td>116.4</td>\n",
       "      <td>14</td>\n",
       "      <td>0.0</td>\n",
       "    </tr>\n",
       "    <tr>\n",
       "      <th>835</th>\n",
       "      <td>13996</td>\n",
       "      <td>2.0</td>\n",
       "      <td>2019-07-25 09:09:17</td>\n",
       "      <td>Domaine des Comtes Lafon Volnay 1er Cru Santen...</td>\n",
       "      <td>6212</td>\n",
       "      <td>1</td>\n",
       "      <td>115.0</td>\n",
       "      <td>2</td>\n",
       "      <td>230.0</td>\n",
       "    </tr>\n",
       "    <tr>\n",
       "      <th>836</th>\n",
       "      <td>15072</td>\n",
       "      <td>0.0</td>\n",
       "      <td>2019-07-25 09:10:32</td>\n",
       "      <td>Domaine des Comtes Lafon Volnay 1er Cru Santen...</td>\n",
       "      <td>6213</td>\n",
       "      <td>1</td>\n",
       "      <td>121.0</td>\n",
       "      <td>7</td>\n",
       "      <td>0.0</td>\n",
       "    </tr>\n",
       "    <tr>\n",
       "      <th>838</th>\n",
       "      <td>12790</td>\n",
       "      <td>0.0</td>\n",
       "      <td>2019-07-25 09:30:16</td>\n",
       "      <td>Domaine des Comtes Lafon Volnay 1er Cru Champa...</td>\n",
       "      <td>6215</td>\n",
       "      <td>1</td>\n",
       "      <td>115.0</td>\n",
       "      <td>4</td>\n",
       "      <td>0.0</td>\n",
       "    </tr>\n",
       "    <tr>\n",
       "      <th>839</th>\n",
       "      <td>15070</td>\n",
       "      <td>0.0</td>\n",
       "      <td>2019-07-25 09:31:09</td>\n",
       "      <td>Domaine des Comtes Lafon Volnay 1er Cru Champa...</td>\n",
       "      <td>6216</td>\n",
       "      <td>1</td>\n",
       "      <td>121.0</td>\n",
       "      <td>6</td>\n",
       "      <td>0.0</td>\n",
       "    </tr>\n",
       "  </tbody>\n",
       "</table>\n",
       "</div>"
      ],
      "text/plain": [
       "       sku  total_sales           post_date  \\\n",
       "200  15940          5.0 2018-03-02 10:30:04   \n",
       "202  12589         11.0 2018-03-02 10:46:10   \n",
       "219   3510         13.0 2018-03-22 11:21:05   \n",
       "222   7819          0.0 2018-03-22 11:42:48   \n",
       "382  14220          5.0 2018-05-15 10:23:41   \n",
       "426  14581          0.0 2018-07-17 09:45:39   \n",
       "693  14915          0.0 2019-01-15 15:30:49   \n",
       "735  15185          0.0 2019-03-13 14:43:22   \n",
       "769  14983          3.0 2019-03-28 10:21:36   \n",
       "785  14775          0.0 2019-04-04 16:49:37   \n",
       "786  14773          0.0 2019-04-04 17:01:54   \n",
       "824  14923          2.0 2019-06-28 17:22:27   \n",
       "830  15126          0.0 2019-07-23 10:50:24   \n",
       "835  13996          2.0 2019-07-25 09:09:17   \n",
       "836  15072          0.0 2019-07-25 09:10:32   \n",
       "838  12790          0.0 2019-07-25 09:30:16   \n",
       "839  15070          0.0 2019-07-25 09:31:09   \n",
       "\n",
       "                                            post_title  product_id  \\\n",
       "200     Champagne Egly-Ouriet Grand Cru Millésimé 2008        4352   \n",
       "202     Champagne Egly-Ouriet Grand Cru Blanc de Noirs        4355   \n",
       "219                               Cognac Frapin VIP XO        4402   \n",
       "222  Cognac Frapin Château de Fontpinot 1989 20 Ans...        4406   \n",
       "382  Domaine Des Croix Corton Charlemagne Grand Cru...        4904   \n",
       "426     David Duband Charmes-Chambertin Grand Cru 2014        5001   \n",
       "693  Domaine Weinbach Gewurztraminer Grand Cru Furs...        5612   \n",
       "735                Camille Giroud Clos de Vougeot 2016        5767   \n",
       "769  Coteaux Champenois Egly-Ouriet Ambonnay Rouge ...        5892   \n",
       "785  Wemyss Malts Single Cask Scotch Whisky Choc 'n...        5917   \n",
       "786  Wemyss Malts Single Cask Scotch Whisky Chai Ca...        5918   \n",
       "824             Champagne Gosset Célébris Vintage 2007        6126   \n",
       "830  Domaine Clerget Echezeaux Grand Cru En Orveaux...        6202   \n",
       "835  Domaine des Comtes Lafon Volnay 1er Cru Santen...        6212   \n",
       "836  Domaine des Comtes Lafon Volnay 1er Cru Santen...        6213   \n",
       "838  Domaine des Comtes Lafon Volnay 1er Cru Champa...        6215   \n",
       "839  Domaine des Comtes Lafon Volnay 1er Cru Champa...        6216   \n",
       "\n",
       "     onsale_web  price  stock_quantity  CA_produit  \n",
       "200           1  225.0               0      1125.0  \n",
       "202           1  126.5               2      1391.5  \n",
       "219           1  176.0               8      2288.0  \n",
       "222           1  157.0               3         0.0  \n",
       "382           1  137.0              13       685.0  \n",
       "426           1  217.5              20         0.0  \n",
       "693           1  124.8              12         0.0  \n",
       "735           1  175.0              12         0.0  \n",
       "769           1  191.3              10       573.9  \n",
       "785           1  122.0               4         0.0  \n",
       "786           1  114.0               8         0.0  \n",
       "824           1  135.0              10       270.0  \n",
       "830           1  116.4              14         0.0  \n",
       "835           1  115.0               2       230.0  \n",
       "836           1  121.0               7         0.0  \n",
       "838           1  115.0               4         0.0  \n",
       "839           1  121.0               6         0.0  "
      ]
     },
     "execution_count": 36,
     "metadata": {},
     "output_type": "execute_result"
    }
   ],
   "source": [
    "std = erp.price.std()\n",
    "moyenne = erp.price.mean()\n",
    "limite_plus = 3*std + moyenne \n",
    "print('Limite_plus :',limite_plus)\n",
    "prix_extremes_plus =ventes.query('price > @limite_plus')\n",
    "prix_extremes_plus"
   ]
  },
  {
   "cell_type": "code",
   "execution_count": 37,
   "metadata": {},
   "outputs": [
    {
     "data": {
      "text/plain": [
       "['Champagne Egly-Ouriet Grand Cru Millésimé 2008',\n",
       " 'Champagne Egly-Ouriet Grand Cru Blanc de Noirs',\n",
       " 'Cognac Frapin VIP XO',\n",
       " \"Cognac Frapin Château de Fontpinot 1989 20 Ans d'Age\",\n",
       " 'Domaine Des Croix Corton Charlemagne Grand Cru 2016',\n",
       " 'David Duband Charmes-Chambertin Grand Cru 2014',\n",
       " 'Domaine Weinbach Gewurztraminer Grand Cru Furstentum SGN 2010 1/2',\n",
       " 'Camille Giroud Clos de Vougeot 2016',\n",
       " 'Coteaux Champenois Egly-Ouriet Ambonnay Rouge 2016',\n",
       " \"Wemyss Malts Single Cask Scotch Whisky Choc 'n' Nut Pretzel 2001 Bunnahabhain\",\n",
       " 'Wemyss Malts Single Cask Scotch Whisky Chai Caramel Latte 2002 Craigellachie',\n",
       " 'Champagne Gosset Célébris Vintage 2007',\n",
       " 'Domaine Clerget Echezeaux Grand Cru En Orveaux 2015',\n",
       " 'Domaine des Comtes Lafon Volnay 1er Cru Santenots du Milieu 2015',\n",
       " 'Domaine des Comtes Lafon Volnay 1er Cru Santenots du Milieu 2016',\n",
       " 'Domaine des Comtes Lafon Volnay 1er Cru Champans 2014',\n",
       " 'Domaine des Comtes Lafon Volnay 1er Cru Champans 2016']"
      ]
     },
     "execution_count": 37,
     "metadata": {},
     "output_type": "execute_result"
    }
   ],
   "source": [
    "prix_extremes_plus.post_title.tolist()"
   ]
  },
  {
   "cell_type": "code",
   "execution_count": 38,
   "metadata": {
    "scrolled": true
   },
   "outputs": [
    {
     "data": {
      "text/html": [
       "<div>\n",
       "<style scoped>\n",
       "    .dataframe tbody tr th:only-of-type {\n",
       "        vertical-align: middle;\n",
       "    }\n",
       "\n",
       "    .dataframe tbody tr th {\n",
       "        vertical-align: top;\n",
       "    }\n",
       "\n",
       "    .dataframe thead th {\n",
       "        text-align: right;\n",
       "    }\n",
       "</style>\n",
       "<table border=\"1\" class=\"dataframe\">\n",
       "  <thead>\n",
       "    <tr style=\"text-align: right;\">\n",
       "      <th></th>\n",
       "      <th>sku</th>\n",
       "      <th>total_sales</th>\n",
       "      <th>post_date</th>\n",
       "      <th>post_title</th>\n",
       "      <th>product_id</th>\n",
       "      <th>onsale_web</th>\n",
       "      <th>price</th>\n",
       "      <th>stock_quantity</th>\n",
       "      <th>CA_produit</th>\n",
       "    </tr>\n",
       "  </thead>\n",
       "  <tbody>\n",
       "    <tr>\n",
       "      <th>200</th>\n",
       "      <td>15940</td>\n",
       "      <td>5.0</td>\n",
       "      <td>2018-03-02 10:30:04</td>\n",
       "      <td>Champagne Egly-Ouriet Grand Cru Millésimé 2008</td>\n",
       "      <td>4352</td>\n",
       "      <td>1</td>\n",
       "      <td>225.0</td>\n",
       "      <td>0</td>\n",
       "      <td>1125.0</td>\n",
       "    </tr>\n",
       "  </tbody>\n",
       "</table>\n",
       "</div>"
      ],
      "text/plain": [
       "       sku  total_sales           post_date  \\\n",
       "200  15940          5.0 2018-03-02 10:30:04   \n",
       "\n",
       "                                         post_title  product_id  onsale_web  \\\n",
       "200  Champagne Egly-Ouriet Grand Cru Millésimé 2008        4352           1   \n",
       "\n",
       "     price  stock_quantity  CA_produit  \n",
       "200  225.0               0      1125.0  "
      ]
     },
     "execution_count": 38,
     "metadata": {},
     "output_type": "execute_result"
    }
   ],
   "source": [
    "# Le produit le plus cher:\n",
    "ventes.query('price == @ventes.price.max()')"
   ]
  },
  {
   "cell_type": "code",
   "execution_count": 39,
   "metadata": {},
   "outputs": [
    {
     "data": {
      "text/html": [
       "<div>\n",
       "<style scoped>\n",
       "    .dataframe tbody tr th:only-of-type {\n",
       "        vertical-align: middle;\n",
       "    }\n",
       "\n",
       "    .dataframe tbody tr th {\n",
       "        vertical-align: top;\n",
       "    }\n",
       "\n",
       "    .dataframe thead th {\n",
       "        text-align: right;\n",
       "    }\n",
       "</style>\n",
       "<table border=\"1\" class=\"dataframe\">\n",
       "  <thead>\n",
       "    <tr style=\"text-align: right;\">\n",
       "      <th></th>\n",
       "      <th>sku</th>\n",
       "      <th>total_sales</th>\n",
       "      <th>post_date</th>\n",
       "      <th>post_title</th>\n",
       "      <th>product_id</th>\n",
       "      <th>onsale_web</th>\n",
       "      <th>price</th>\n",
       "      <th>stock_quantity</th>\n",
       "      <th>CA_produit</th>\n",
       "    </tr>\n",
       "  </thead>\n",
       "  <tbody>\n",
       "    <tr>\n",
       "      <th>827</th>\n",
       "      <td>14570</td>\n",
       "      <td>0.0</td>\n",
       "      <td>2019-06-28 18:01:06</td>\n",
       "      <td>Moulin de Gassac IGP Pays d'Hérault Guilhem Bl...</td>\n",
       "      <td>6129</td>\n",
       "      <td>1</td>\n",
       "      <td>5.2</td>\n",
       "      <td>30</td>\n",
       "      <td>0.0</td>\n",
       "    </tr>\n",
       "  </tbody>\n",
       "</table>\n",
       "</div>"
      ],
      "text/plain": [
       "       sku  total_sales           post_date  \\\n",
       "827  14570          0.0 2019-06-28 18:01:06   \n",
       "\n",
       "                                            post_title  product_id  \\\n",
       "827  Moulin de Gassac IGP Pays d'Hérault Guilhem Bl...        6129   \n",
       "\n",
       "     onsale_web  price  stock_quantity  CA_produit  \n",
       "827           1    5.2              30         0.0  "
      ]
     },
     "execution_count": 39,
     "metadata": {},
     "output_type": "execute_result"
    }
   ],
   "source": [
    "# Le produit le moins cher:\n",
    "ventes.query('price == @ventes.price.min()')"
   ]
  },
  {
   "cell_type": "code",
   "execution_count": 40,
   "metadata": {
    "scrolled": true
   },
   "outputs": [],
   "source": [
    "import seaborn as sns\n",
    "sns.set()\n",
    "\n"
   ]
  },
  {
   "cell_type": "code",
   "execution_count": 41,
   "metadata": {
    "scrolled": true
   },
   "outputs": [
    {
     "data": {
      "text/plain": [
       "<seaborn.axisgrid.FacetGrid at 0x7fc929d78520>"
      ]
     },
     "execution_count": 41,
     "metadata": {},
     "output_type": "execute_result"
    },
    {
     "data": {
      "image/png": "[encoded data removed]",
      "text/plain": [
       "<Figure size 360x360 with 1 Axes>"
      ]
     },
     "metadata": {},
     "output_type": "display_data"
    }
   ],
   "source": [
    "#sns.displot(data=ventes, x='price')\n",
    "sns.displot(data=erp\n",
    "             , x='price'\n",
    "            ,color = 'crimson'\n",
    "            #,alpha = 0.8\n",
    "            #,bins = 100\n",
    "            #,binwidth = 1\n",
    "            ,kde = True          \n",
    "            )"
   ]
  },
  {
   "cell_type": "markdown",
   "metadata": {},
   "source": [
    "On constate que la majorité des vins vendus coûte moins de 50€.\n",
    "\n",
    "Bien que certains produits se vendent à plus de 200€ (225€ étant le prix maximum), cela __ne semble pas aberrant__, mais, bien au contraire, plutôt cohérent avec le type de produit.  "
   ]
  },
  {
   "cell_type": "code",
   "execution_count": 42,
   "metadata": {},
   "outputs": [
    {
     "data": {
      "text/plain": [
       "<AxesSubplot:xlabel='price', ylabel='total_sales'>"
      ]
     },
     "execution_count": 42,
     "metadata": {},
     "output_type": "execute_result"
    },
    {
     "data": {
      "image/png": "[encoded data removed]",
      "text/plain": [
       "<Figure size 720x576 with 1 Axes>"
      ]
     },
     "metadata": {},
     "output_type": "display_data"
    }
   ],
   "source": [
    "import matplotlib.pyplot as plt\n",
    "\n",
    "fig, scatter= plt.subplots(figsize=(10,8))\n",
    "sns.scatterplot(data=ventes\n",
    "             , x='price'\n",
    "             ,y ='total_sales'   \n",
    "            #,color = 'crimson'\n",
    "            #,alpha = 0.8\n",
    "            #,bins = 100\n",
    "            #,binwidth = 1\n",
    "            #,kde = True          \n",
    "            )"
   ]
  },
  {
   "cell_type": "markdown",
   "metadata": {},
   "source": [
    "# Conclusion"
   ]
  },
  {
   "cell_type": "markdown",
   "metadata": {},
   "source": [
    "Voici les problèmes qui ont été relevés:\n",
    "\n",
    "- le fichier de la boutique en ligne a doublé les lignes;\n",
    "\n",
    "- incohérence entre le stock indiqué (0) et le statut ('in stock') pour le produit dont le product_id est 4954;\n",
    "\n",
    "- certaines références n'ont pas de sku (_Pierre Jean Villa Côte Rôtie Fongeant 2017_ et _Pierre Jean Villa Condrieu Jardin Suspendu 2018_)"
   ]
  },
  {
   "cell_type": "code",
   "execution_count": null,
   "metadata": {},
   "outputs": [],
   "source": []
  }
 ],
 "metadata": {
  "kernelspec": {
   "display_name": "Python 3 (ipykernel)",
   "language": "python",
   "name": "python3"
  },
  "language_info": {
   "codemirror_mode": {
    "name": "ipython",
    "version": 3
   },
   "file_extension": ".py",
   "mimetype": "text/x-python",
   "name": "python",
   "nbconvert_exporter": "python",
   "pygments_lexer": "ipython3",
   "version": "3.9.7"
  }
 },
 "nbformat": 4,
 "nbformat_minor": 4
}
