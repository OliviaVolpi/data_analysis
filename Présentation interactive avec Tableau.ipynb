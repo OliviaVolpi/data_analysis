{
 "cells": [
  {
   "cell_type": "markdown",
   "id": "fc95b306",
   "metadata": {},
   "source": [
    "# Présentation interactive avec Tableau"
   ]
  },
  {
   "cell_type": "markdown",
   "id": "681491f6",
   "metadata": {},
   "source": [
    "## Contexte\n",
    "\n",
    "Réaliser un __dashboard présentant une vue globale de l’accès à l’eau potable dans le monde__, en se basant sur les données en accès public de la FAO et de l'OMS. \n",
    "\n",
    "\n",
    "\n",
    "## Attendus\n",
    "\n",
    "1. une vue __mondiale__ avec une agrégation des indicateurs au niveau mondial ; \n",
    "2. une vue __continentale__ avec les indicateurs agrégés pour le continent sélectionné par l’utilisateur ;  ",
    "\n",
    "3. une vue __nationale__ avec les indicateurs pour le pays sélectionné par l’utilisateur.  ",
    "\n",
    "\n",
    "\n",
    "Les vues doivent reprendre les indcateurs suivants:\n",
    "\n",
    "-\tle taux de mortalité dû à de l’eau insalubre ; \n",
    "-\tla population / densité de population ; \n",
    "-\tla part d’habitants ayant accès à l’eau potable ; \n",
    "-\tla stabilité politique du pays. \n",
    "-\tl’évolution de ces facteurs dans le temps. \n",
    "    \n",
    "## Contraintes\n",
    "\n",
    "- Pour pouvoir exclure les pays dont l’instabilité politique est trop forte, il faudrait que le tableau de bord inclue un __filtre (modifiable par l’utilisateur)__ pour exclure les pays trop instables.  \n",
    "- Pour les indicateurs combinant 2 variables, il faudrait afficher un __nuage de points__. \n",
    "- Il est important de voir l’__évolution de certains indicateurs dans le temps__. \n",
    "- La __palette « Bleu »__, en cohérence avec la couleur de l’eau, devra être utilisée sur Tableau. \n",
    "\n",
    "## Lien\n",
    "\n",
    "https://public.tableau.com/app/profile/j1260/viz/Book12_16335273706170/Story3"
   ]
  },
  {
   "cell_type": "code",
   "execution_count": null,
   "id": "0aa981c5",
   "metadata": {},
   "outputs": [],
   "source": []
  }
 ],
 "metadata": {
  "kernelspec": {
   "display_name": "Python 3 (ipykernel)",
   "language": "python",
   "name": "python3"
  },
  "language_info": {
   "codemirror_mode": {
    "name": "ipython",
    "version": 3
   },
   "file_extension": ".py",
   "mimetype": "text/x-python",
   "name": "python",
   "nbconvert_exporter": "python",
   "pygments_lexer": "ipython3",
   "version": "3.9.7"
  }
 },
 "nbformat": 4,
 "nbformat_minor": 5
}
